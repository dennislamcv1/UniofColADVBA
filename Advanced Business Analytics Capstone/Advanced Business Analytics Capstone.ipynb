{
 "cells": [
  {
   "cell_type": "markdown",
   "metadata": {},
   "source": [
    "# Advanced Business Analytics Capstone"
   ]
  },
  {
   "cell_type": "markdown",
   "metadata": {},
   "source": [
    "***"
   ]
  },
  {
   "cell_type": "markdown",
   "metadata": {},
   "source": [
    "### Markdown Guides"
   ]
  },
  {
   "cell_type": "markdown",
   "metadata": {},
   "source": [
    "> This is a blockquote.\n",
    "\n",
    "Some of these words *are emphasized*.\n",
    "\n",
    "Use two asterisks for **strong emphasis**.\n",
    "\n",
    "*   Another item in the list.\n",
    "\n",
    "This is an [example link](http://example.com/).\n",
    "\n",
    "$x = x + y$\n",
    "\n",
    "[text to appear as link](#linkhandle)\n",
    "\n",
    "Images inline\n",
    "![image](https://imgbbb.com/images/2019/12/18/Screenshot-2019-12-18-at-12.55.36-PM.png)"
   ]
  },
  {
   "cell_type": "markdown",
   "metadata": {},
   "source": [
    "## Project Description"
   ]
  },
  {
   "cell_type": "markdown",
   "metadata": {},
   "source": [
    "Lending Club is a peer-to-peer lending company, headquartered in San Francisco, California. The company provides the world's largest peer-to-peer lending platform, where borrowers can obtain unsecured personal loans between $1,000 and $40,000, and investors can purchase notes backed by payments made on loans. Investors can search and browse the loan listings on the Lending Club website and select loans that they want to invest in based on the information supplied about the borrower, amount of loan, loan grade, and loan purpose. Investors make money from interest. Lending Club makes money by charging borrowers an origination fee and investors a service fee. Lending Club went public in the year 2014 (stock symbol LC). As of February 2016, it has a market capitalization of about 2.5 billion dollars."
   ]
  },
  {
   "cell_type": "markdown",
   "metadata": {},
   "source": [
    "An investment company is planning to invest $10 million with Lending Club. You are hired as a consultant to help the company choose the loans they invest in. The file data.xlxs contains loan data downloaded from https://www.lendingclub.com/info/download-data.action. Lending Club provides detailed loan data since 2007. In order to limit the scope of the project, the data file contains the data from the year 2015 and only 36-month loans for credit card debt. Your client asked you to analyze these loans as they consider them the primary investment target. There are 7151 rows of 16 variables in the dataset. Here is a brief explanation of the different columns based on the data dictionary provided by Lending Club."
   ]
  },
  {
   "cell_type": "markdown",
   "metadata": {},
   "source": [
    "## Data Dictionary"
   ]
  },
  {
   "cell_type": "markdown",
   "metadata": {},
   "source": [
    "![image](DAB-Capstone-Table-1.png)"
   ]
  },
  {
   "cell_type": "markdown",
   "metadata": {},
   "source": [
    "## Import Libraries"
   ]
  },
  {
   "cell_type": "code",
   "execution_count": 1,
   "metadata": {},
   "outputs": [
    {
     "data": {
      "application/javascript": [
       "IPython.notebook.set_autosave_interval(60000)"
      ]
     },
     "metadata": {},
     "output_type": "display_data"
    },
    {
     "name": "stdout",
     "output_type": "stream",
     "text": [
      "Autosaving every 60 seconds\n"
     ]
    }
   ],
   "source": [
    "import numpy as np\n",
    "import pandas as pd\n",
    "import matplotlib.pyplot as plt\n",
    "import seaborn as sns\n",
    "import plotly.express as px\n",
    "import random\n",
    "\n",
    "import sklearn\n",
    "import statsmodels.api as sm\n",
    "\n",
    "import datetime\n",
    "from datetime import datetime, timedelta\n",
    "\n",
    "\n",
    "import scipy.stats\n",
    "\n",
    "%matplotlib inline\n",
    "#sets the default autosave frequency in seconds\n",
    "%autosave 60 \n",
    "sns.set_style('dark')\n",
    "sns.set(font_scale=1.2)\n",
    "\n",
    "plt.rc('axes', labelsize=14)\n",
    "plt.rc('xtick', labelsize=12)\n",
    "plt.rc('ytick', labelsize=12)\n",
    "\n",
    "from sklearn.linear_model import LogisticRegression, LinearRegression\n",
    "from sklearn.tree import DecisionTreeClassifier, plot_tree\n",
    "from sklearn.neural_network import MLPClassifier\n",
    "\n",
    "from sklearn.model_selection import cross_val_score, train_test_split, GridSearchCV, RandomizedSearchCV\n",
    "from sklearn.model_selection import cross_validate, KFold, RepeatedStratifiedKFold\n",
    "from sklearn.preprocessing import LabelEncoder, StandardScaler, MinMaxScaler, OneHotEncoder\n",
    "#from sklearn.pipeline import Pipeline\n",
    "#from sklearn.feature_selection import RFE, RFECV, SelectKBest, f_classif, f_regression, chi2\n",
    "#from sklearn.inspection import permutation_importance\n",
    "\n",
    "from sklearn.tree import export_graphviz, plot_tree\n",
    "from sklearn.metrics import confusion_matrix, classification_report, mean_absolute_error, mean_squared_error,r2_score\n",
    "from sklearn.metrics import plot_confusion_matrix, plot_precision_recall_curve, plot_roc_curve, accuracy_score\n",
    "from sklearn.metrics import auc, f1_score, precision_score, recall_score, roc_auc_score\n",
    "\n",
    "import warnings\n",
    "warnings.filterwarnings('ignore')\n",
    "\n",
    "# Use Feature-Engine library\n",
    "\n",
    "#import feature_engine.missing_data_imputers as mdi\n",
    "from feature_engine.outliers import Winsorizer\n",
    "#from feature_engine import categorical_encoders as ce\n",
    "\n",
    "\n",
    "\n",
    "#from pycaret.clustering import *\n",
    "#from pycaret.regression import *\n",
    "\n",
    "pd.set_option('display.max_columns',None)\n",
    "#pd.set_option('display.max_rows',100)\n",
    "pd.set_option('display.width', 1000)\n",
    "pd.set_option('display.float_format','{:.2f}'.format)\n",
    "\n",
    "\n",
    "random.seed(0)\n",
    "np.random.seed(0)\n",
    "np.set_printoptions(suppress=True)"
   ]
  },
  {
   "cell_type": "markdown",
   "metadata": {},
   "source": [
    "## Module 1 - Understand the data and prepare your data for analysis"
   ]
  },
  {
   "cell_type": "code",
   "execution_count": 2,
   "metadata": {},
   "outputs": [],
   "source": [
    "df = pd.read_csv(\"data-capstone-project.csv\")"
   ]
  },
  {
   "cell_type": "code",
   "execution_count": 3,
   "metadata": {},
   "outputs": [
    {
     "data": {
      "text/html": [
       "<div>\n",
       "<style scoped>\n",
       "    .dataframe tbody tr th:only-of-type {\n",
       "        vertical-align: middle;\n",
       "    }\n",
       "\n",
       "    .dataframe tbody tr th {\n",
       "        vertical-align: top;\n",
       "    }\n",
       "\n",
       "    .dataframe thead th {\n",
       "        text-align: right;\n",
       "    }\n",
       "</style>\n",
       "<table border=\"1\" class=\"dataframe\">\n",
       "  <thead>\n",
       "    <tr style=\"text-align: right;\">\n",
       "      <th></th>\n",
       "      <th>id</th>\n",
       "      <th>member_id</th>\n",
       "      <th>term</th>\n",
       "      <th>purpose</th>\n",
       "      <th>loan_status</th>\n",
       "      <th>loan_amnt</th>\n",
       "      <th>int_rate</th>\n",
       "      <th>installment</th>\n",
       "      <th>home_ownership</th>\n",
       "      <th>annual_inc</th>\n",
       "      <th>verification_status</th>\n",
       "      <th>revol_bal</th>\n",
       "      <th>revol_util</th>\n",
       "      <th>total_acc</th>\n",
       "      <th>acc_open_past_24mths</th>\n",
       "      <th>total_pymnt</th>\n",
       "    </tr>\n",
       "  </thead>\n",
       "  <tbody>\n",
       "    <tr>\n",
       "      <th>0</th>\n",
       "      <td>62286683</td>\n",
       "      <td>66483442</td>\n",
       "      <td>36 months</td>\n",
       "      <td>credit_card</td>\n",
       "      <td>Fully Paid</td>\n",
       "      <td>24000</td>\n",
       "      <td>7.89</td>\n",
       "      <td>750.86</td>\n",
       "      <td>MORTGAGE</td>\n",
       "      <td>237500.00</td>\n",
       "      <td>Source Verified</td>\n",
       "      <td>28279</td>\n",
       "      <td>36.90</td>\n",
       "      <td>25</td>\n",
       "      <td>5</td>\n",
       "      <td>24948.45</td>\n",
       "    </tr>\n",
       "    <tr>\n",
       "      <th>1</th>\n",
       "      <td>46314315</td>\n",
       "      <td>49422035</td>\n",
       "      <td>36 months</td>\n",
       "      <td>credit_card</td>\n",
       "      <td>Fully Paid</td>\n",
       "      <td>8000</td>\n",
       "      <td>6.68</td>\n",
       "      <td>245.85</td>\n",
       "      <td>RENT</td>\n",
       "      <td>41000.00</td>\n",
       "      <td>Not Verified</td>\n",
       "      <td>24377</td>\n",
       "      <td>51.00</td>\n",
       "      <td>29</td>\n",
       "      <td>2</td>\n",
       "      <td>8351.63</td>\n",
       "    </tr>\n",
       "    <tr>\n",
       "      <th>2</th>\n",
       "      <td>51317198</td>\n",
       "      <td>54726945</td>\n",
       "      <td>36 months</td>\n",
       "      <td>credit_card</td>\n",
       "      <td>Fully Paid</td>\n",
       "      <td>12175</td>\n",
       "      <td>9.17</td>\n",
       "      <td>388.13</td>\n",
       "      <td>MORTGAGE</td>\n",
       "      <td>100000.00</td>\n",
       "      <td>Not Verified</td>\n",
       "      <td>21329</td>\n",
       "      <td>64.60</td>\n",
       "      <td>17</td>\n",
       "      <td>3</td>\n",
       "      <td>13205.91</td>\n",
       "    </tr>\n",
       "    <tr>\n",
       "      <th>3</th>\n",
       "      <td>42984750</td>\n",
       "      <td>45981489</td>\n",
       "      <td>36 months</td>\n",
       "      <td>credit_card</td>\n",
       "      <td>Charged Off</td>\n",
       "      <td>6400</td>\n",
       "      <td>6.92</td>\n",
       "      <td>197.38</td>\n",
       "      <td>RENT</td>\n",
       "      <td>41900.00</td>\n",
       "      <td>Source Verified</td>\n",
       "      <td>14936</td>\n",
       "      <td>73.20</td>\n",
       "      <td>15</td>\n",
       "      <td>1</td>\n",
       "      <td>3550.38</td>\n",
       "    </tr>\n",
       "    <tr>\n",
       "      <th>4</th>\n",
       "      <td>42181434</td>\n",
       "      <td>45138158</td>\n",
       "      <td>36 months</td>\n",
       "      <td>credit_card</td>\n",
       "      <td>Fully Paid</td>\n",
       "      <td>12600</td>\n",
       "      <td>6.68</td>\n",
       "      <td>387.22</td>\n",
       "      <td>OWN</td>\n",
       "      <td>73800.00</td>\n",
       "      <td>Not Verified</td>\n",
       "      <td>9904</td>\n",
       "      <td>20.70</td>\n",
       "      <td>25</td>\n",
       "      <td>4</td>\n",
       "      <td>13125.77</td>\n",
       "    </tr>\n",
       "    <tr>\n",
       "      <th>...</th>\n",
       "      <td>...</td>\n",
       "      <td>...</td>\n",
       "      <td>...</td>\n",
       "      <td>...</td>\n",
       "      <td>...</td>\n",
       "      <td>...</td>\n",
       "      <td>...</td>\n",
       "      <td>...</td>\n",
       "      <td>...</td>\n",
       "      <td>...</td>\n",
       "      <td>...</td>\n",
       "      <td>...</td>\n",
       "      <td>...</td>\n",
       "      <td>...</td>\n",
       "      <td>...</td>\n",
       "      <td>...</td>\n",
       "    </tr>\n",
       "    <tr>\n",
       "      <th>7146</th>\n",
       "      <td>38332310</td>\n",
       "      <td>41116076</td>\n",
       "      <td>36 months</td>\n",
       "      <td>credit_card</td>\n",
       "      <td>Fully Paid</td>\n",
       "      <td>5000</td>\n",
       "      <td>17.14</td>\n",
       "      <td>178.62</td>\n",
       "      <td>MORTGAGE</td>\n",
       "      <td>32500.00</td>\n",
       "      <td>Verified</td>\n",
       "      <td>9600</td>\n",
       "      <td>55.80</td>\n",
       "      <td>37</td>\n",
       "      <td>9</td>\n",
       "      <td>5616.01</td>\n",
       "    </tr>\n",
       "    <tr>\n",
       "      <th>7147</th>\n",
       "      <td>45374391</td>\n",
       "      <td>48482120</td>\n",
       "      <td>36 months</td>\n",
       "      <td>credit_card</td>\n",
       "      <td>Fully Paid</td>\n",
       "      <td>5000</td>\n",
       "      <td>8.18</td>\n",
       "      <td>157.10</td>\n",
       "      <td>OWN</td>\n",
       "      <td>60000.00</td>\n",
       "      <td>Not Verified</td>\n",
       "      <td>17667</td>\n",
       "      <td>67.90</td>\n",
       "      <td>21</td>\n",
       "      <td>2</td>\n",
       "      <td>5334.51</td>\n",
       "    </tr>\n",
       "    <tr>\n",
       "      <th>7148</th>\n",
       "      <td>60771081</td>\n",
       "      <td>64812826</td>\n",
       "      <td>36 months</td>\n",
       "      <td>credit_card</td>\n",
       "      <td>Fully Paid</td>\n",
       "      <td>13800</td>\n",
       "      <td>8.18</td>\n",
       "      <td>433.59</td>\n",
       "      <td>MORTGAGE</td>\n",
       "      <td>94000.00</td>\n",
       "      <td>Source Verified</td>\n",
       "      <td>16419</td>\n",
       "      <td>55.80</td>\n",
       "      <td>31</td>\n",
       "      <td>9</td>\n",
       "      <td>14187.91</td>\n",
       "    </tr>\n",
       "    <tr>\n",
       "      <th>7149</th>\n",
       "      <td>40420518</td>\n",
       "      <td>43285242</td>\n",
       "      <td>36 months</td>\n",
       "      <td>credit_card</td>\n",
       "      <td>Fully Paid</td>\n",
       "      <td>19175</td>\n",
       "      <td>17.14</td>\n",
       "      <td>684.98</td>\n",
       "      <td>MORTGAGE</td>\n",
       "      <td>80000.00</td>\n",
       "      <td>Not Verified</td>\n",
       "      <td>46559</td>\n",
       "      <td>71.10</td>\n",
       "      <td>24</td>\n",
       "      <td>6</td>\n",
       "      <td>22197.23</td>\n",
       "    </tr>\n",
       "    <tr>\n",
       "      <th>7150</th>\n",
       "      <td>48736410</td>\n",
       "      <td>51985202</td>\n",
       "      <td>36 months</td>\n",
       "      <td>credit_card</td>\n",
       "      <td>Fully Paid</td>\n",
       "      <td>4400</td>\n",
       "      <td>13.33</td>\n",
       "      <td>148.96</td>\n",
       "      <td>RENT</td>\n",
       "      <td>42000.00</td>\n",
       "      <td>Verified</td>\n",
       "      <td>3810</td>\n",
       "      <td>30.00</td>\n",
       "      <td>16</td>\n",
       "      <td>9</td>\n",
       "      <td>4931.39</td>\n",
       "    </tr>\n",
       "  </tbody>\n",
       "</table>\n",
       "<p>7151 rows × 16 columns</p>\n",
       "</div>"
      ],
      "text/plain": [
       "            id  member_id        term      purpose  loan_status  loan_amnt  int_rate  installment home_ownership  annual_inc verification_status  revol_bal  revol_util  total_acc  acc_open_past_24mths  total_pymnt\n",
       "0     62286683   66483442   36 months  credit_card   Fully Paid      24000      7.89       750.86       MORTGAGE   237500.00     Source Verified      28279       36.90         25                     5     24948.45\n",
       "1     46314315   49422035   36 months  credit_card   Fully Paid       8000      6.68       245.85           RENT    41000.00        Not Verified      24377       51.00         29                     2      8351.63\n",
       "2     51317198   54726945   36 months  credit_card   Fully Paid      12175      9.17       388.13       MORTGAGE   100000.00        Not Verified      21329       64.60         17                     3     13205.91\n",
       "3     42984750   45981489   36 months  credit_card  Charged Off       6400      6.92       197.38           RENT    41900.00     Source Verified      14936       73.20         15                     1      3550.38\n",
       "4     42181434   45138158   36 months  credit_card   Fully Paid      12600      6.68       387.22            OWN    73800.00        Not Verified       9904       20.70         25                     4     13125.77\n",
       "...        ...        ...         ...          ...          ...        ...       ...          ...            ...         ...                 ...        ...         ...        ...                   ...          ...\n",
       "7146  38332310   41116076   36 months  credit_card   Fully Paid       5000     17.14       178.62       MORTGAGE    32500.00            Verified       9600       55.80         37                     9      5616.01\n",
       "7147  45374391   48482120   36 months  credit_card   Fully Paid       5000      8.18       157.10            OWN    60000.00        Not Verified      17667       67.90         21                     2      5334.51\n",
       "7148  60771081   64812826   36 months  credit_card   Fully Paid      13800      8.18       433.59       MORTGAGE    94000.00     Source Verified      16419       55.80         31                     9     14187.91\n",
       "7149  40420518   43285242   36 months  credit_card   Fully Paid      19175     17.14       684.98       MORTGAGE    80000.00        Not Verified      46559       71.10         24                     6     22197.23\n",
       "7150  48736410   51985202   36 months  credit_card   Fully Paid       4400     13.33       148.96           RENT    42000.00            Verified       3810       30.00         16                     9      4931.39\n",
       "\n",
       "[7151 rows x 16 columns]"
      ]
     },
     "execution_count": 3,
     "metadata": {},
     "output_type": "execute_result"
    }
   ],
   "source": [
    "df"
   ]
  },
  {
   "cell_type": "code",
   "execution_count": 4,
   "metadata": {},
   "outputs": [
    {
     "name": "stdout",
     "output_type": "stream",
     "text": [
      "<class 'pandas.core.frame.DataFrame'>\n",
      "RangeIndex: 7151 entries, 0 to 7150\n",
      "Data columns (total 16 columns):\n",
      " #   Column                Non-Null Count  Dtype  \n",
      "---  ------                --------------  -----  \n",
      " 0   id                    7151 non-null   int64  \n",
      " 1   member_id             7151 non-null   int64  \n",
      " 2   term                  7151 non-null   object \n",
      " 3   purpose               7151 non-null   object \n",
      " 4   loan_status           7151 non-null   object \n",
      " 5   loan_amnt             7151 non-null   int64  \n",
      " 6   int_rate              7151 non-null   float64\n",
      " 7   installment           7151 non-null   float64\n",
      " 8   home_ownership        7151 non-null   object \n",
      " 9   annual_inc            7151 non-null   float64\n",
      " 10  verification_status   7151 non-null   object \n",
      " 11  revol_bal             7151 non-null   int64  \n",
      " 12  revol_util            7148 non-null   float64\n",
      " 13  total_acc             7151 non-null   int64  \n",
      " 14  acc_open_past_24mths  7151 non-null   int64  \n",
      " 15  total_pymnt           7151 non-null   float64\n",
      "dtypes: float64(5), int64(6), object(5)\n",
      "memory usage: 894.0+ KB\n"
     ]
    }
   ],
   "source": [
    "df.info()"
   ]
  },
  {
   "cell_type": "code",
   "execution_count": 5,
   "metadata": {},
   "outputs": [
    {
     "data": {
      "text/html": [
       "<div>\n",
       "<style scoped>\n",
       "    .dataframe tbody tr th:only-of-type {\n",
       "        vertical-align: middle;\n",
       "    }\n",
       "\n",
       "    .dataframe tbody tr th {\n",
       "        vertical-align: top;\n",
       "    }\n",
       "\n",
       "    .dataframe thead th {\n",
       "        text-align: right;\n",
       "    }\n",
       "</style>\n",
       "<table border=\"1\" class=\"dataframe\">\n",
       "  <thead>\n",
       "    <tr style=\"text-align: right;\">\n",
       "      <th></th>\n",
       "      <th>id</th>\n",
       "      <th>member_id</th>\n",
       "      <th>term</th>\n",
       "      <th>purpose</th>\n",
       "      <th>loan_status</th>\n",
       "      <th>loan_amnt</th>\n",
       "      <th>int_rate</th>\n",
       "      <th>installment</th>\n",
       "      <th>home_ownership</th>\n",
       "      <th>annual_inc</th>\n",
       "      <th>verification_status</th>\n",
       "      <th>revol_bal</th>\n",
       "      <th>revol_util</th>\n",
       "      <th>total_acc</th>\n",
       "      <th>acc_open_past_24mths</th>\n",
       "      <th>total_pymnt</th>\n",
       "    </tr>\n",
       "  </thead>\n",
       "  <tbody>\n",
       "    <tr>\n",
       "      <th>count</th>\n",
       "      <td>7151.00</td>\n",
       "      <td>7151.00</td>\n",
       "      <td>7151</td>\n",
       "      <td>7151</td>\n",
       "      <td>7151</td>\n",
       "      <td>7151.00</td>\n",
       "      <td>7151.00</td>\n",
       "      <td>7151.00</td>\n",
       "      <td>7151</td>\n",
       "      <td>7151.00</td>\n",
       "      <td>7151</td>\n",
       "      <td>7151.00</td>\n",
       "      <td>7148.00</td>\n",
       "      <td>7151.00</td>\n",
       "      <td>7151.00</td>\n",
       "      <td>7151.00</td>\n",
       "    </tr>\n",
       "    <tr>\n",
       "      <th>unique</th>\n",
       "      <td>NaN</td>\n",
       "      <td>NaN</td>\n",
       "      <td>1</td>\n",
       "      <td>1</td>\n",
       "      <td>2</td>\n",
       "      <td>NaN</td>\n",
       "      <td>NaN</td>\n",
       "      <td>NaN</td>\n",
       "      <td>3</td>\n",
       "      <td>NaN</td>\n",
       "      <td>3</td>\n",
       "      <td>NaN</td>\n",
       "      <td>NaN</td>\n",
       "      <td>NaN</td>\n",
       "      <td>NaN</td>\n",
       "      <td>NaN</td>\n",
       "    </tr>\n",
       "    <tr>\n",
       "      <th>top</th>\n",
       "      <td>NaN</td>\n",
       "      <td>NaN</td>\n",
       "      <td>36 months</td>\n",
       "      <td>credit_card</td>\n",
       "      <td>Fully Paid</td>\n",
       "      <td>NaN</td>\n",
       "      <td>NaN</td>\n",
       "      <td>NaN</td>\n",
       "      <td>MORTGAGE</td>\n",
       "      <td>NaN</td>\n",
       "      <td>Source Verified</td>\n",
       "      <td>NaN</td>\n",
       "      <td>NaN</td>\n",
       "      <td>NaN</td>\n",
       "      <td>NaN</td>\n",
       "      <td>NaN</td>\n",
       "    </tr>\n",
       "    <tr>\n",
       "      <th>freq</th>\n",
       "      <td>NaN</td>\n",
       "      <td>NaN</td>\n",
       "      <td>7151</td>\n",
       "      <td>7151</td>\n",
       "      <td>5943</td>\n",
       "      <td>NaN</td>\n",
       "      <td>NaN</td>\n",
       "      <td>NaN</td>\n",
       "      <td>3243</td>\n",
       "      <td>NaN</td>\n",
       "      <td>2939</td>\n",
       "      <td>NaN</td>\n",
       "      <td>NaN</td>\n",
       "      <td>NaN</td>\n",
       "      <td>NaN</td>\n",
       "      <td>NaN</td>\n",
       "    </tr>\n",
       "    <tr>\n",
       "      <th>mean</th>\n",
       "      <td>51061858.63</td>\n",
       "      <td>54534399.97</td>\n",
       "      <td>NaN</td>\n",
       "      <td>NaN</td>\n",
       "      <td>NaN</td>\n",
       "      <td>13579.37</td>\n",
       "      <td>10.43</td>\n",
       "      <td>440.72</td>\n",
       "      <td>NaN</td>\n",
       "      <td>76244.96</td>\n",
       "      <td>NaN</td>\n",
       "      <td>18807.83</td>\n",
       "      <td>53.77</td>\n",
       "      <td>25.88</td>\n",
       "      <td>4.89</td>\n",
       "      <td>12830.46</td>\n",
       "    </tr>\n",
       "    <tr>\n",
       "      <th>std</th>\n",
       "      <td>9419570.38</td>\n",
       "      <td>10032114.79</td>\n",
       "      <td>NaN</td>\n",
       "      <td>NaN</td>\n",
       "      <td>NaN</td>\n",
       "      <td>8148.56</td>\n",
       "      <td>3.32</td>\n",
       "      <td>266.74</td>\n",
       "      <td>NaN</td>\n",
       "      <td>54568.59</td>\n",
       "      <td>NaN</td>\n",
       "      <td>26051.75</td>\n",
       "      <td>22.73</td>\n",
       "      <td>12.49</td>\n",
       "      <td>3.24</td>\n",
       "      <td>8946.45</td>\n",
       "    </tr>\n",
       "    <tr>\n",
       "      <th>min</th>\n",
       "      <td>580084.00</td>\n",
       "      <td>745743.00</td>\n",
       "      <td>NaN</td>\n",
       "      <td>NaN</td>\n",
       "      <td>NaN</td>\n",
       "      <td>1000.00</td>\n",
       "      <td>5.32</td>\n",
       "      <td>30.85</td>\n",
       "      <td>NaN</td>\n",
       "      <td>8000.00</td>\n",
       "      <td>NaN</td>\n",
       "      <td>0.00</td>\n",
       "      <td>0.00</td>\n",
       "      <td>4.00</td>\n",
       "      <td>0.00</td>\n",
       "      <td>0.00</td>\n",
       "    </tr>\n",
       "    <tr>\n",
       "      <th>25%</th>\n",
       "      <td>42293901.50</td>\n",
       "      <td>45255778.00</td>\n",
       "      <td>NaN</td>\n",
       "      <td>NaN</td>\n",
       "      <td>NaN</td>\n",
       "      <td>7500.00</td>\n",
       "      <td>7.89</td>\n",
       "      <td>243.13</td>\n",
       "      <td>NaN</td>\n",
       "      <td>45000.00</td>\n",
       "      <td>NaN</td>\n",
       "      <td>7328.50</td>\n",
       "      <td>36.90</td>\n",
       "      <td>17.00</td>\n",
       "      <td>3.00</td>\n",
       "      <td>6162.90</td>\n",
       "    </tr>\n",
       "    <tr>\n",
       "      <th>50%</th>\n",
       "      <td>50446212.00</td>\n",
       "      <td>53816115.00</td>\n",
       "      <td>NaN</td>\n",
       "      <td>NaN</td>\n",
       "      <td>NaN</td>\n",
       "      <td>11425.00</td>\n",
       "      <td>9.99</td>\n",
       "      <td>367.19</td>\n",
       "      <td>NaN</td>\n",
       "      <td>65000.00</td>\n",
       "      <td>NaN</td>\n",
       "      <td>12781.00</td>\n",
       "      <td>53.50</td>\n",
       "      <td>24.00</td>\n",
       "      <td>4.00</td>\n",
       "      <td>10605.06</td>\n",
       "    </tr>\n",
       "    <tr>\n",
       "      <th>75%</th>\n",
       "      <td>59231418.50</td>\n",
       "      <td>63117821.00</td>\n",
       "      <td>NaN</td>\n",
       "      <td>NaN</td>\n",
       "      <td>NaN</td>\n",
       "      <td>18600.00</td>\n",
       "      <td>12.69</td>\n",
       "      <td>609.36</td>\n",
       "      <td>NaN</td>\n",
       "      <td>93000.00</td>\n",
       "      <td>NaN</td>\n",
       "      <td>22059.00</td>\n",
       "      <td>70.90</td>\n",
       "      <td>33.00</td>\n",
       "      <td>7.00</td>\n",
       "      <td>17410.04</td>\n",
       "    </tr>\n",
       "    <tr>\n",
       "      <th>max</th>\n",
       "      <td>68615884.00</td>\n",
       "      <td>73518690.00</td>\n",
       "      <td>NaN</td>\n",
       "      <td>NaN</td>\n",
       "      <td>NaN</td>\n",
       "      <td>35000.00</td>\n",
       "      <td>25.80</td>\n",
       "      <td>1309.49</td>\n",
       "      <td>NaN</td>\n",
       "      <td>1900000.00</td>\n",
       "      <td>NaN</td>\n",
       "      <td>838698.00</td>\n",
       "      <td>113.10</td>\n",
       "      <td>100.00</td>\n",
       "      <td>25.00</td>\n",
       "      <td>44465.78</td>\n",
       "    </tr>\n",
       "  </tbody>\n",
       "</table>\n",
       "</div>"
      ],
      "text/plain": [
       "                id   member_id        term      purpose loan_status  loan_amnt  int_rate  installment home_ownership  annual_inc verification_status  revol_bal  revol_util  total_acc  acc_open_past_24mths  total_pymnt\n",
       "count      7151.00     7151.00        7151         7151        7151    7151.00   7151.00      7151.00           7151     7151.00                7151    7151.00     7148.00    7151.00               7151.00      7151.00\n",
       "unique         NaN         NaN           1            1           2        NaN       NaN          NaN              3         NaN                   3        NaN         NaN        NaN                   NaN          NaN\n",
       "top            NaN         NaN   36 months  credit_card  Fully Paid        NaN       NaN          NaN       MORTGAGE         NaN     Source Verified        NaN         NaN        NaN                   NaN          NaN\n",
       "freq           NaN         NaN        7151         7151        5943        NaN       NaN          NaN           3243         NaN                2939        NaN         NaN        NaN                   NaN          NaN\n",
       "mean   51061858.63 54534399.97         NaN          NaN         NaN   13579.37     10.43       440.72            NaN    76244.96                 NaN   18807.83       53.77      25.88                  4.89     12830.46\n",
       "std     9419570.38 10032114.79         NaN          NaN         NaN    8148.56      3.32       266.74            NaN    54568.59                 NaN   26051.75       22.73      12.49                  3.24      8946.45\n",
       "min      580084.00   745743.00         NaN          NaN         NaN    1000.00      5.32        30.85            NaN     8000.00                 NaN       0.00        0.00       4.00                  0.00         0.00\n",
       "25%    42293901.50 45255778.00         NaN          NaN         NaN    7500.00      7.89       243.13            NaN    45000.00                 NaN    7328.50       36.90      17.00                  3.00      6162.90\n",
       "50%    50446212.00 53816115.00         NaN          NaN         NaN   11425.00      9.99       367.19            NaN    65000.00                 NaN   12781.00       53.50      24.00                  4.00     10605.06\n",
       "75%    59231418.50 63117821.00         NaN          NaN         NaN   18600.00     12.69       609.36            NaN    93000.00                 NaN   22059.00       70.90      33.00                  7.00     17410.04\n",
       "max    68615884.00 73518690.00         NaN          NaN         NaN   35000.00     25.80      1309.49            NaN  1900000.00                 NaN  838698.00      113.10     100.00                 25.00     44465.78"
      ]
     },
     "execution_count": 5,
     "metadata": {},
     "output_type": "execute_result"
    }
   ],
   "source": [
    "df.describe(include='all')"
   ]
  },
  {
   "cell_type": "code",
   "execution_count": 6,
   "metadata": {},
   "outputs": [
    {
     "data": {
      "text/plain": [
       "(7151, 16)"
      ]
     },
     "execution_count": 6,
     "metadata": {},
     "output_type": "execute_result"
    }
   ],
   "source": [
    "df.shape"
   ]
  },
  {
   "cell_type": "code",
   "execution_count": 7,
   "metadata": {},
   "outputs": [
    {
     "data": {
      "text/plain": [
       "Index(['id', 'member_id', 'term', 'purpose', 'loan_status', 'loan_amnt', 'int_rate', 'installment', 'home_ownership', 'annual_inc', 'verification_status', 'revol_bal', 'revol_util', 'total_acc', 'acc_open_past_24mths', 'total_pymnt'], dtype='object')"
      ]
     },
     "execution_count": 7,
     "metadata": {},
     "output_type": "execute_result"
    }
   ],
   "source": [
    "df.columns"
   ]
  },
  {
   "cell_type": "markdown",
   "metadata": {},
   "source": [
    "## Data Preprocessing"
   ]
  },
  {
   "cell_type": "markdown",
   "metadata": {},
   "source": [
    "### Drop unwanted features"
   ]
  },
  {
   "cell_type": "code",
   "execution_count": 8,
   "metadata": {},
   "outputs": [
    {
     "data": {
      "text/plain": [
       "Index(['id', 'member_id', 'term', 'purpose', 'loan_status', 'loan_amnt', 'int_rate', 'installment', 'home_ownership', 'annual_inc', 'verification_status', 'revol_bal', 'revol_util', 'total_acc', 'acc_open_past_24mths', 'total_pymnt'], dtype='object')"
      ]
     },
     "execution_count": 8,
     "metadata": {},
     "output_type": "execute_result"
    }
   ],
   "source": [
    "df.columns"
   ]
  },
  {
   "cell_type": "code",
   "execution_count": 9,
   "metadata": {},
   "outputs": [],
   "source": [
    "df.drop(['id', 'member_id', 'term', 'purpose','home_ownership','verification_status'],axis=1,inplace=True)"
   ]
  },
  {
   "cell_type": "code",
   "execution_count": 10,
   "metadata": {},
   "outputs": [
    {
     "data": {
      "text/html": [
       "<div>\n",
       "<style scoped>\n",
       "    .dataframe tbody tr th:only-of-type {\n",
       "        vertical-align: middle;\n",
       "    }\n",
       "\n",
       "    .dataframe tbody tr th {\n",
       "        vertical-align: top;\n",
       "    }\n",
       "\n",
       "    .dataframe thead th {\n",
       "        text-align: right;\n",
       "    }\n",
       "</style>\n",
       "<table border=\"1\" class=\"dataframe\">\n",
       "  <thead>\n",
       "    <tr style=\"text-align: right;\">\n",
       "      <th></th>\n",
       "      <th>loan_status</th>\n",
       "      <th>loan_amnt</th>\n",
       "      <th>int_rate</th>\n",
       "      <th>installment</th>\n",
       "      <th>annual_inc</th>\n",
       "      <th>revol_bal</th>\n",
       "      <th>revol_util</th>\n",
       "      <th>total_acc</th>\n",
       "      <th>acc_open_past_24mths</th>\n",
       "      <th>total_pymnt</th>\n",
       "    </tr>\n",
       "  </thead>\n",
       "  <tbody>\n",
       "    <tr>\n",
       "      <th>0</th>\n",
       "      <td>Fully Paid</td>\n",
       "      <td>24000</td>\n",
       "      <td>7.89</td>\n",
       "      <td>750.86</td>\n",
       "      <td>237500.00</td>\n",
       "      <td>28279</td>\n",
       "      <td>36.90</td>\n",
       "      <td>25</td>\n",
       "      <td>5</td>\n",
       "      <td>24948.45</td>\n",
       "    </tr>\n",
       "    <tr>\n",
       "      <th>1</th>\n",
       "      <td>Fully Paid</td>\n",
       "      <td>8000</td>\n",
       "      <td>6.68</td>\n",
       "      <td>245.85</td>\n",
       "      <td>41000.00</td>\n",
       "      <td>24377</td>\n",
       "      <td>51.00</td>\n",
       "      <td>29</td>\n",
       "      <td>2</td>\n",
       "      <td>8351.63</td>\n",
       "    </tr>\n",
       "    <tr>\n",
       "      <th>2</th>\n",
       "      <td>Fully Paid</td>\n",
       "      <td>12175</td>\n",
       "      <td>9.17</td>\n",
       "      <td>388.13</td>\n",
       "      <td>100000.00</td>\n",
       "      <td>21329</td>\n",
       "      <td>64.60</td>\n",
       "      <td>17</td>\n",
       "      <td>3</td>\n",
       "      <td>13205.91</td>\n",
       "    </tr>\n",
       "    <tr>\n",
       "      <th>3</th>\n",
       "      <td>Charged Off</td>\n",
       "      <td>6400</td>\n",
       "      <td>6.92</td>\n",
       "      <td>197.38</td>\n",
       "      <td>41900.00</td>\n",
       "      <td>14936</td>\n",
       "      <td>73.20</td>\n",
       "      <td>15</td>\n",
       "      <td>1</td>\n",
       "      <td>3550.38</td>\n",
       "    </tr>\n",
       "    <tr>\n",
       "      <th>4</th>\n",
       "      <td>Fully Paid</td>\n",
       "      <td>12600</td>\n",
       "      <td>6.68</td>\n",
       "      <td>387.22</td>\n",
       "      <td>73800.00</td>\n",
       "      <td>9904</td>\n",
       "      <td>20.70</td>\n",
       "      <td>25</td>\n",
       "      <td>4</td>\n",
       "      <td>13125.77</td>\n",
       "    </tr>\n",
       "  </tbody>\n",
       "</table>\n",
       "</div>"
      ],
      "text/plain": [
       "   loan_status  loan_amnt  int_rate  installment  annual_inc  revol_bal  revol_util  total_acc  acc_open_past_24mths  total_pymnt\n",
       "0   Fully Paid      24000      7.89       750.86   237500.00      28279       36.90         25                     5     24948.45\n",
       "1   Fully Paid       8000      6.68       245.85    41000.00      24377       51.00         29                     2      8351.63\n",
       "2   Fully Paid      12175      9.17       388.13   100000.00      21329       64.60         17                     3     13205.91\n",
       "3  Charged Off       6400      6.92       197.38    41900.00      14936       73.20         15                     1      3550.38\n",
       "4   Fully Paid      12600      6.68       387.22    73800.00       9904       20.70         25                     4     13125.77"
      ]
     },
     "execution_count": 10,
     "metadata": {},
     "output_type": "execute_result"
    }
   ],
   "source": [
    "df.head()"
   ]
  },
  {
   "cell_type": "markdown",
   "metadata": {},
   "source": [
    "### Treat Missing Values"
   ]
  },
  {
   "cell_type": "code",
   "execution_count": 11,
   "metadata": {},
   "outputs": [
    {
     "data": {
      "text/plain": [
       "loan_status             0\n",
       "loan_amnt               0\n",
       "int_rate                0\n",
       "installment             0\n",
       "annual_inc              0\n",
       "revol_bal               0\n",
       "revol_util              3\n",
       "total_acc               0\n",
       "acc_open_past_24mths    0\n",
       "total_pymnt             0\n",
       "dtype: int64"
      ]
     },
     "execution_count": 11,
     "metadata": {},
     "output_type": "execute_result"
    }
   ],
   "source": [
    "df.isnull().sum()"
   ]
  },
  {
   "cell_type": "code",
   "execution_count": 12,
   "metadata": {},
   "outputs": [],
   "source": [
    "df.dropna(inplace=True)"
   ]
  },
  {
   "cell_type": "code",
   "execution_count": 13,
   "metadata": {},
   "outputs": [
    {
     "data": {
      "text/plain": [
       "loan_status             0\n",
       "loan_amnt               0\n",
       "int_rate                0\n",
       "installment             0\n",
       "annual_inc              0\n",
       "revol_bal               0\n",
       "revol_util              0\n",
       "total_acc               0\n",
       "acc_open_past_24mths    0\n",
       "total_pymnt             0\n",
       "dtype: int64"
      ]
     },
     "execution_count": 13,
     "metadata": {},
     "output_type": "execute_result"
    }
   ],
   "source": [
    "df.isnull().sum()"
   ]
  },
  {
   "cell_type": "code",
   "execution_count": 14,
   "metadata": {},
   "outputs": [
    {
     "name": "stdout",
     "output_type": "stream",
     "text": [
      "<class 'pandas.core.frame.DataFrame'>\n",
      "Int64Index: 7148 entries, 0 to 7150\n",
      "Data columns (total 10 columns):\n",
      " #   Column                Non-Null Count  Dtype  \n",
      "---  ------                --------------  -----  \n",
      " 0   loan_status           7148 non-null   object \n",
      " 1   loan_amnt             7148 non-null   int64  \n",
      " 2   int_rate              7148 non-null   float64\n",
      " 3   installment           7148 non-null   float64\n",
      " 4   annual_inc            7148 non-null   float64\n",
      " 5   revol_bal             7148 non-null   int64  \n",
      " 6   revol_util            7148 non-null   float64\n",
      " 7   total_acc             7148 non-null   int64  \n",
      " 8   acc_open_past_24mths  7148 non-null   int64  \n",
      " 9   total_pymnt           7148 non-null   float64\n",
      "dtypes: float64(5), int64(4), object(1)\n",
      "memory usage: 614.3+ KB\n"
     ]
    }
   ],
   "source": [
    "df.info(verbose=True)"
   ]
  },
  {
   "cell_type": "code",
   "execution_count": 15,
   "metadata": {},
   "outputs": [
    {
     "data": {
      "text/html": [
       "<div>\n",
       "<style scoped>\n",
       "    .dataframe tbody tr th:only-of-type {\n",
       "        vertical-align: middle;\n",
       "    }\n",
       "\n",
       "    .dataframe tbody tr th {\n",
       "        vertical-align: top;\n",
       "    }\n",
       "\n",
       "    .dataframe thead th {\n",
       "        text-align: right;\n",
       "    }\n",
       "</style>\n",
       "<table border=\"1\" class=\"dataframe\">\n",
       "  <thead>\n",
       "    <tr style=\"text-align: right;\">\n",
       "      <th></th>\n",
       "      <th>loan_status</th>\n",
       "      <th>loan_amnt</th>\n",
       "      <th>int_rate</th>\n",
       "      <th>installment</th>\n",
       "      <th>annual_inc</th>\n",
       "      <th>revol_bal</th>\n",
       "      <th>revol_util</th>\n",
       "      <th>total_acc</th>\n",
       "      <th>acc_open_past_24mths</th>\n",
       "      <th>total_pymnt</th>\n",
       "    </tr>\n",
       "  </thead>\n",
       "  <tbody>\n",
       "    <tr>\n",
       "      <th>count</th>\n",
       "      <td>7148</td>\n",
       "      <td>7148.00</td>\n",
       "      <td>7148.00</td>\n",
       "      <td>7148.00</td>\n",
       "      <td>7148.00</td>\n",
       "      <td>7148.00</td>\n",
       "      <td>7148.00</td>\n",
       "      <td>7148.00</td>\n",
       "      <td>7148.00</td>\n",
       "      <td>7148.00</td>\n",
       "    </tr>\n",
       "    <tr>\n",
       "      <th>unique</th>\n",
       "      <td>2</td>\n",
       "      <td>NaN</td>\n",
       "      <td>NaN</td>\n",
       "      <td>NaN</td>\n",
       "      <td>NaN</td>\n",
       "      <td>NaN</td>\n",
       "      <td>NaN</td>\n",
       "      <td>NaN</td>\n",
       "      <td>NaN</td>\n",
       "      <td>NaN</td>\n",
       "    </tr>\n",
       "    <tr>\n",
       "      <th>top</th>\n",
       "      <td>Fully Paid</td>\n",
       "      <td>NaN</td>\n",
       "      <td>NaN</td>\n",
       "      <td>NaN</td>\n",
       "      <td>NaN</td>\n",
       "      <td>NaN</td>\n",
       "      <td>NaN</td>\n",
       "      <td>NaN</td>\n",
       "      <td>NaN</td>\n",
       "      <td>NaN</td>\n",
       "    </tr>\n",
       "    <tr>\n",
       "      <th>freq</th>\n",
       "      <td>5941</td>\n",
       "      <td>NaN</td>\n",
       "      <td>NaN</td>\n",
       "      <td>NaN</td>\n",
       "      <td>NaN</td>\n",
       "      <td>NaN</td>\n",
       "      <td>NaN</td>\n",
       "      <td>NaN</td>\n",
       "      <td>NaN</td>\n",
       "      <td>NaN</td>\n",
       "    </tr>\n",
       "    <tr>\n",
       "      <th>mean</th>\n",
       "      <td>NaN</td>\n",
       "      <td>13583.14</td>\n",
       "      <td>10.43</td>\n",
       "      <td>440.84</td>\n",
       "      <td>76253.77</td>\n",
       "      <td>18815.72</td>\n",
       "      <td>53.77</td>\n",
       "      <td>25.88</td>\n",
       "      <td>4.90</td>\n",
       "      <td>12834.00</td>\n",
       "    </tr>\n",
       "    <tr>\n",
       "      <th>std</th>\n",
       "      <td>NaN</td>\n",
       "      <td>8148.13</td>\n",
       "      <td>3.32</td>\n",
       "      <td>266.73</td>\n",
       "      <td>54575.24</td>\n",
       "      <td>26054.36</td>\n",
       "      <td>22.73</td>\n",
       "      <td>12.50</td>\n",
       "      <td>3.24</td>\n",
       "      <td>8946.49</td>\n",
       "    </tr>\n",
       "    <tr>\n",
       "      <th>min</th>\n",
       "      <td>NaN</td>\n",
       "      <td>1000.00</td>\n",
       "      <td>5.32</td>\n",
       "      <td>30.85</td>\n",
       "      <td>8000.00</td>\n",
       "      <td>0.00</td>\n",
       "      <td>0.00</td>\n",
       "      <td>4.00</td>\n",
       "      <td>0.00</td>\n",
       "      <td>0.00</td>\n",
       "    </tr>\n",
       "    <tr>\n",
       "      <th>25%</th>\n",
       "      <td>NaN</td>\n",
       "      <td>7500.00</td>\n",
       "      <td>7.89</td>\n",
       "      <td>243.39</td>\n",
       "      <td>45000.00</td>\n",
       "      <td>7334.00</td>\n",
       "      <td>36.90</td>\n",
       "      <td>17.00</td>\n",
       "      <td>3.00</td>\n",
       "      <td>6163.63</td>\n",
       "    </tr>\n",
       "    <tr>\n",
       "      <th>50%</th>\n",
       "      <td>NaN</td>\n",
       "      <td>11475.00</td>\n",
       "      <td>9.99</td>\n",
       "      <td>367.27</td>\n",
       "      <td>65000.00</td>\n",
       "      <td>12796.50</td>\n",
       "      <td>53.50</td>\n",
       "      <td>24.00</td>\n",
       "      <td>4.00</td>\n",
       "      <td>10607.10</td>\n",
       "    </tr>\n",
       "    <tr>\n",
       "      <th>75%</th>\n",
       "      <td>NaN</td>\n",
       "      <td>18612.50</td>\n",
       "      <td>12.69</td>\n",
       "      <td>609.36</td>\n",
       "      <td>93000.00</td>\n",
       "      <td>22061.50</td>\n",
       "      <td>70.90</td>\n",
       "      <td>33.00</td>\n",
       "      <td>7.00</td>\n",
       "      <td>17412.21</td>\n",
       "    </tr>\n",
       "    <tr>\n",
       "      <th>max</th>\n",
       "      <td>NaN</td>\n",
       "      <td>35000.00</td>\n",
       "      <td>25.80</td>\n",
       "      <td>1309.49</td>\n",
       "      <td>1900000.00</td>\n",
       "      <td>838698.00</td>\n",
       "      <td>113.10</td>\n",
       "      <td>100.00</td>\n",
       "      <td>25.00</td>\n",
       "      <td>44465.78</td>\n",
       "    </tr>\n",
       "  </tbody>\n",
       "</table>\n",
       "</div>"
      ],
      "text/plain": [
       "       loan_status  loan_amnt  int_rate  installment  annual_inc  revol_bal  revol_util  total_acc  acc_open_past_24mths  total_pymnt\n",
       "count         7148    7148.00   7148.00      7148.00     7148.00    7148.00     7148.00    7148.00               7148.00      7148.00\n",
       "unique           2        NaN       NaN          NaN         NaN        NaN         NaN        NaN                   NaN          NaN\n",
       "top     Fully Paid        NaN       NaN          NaN         NaN        NaN         NaN        NaN                   NaN          NaN\n",
       "freq          5941        NaN       NaN          NaN         NaN        NaN         NaN        NaN                   NaN          NaN\n",
       "mean           NaN   13583.14     10.43       440.84    76253.77   18815.72       53.77      25.88                  4.90     12834.00\n",
       "std            NaN    8148.13      3.32       266.73    54575.24   26054.36       22.73      12.50                  3.24      8946.49\n",
       "min            NaN    1000.00      5.32        30.85     8000.00       0.00        0.00       4.00                  0.00         0.00\n",
       "25%            NaN    7500.00      7.89       243.39    45000.00    7334.00       36.90      17.00                  3.00      6163.63\n",
       "50%            NaN   11475.00      9.99       367.27    65000.00   12796.50       53.50      24.00                  4.00     10607.10\n",
       "75%            NaN   18612.50     12.69       609.36    93000.00   22061.50       70.90      33.00                  7.00     17412.21\n",
       "max            NaN   35000.00     25.80      1309.49  1900000.00  838698.00      113.10     100.00                 25.00     44465.78"
      ]
     },
     "execution_count": 15,
     "metadata": {},
     "output_type": "execute_result"
    }
   ],
   "source": [
    "df.describe(include='all')"
   ]
  },
  {
   "cell_type": "code",
   "execution_count": 16,
   "metadata": {},
   "outputs": [],
   "source": [
    "df.reset_index(inplace=True,drop=True)"
   ]
  },
  {
   "cell_type": "markdown",
   "metadata": {},
   "source": [
    "### Treat Duplicate Values"
   ]
  },
  {
   "cell_type": "code",
   "execution_count": 17,
   "metadata": {},
   "outputs": [
    {
     "data": {
      "text/plain": [
       "0"
      ]
     },
     "execution_count": 17,
     "metadata": {},
     "output_type": "execute_result"
    }
   ],
   "source": [
    "df.duplicated(keep='first').sum()"
   ]
  },
  {
   "cell_type": "markdown",
   "metadata": {},
   "source": [
    "### Treat Outliers"
   ]
  },
  {
   "cell_type": "code",
   "execution_count": 18,
   "metadata": {},
   "outputs": [
    {
     "data": {
      "text/html": [
       "<div>\n",
       "<style scoped>\n",
       "    .dataframe tbody tr th:only-of-type {\n",
       "        vertical-align: middle;\n",
       "    }\n",
       "\n",
       "    .dataframe tbody tr th {\n",
       "        vertical-align: top;\n",
       "    }\n",
       "\n",
       "    .dataframe thead th {\n",
       "        text-align: right;\n",
       "    }\n",
       "</style>\n",
       "<table border=\"1\" class=\"dataframe\">\n",
       "  <thead>\n",
       "    <tr style=\"text-align: right;\">\n",
       "      <th></th>\n",
       "      <th>loan_amnt</th>\n",
       "      <th>int_rate</th>\n",
       "      <th>installment</th>\n",
       "      <th>annual_inc</th>\n",
       "      <th>revol_bal</th>\n",
       "      <th>revol_util</th>\n",
       "      <th>total_acc</th>\n",
       "      <th>acc_open_past_24mths</th>\n",
       "      <th>total_pymnt</th>\n",
       "    </tr>\n",
       "  </thead>\n",
       "  <tbody>\n",
       "    <tr>\n",
       "      <th>count</th>\n",
       "      <td>7148.00</td>\n",
       "      <td>7148.00</td>\n",
       "      <td>7148.00</td>\n",
       "      <td>7148.00</td>\n",
       "      <td>7148.00</td>\n",
       "      <td>7148.00</td>\n",
       "      <td>7148.00</td>\n",
       "      <td>7148.00</td>\n",
       "      <td>7148.00</td>\n",
       "    </tr>\n",
       "    <tr>\n",
       "      <th>mean</th>\n",
       "      <td>13583.14</td>\n",
       "      <td>10.43</td>\n",
       "      <td>440.84</td>\n",
       "      <td>76253.77</td>\n",
       "      <td>18815.72</td>\n",
       "      <td>53.77</td>\n",
       "      <td>25.88</td>\n",
       "      <td>4.90</td>\n",
       "      <td>12834.00</td>\n",
       "    </tr>\n",
       "    <tr>\n",
       "      <th>std</th>\n",
       "      <td>8148.13</td>\n",
       "      <td>3.32</td>\n",
       "      <td>266.73</td>\n",
       "      <td>54575.24</td>\n",
       "      <td>26054.36</td>\n",
       "      <td>22.73</td>\n",
       "      <td>12.50</td>\n",
       "      <td>3.24</td>\n",
       "      <td>8946.49</td>\n",
       "    </tr>\n",
       "    <tr>\n",
       "      <th>min</th>\n",
       "      <td>1000.00</td>\n",
       "      <td>5.32</td>\n",
       "      <td>30.85</td>\n",
       "      <td>8000.00</td>\n",
       "      <td>0.00</td>\n",
       "      <td>0.00</td>\n",
       "      <td>4.00</td>\n",
       "      <td>0.00</td>\n",
       "      <td>0.00</td>\n",
       "    </tr>\n",
       "    <tr>\n",
       "      <th>25%</th>\n",
       "      <td>7500.00</td>\n",
       "      <td>7.89</td>\n",
       "      <td>243.39</td>\n",
       "      <td>45000.00</td>\n",
       "      <td>7334.00</td>\n",
       "      <td>36.90</td>\n",
       "      <td>17.00</td>\n",
       "      <td>3.00</td>\n",
       "      <td>6163.63</td>\n",
       "    </tr>\n",
       "    <tr>\n",
       "      <th>50%</th>\n",
       "      <td>11475.00</td>\n",
       "      <td>9.99</td>\n",
       "      <td>367.27</td>\n",
       "      <td>65000.00</td>\n",
       "      <td>12796.50</td>\n",
       "      <td>53.50</td>\n",
       "      <td>24.00</td>\n",
       "      <td>4.00</td>\n",
       "      <td>10607.10</td>\n",
       "    </tr>\n",
       "    <tr>\n",
       "      <th>75%</th>\n",
       "      <td>18612.50</td>\n",
       "      <td>12.69</td>\n",
       "      <td>609.36</td>\n",
       "      <td>93000.00</td>\n",
       "      <td>22061.50</td>\n",
       "      <td>70.90</td>\n",
       "      <td>33.00</td>\n",
       "      <td>7.00</td>\n",
       "      <td>17412.21</td>\n",
       "    </tr>\n",
       "    <tr>\n",
       "      <th>max</th>\n",
       "      <td>35000.00</td>\n",
       "      <td>25.80</td>\n",
       "      <td>1309.49</td>\n",
       "      <td>1900000.00</td>\n",
       "      <td>838698.00</td>\n",
       "      <td>113.10</td>\n",
       "      <td>100.00</td>\n",
       "      <td>25.00</td>\n",
       "      <td>44465.78</td>\n",
       "    </tr>\n",
       "  </tbody>\n",
       "</table>\n",
       "</div>"
      ],
      "text/plain": [
       "       loan_amnt  int_rate  installment  annual_inc  revol_bal  revol_util  total_acc  acc_open_past_24mths  total_pymnt\n",
       "count    7148.00   7148.00      7148.00     7148.00    7148.00     7148.00    7148.00               7148.00      7148.00\n",
       "mean    13583.14     10.43       440.84    76253.77   18815.72       53.77      25.88                  4.90     12834.00\n",
       "std      8148.13      3.32       266.73    54575.24   26054.36       22.73      12.50                  3.24      8946.49\n",
       "min      1000.00      5.32        30.85     8000.00       0.00        0.00       4.00                  0.00         0.00\n",
       "25%      7500.00      7.89       243.39    45000.00    7334.00       36.90      17.00                  3.00      6163.63\n",
       "50%     11475.00      9.99       367.27    65000.00   12796.50       53.50      24.00                  4.00     10607.10\n",
       "75%     18612.50     12.69       609.36    93000.00   22061.50       70.90      33.00                  7.00     17412.21\n",
       "max     35000.00     25.80      1309.49  1900000.00  838698.00      113.10     100.00                 25.00     44465.78"
      ]
     },
     "execution_count": 18,
     "metadata": {},
     "output_type": "execute_result"
    }
   ],
   "source": [
    "df.describe()"
   ]
  },
  {
   "cell_type": "code",
   "execution_count": 19,
   "metadata": {},
   "outputs": [],
   "source": [
    "windsorizer = Winsorizer(capping_method='quantiles', tail='right', fold=0.1, \n",
    "                         variables=['installment','annual_inc','revol_bal','revol_util','total_acc',\n",
    "                                    'acc_open_past_24mths','total_pymnt'])"
   ]
  },
  {
   "cell_type": "code",
   "execution_count": 20,
   "metadata": {},
   "outputs": [
    {
     "data": {
      "text/plain": [
       "Winsorizer(capping_method='quantiles', fold=0.1,\n",
       "           variables=['installment', 'annual_inc', 'revol_bal', 'revol_util',\n",
       "                      'total_acc', 'acc_open_past_24mths', 'total_pymnt'])"
      ]
     },
     "execution_count": 20,
     "metadata": {},
     "output_type": "execute_result"
    }
   ],
   "source": [
    "windsorizer.fit(df)"
   ]
  },
  {
   "cell_type": "code",
   "execution_count": 21,
   "metadata": {},
   "outputs": [],
   "source": [
    "df2 = windsorizer.transform(df)"
   ]
  },
  {
   "cell_type": "code",
   "execution_count": 22,
   "metadata": {},
   "outputs": [
    {
     "data": {
      "text/html": [
       "<div>\n",
       "<style scoped>\n",
       "    .dataframe tbody tr th:only-of-type {\n",
       "        vertical-align: middle;\n",
       "    }\n",
       "\n",
       "    .dataframe tbody tr th {\n",
       "        vertical-align: top;\n",
       "    }\n",
       "\n",
       "    .dataframe thead th {\n",
       "        text-align: right;\n",
       "    }\n",
       "</style>\n",
       "<table border=\"1\" class=\"dataframe\">\n",
       "  <thead>\n",
       "    <tr style=\"text-align: right;\">\n",
       "      <th></th>\n",
       "      <th>loan_status</th>\n",
       "      <th>loan_amnt</th>\n",
       "      <th>int_rate</th>\n",
       "      <th>installment</th>\n",
       "      <th>annual_inc</th>\n",
       "      <th>revol_bal</th>\n",
       "      <th>revol_util</th>\n",
       "      <th>total_acc</th>\n",
       "      <th>acc_open_past_24mths</th>\n",
       "      <th>total_pymnt</th>\n",
       "    </tr>\n",
       "  </thead>\n",
       "  <tbody>\n",
       "    <tr>\n",
       "      <th>0</th>\n",
       "      <td>Fully Paid</td>\n",
       "      <td>24000</td>\n",
       "      <td>7.89</td>\n",
       "      <td>750.86</td>\n",
       "      <td>128000.00</td>\n",
       "      <td>28279.00</td>\n",
       "      <td>36.90</td>\n",
       "      <td>25.00</td>\n",
       "      <td>5.00</td>\n",
       "      <td>24948.45</td>\n",
       "    </tr>\n",
       "    <tr>\n",
       "      <th>1</th>\n",
       "      <td>Fully Paid</td>\n",
       "      <td>8000</td>\n",
       "      <td>6.68</td>\n",
       "      <td>245.85</td>\n",
       "      <td>41000.00</td>\n",
       "      <td>24377.00</td>\n",
       "      <td>51.00</td>\n",
       "      <td>29.00</td>\n",
       "      <td>2.00</td>\n",
       "      <td>8351.63</td>\n",
       "    </tr>\n",
       "    <tr>\n",
       "      <th>2</th>\n",
       "      <td>Fully Paid</td>\n",
       "      <td>12175</td>\n",
       "      <td>9.17</td>\n",
       "      <td>388.13</td>\n",
       "      <td>100000.00</td>\n",
       "      <td>21329.00</td>\n",
       "      <td>64.60</td>\n",
       "      <td>17.00</td>\n",
       "      <td>3.00</td>\n",
       "      <td>13205.91</td>\n",
       "    </tr>\n",
       "    <tr>\n",
       "      <th>3</th>\n",
       "      <td>Charged Off</td>\n",
       "      <td>6400</td>\n",
       "      <td>6.92</td>\n",
       "      <td>197.38</td>\n",
       "      <td>41900.00</td>\n",
       "      <td>14936.00</td>\n",
       "      <td>73.20</td>\n",
       "      <td>15.00</td>\n",
       "      <td>1.00</td>\n",
       "      <td>3550.38</td>\n",
       "    </tr>\n",
       "    <tr>\n",
       "      <th>4</th>\n",
       "      <td>Fully Paid</td>\n",
       "      <td>12600</td>\n",
       "      <td>6.68</td>\n",
       "      <td>387.22</td>\n",
       "      <td>73800.00</td>\n",
       "      <td>9904.00</td>\n",
       "      <td>20.70</td>\n",
       "      <td>25.00</td>\n",
       "      <td>4.00</td>\n",
       "      <td>13125.77</td>\n",
       "    </tr>\n",
       "    <tr>\n",
       "      <th>...</th>\n",
       "      <td>...</td>\n",
       "      <td>...</td>\n",
       "      <td>...</td>\n",
       "      <td>...</td>\n",
       "      <td>...</td>\n",
       "      <td>...</td>\n",
       "      <td>...</td>\n",
       "      <td>...</td>\n",
       "      <td>...</td>\n",
       "      <td>...</td>\n",
       "    </tr>\n",
       "    <tr>\n",
       "      <th>7143</th>\n",
       "      <td>Fully Paid</td>\n",
       "      <td>5000</td>\n",
       "      <td>17.14</td>\n",
       "      <td>178.62</td>\n",
       "      <td>32500.00</td>\n",
       "      <td>9600.00</td>\n",
       "      <td>55.80</td>\n",
       "      <td>37.00</td>\n",
       "      <td>9.00</td>\n",
       "      <td>5616.01</td>\n",
       "    </tr>\n",
       "    <tr>\n",
       "      <th>7144</th>\n",
       "      <td>Fully Paid</td>\n",
       "      <td>5000</td>\n",
       "      <td>8.18</td>\n",
       "      <td>157.10</td>\n",
       "      <td>60000.00</td>\n",
       "      <td>17667.00</td>\n",
       "      <td>67.90</td>\n",
       "      <td>21.00</td>\n",
       "      <td>2.00</td>\n",
       "      <td>5334.51</td>\n",
       "    </tr>\n",
       "    <tr>\n",
       "      <th>7145</th>\n",
       "      <td>Fully Paid</td>\n",
       "      <td>13800</td>\n",
       "      <td>8.18</td>\n",
       "      <td>433.59</td>\n",
       "      <td>94000.00</td>\n",
       "      <td>16419.00</td>\n",
       "      <td>55.80</td>\n",
       "      <td>31.00</td>\n",
       "      <td>9.00</td>\n",
       "      <td>14187.91</td>\n",
       "    </tr>\n",
       "    <tr>\n",
       "      <th>7146</th>\n",
       "      <td>Fully Paid</td>\n",
       "      <td>19175</td>\n",
       "      <td>17.14</td>\n",
       "      <td>684.98</td>\n",
       "      <td>80000.00</td>\n",
       "      <td>37066.00</td>\n",
       "      <td>71.10</td>\n",
       "      <td>24.00</td>\n",
       "      <td>6.00</td>\n",
       "      <td>22197.23</td>\n",
       "    </tr>\n",
       "    <tr>\n",
       "      <th>7147</th>\n",
       "      <td>Fully Paid</td>\n",
       "      <td>4400</td>\n",
       "      <td>13.33</td>\n",
       "      <td>148.96</td>\n",
       "      <td>42000.00</td>\n",
       "      <td>3810.00</td>\n",
       "      <td>30.00</td>\n",
       "      <td>16.00</td>\n",
       "      <td>9.00</td>\n",
       "      <td>4931.39</td>\n",
       "    </tr>\n",
       "  </tbody>\n",
       "</table>\n",
       "<p>7148 rows × 10 columns</p>\n",
       "</div>"
      ],
      "text/plain": [
       "      loan_status  loan_amnt  int_rate  installment  annual_inc  revol_bal  revol_util  total_acc  acc_open_past_24mths  total_pymnt\n",
       "0      Fully Paid      24000      7.89       750.86   128000.00   28279.00       36.90      25.00                  5.00     24948.45\n",
       "1      Fully Paid       8000      6.68       245.85    41000.00   24377.00       51.00      29.00                  2.00      8351.63\n",
       "2      Fully Paid      12175      9.17       388.13   100000.00   21329.00       64.60      17.00                  3.00     13205.91\n",
       "3     Charged Off       6400      6.92       197.38    41900.00   14936.00       73.20      15.00                  1.00      3550.38\n",
       "4      Fully Paid      12600      6.68       387.22    73800.00    9904.00       20.70      25.00                  4.00     13125.77\n",
       "...           ...        ...       ...          ...         ...        ...         ...        ...                   ...          ...\n",
       "7143   Fully Paid       5000     17.14       178.62    32500.00    9600.00       55.80      37.00                  9.00      5616.01\n",
       "7144   Fully Paid       5000      8.18       157.10    60000.00   17667.00       67.90      21.00                  2.00      5334.51\n",
       "7145   Fully Paid      13800      8.18       433.59    94000.00   16419.00       55.80      31.00                  9.00     14187.91\n",
       "7146   Fully Paid      19175     17.14       684.98    80000.00   37066.00       71.10      24.00                  6.00     22197.23\n",
       "7147   Fully Paid       4400     13.33       148.96    42000.00    3810.00       30.00      16.00                  9.00      4931.39\n",
       "\n",
       "[7148 rows x 10 columns]"
      ]
     },
     "execution_count": 22,
     "metadata": {},
     "output_type": "execute_result"
    }
   ],
   "source": [
    "df2"
   ]
  },
  {
   "cell_type": "code",
   "execution_count": 23,
   "metadata": {},
   "outputs": [
    {
     "data": {
      "text/html": [
       "<div>\n",
       "<style scoped>\n",
       "    .dataframe tbody tr th:only-of-type {\n",
       "        vertical-align: middle;\n",
       "    }\n",
       "\n",
       "    .dataframe tbody tr th {\n",
       "        vertical-align: top;\n",
       "    }\n",
       "\n",
       "    .dataframe thead th {\n",
       "        text-align: right;\n",
       "    }\n",
       "</style>\n",
       "<table border=\"1\" class=\"dataframe\">\n",
       "  <thead>\n",
       "    <tr style=\"text-align: right;\">\n",
       "      <th></th>\n",
       "      <th>loan_amnt</th>\n",
       "      <th>int_rate</th>\n",
       "      <th>installment</th>\n",
       "      <th>annual_inc</th>\n",
       "      <th>revol_bal</th>\n",
       "      <th>revol_util</th>\n",
       "      <th>total_acc</th>\n",
       "      <th>acc_open_past_24mths</th>\n",
       "      <th>total_pymnt</th>\n",
       "    </tr>\n",
       "  </thead>\n",
       "  <tbody>\n",
       "    <tr>\n",
       "      <th>count</th>\n",
       "      <td>7148.00</td>\n",
       "      <td>7148.00</td>\n",
       "      <td>7148.00</td>\n",
       "      <td>7148.00</td>\n",
       "      <td>7148.00</td>\n",
       "      <td>7148.00</td>\n",
       "      <td>7148.00</td>\n",
       "      <td>7148.00</td>\n",
       "      <td>7148.00</td>\n",
       "    </tr>\n",
       "    <tr>\n",
       "      <th>mean</th>\n",
       "      <td>13583.14</td>\n",
       "      <td>10.43</td>\n",
       "      <td>422.41</td>\n",
       "      <td>70483.56</td>\n",
       "      <td>15798.21</td>\n",
       "      <td>53.07</td>\n",
       "      <td>25.02</td>\n",
       "      <td>4.64</td>\n",
       "      <td>12238.49</td>\n",
       "    </tr>\n",
       "    <tr>\n",
       "      <th>std</th>\n",
       "      <td>8148.13</td>\n",
       "      <td>3.32</td>\n",
       "      <td>226.51</td>\n",
       "      <td>31737.53</td>\n",
       "      <td>10659.26</td>\n",
       "      <td>21.57</td>\n",
       "      <td>10.60</td>\n",
       "      <td>2.61</td>\n",
       "      <td>7640.52</td>\n",
       "    </tr>\n",
       "    <tr>\n",
       "      <th>min</th>\n",
       "      <td>1000.00</td>\n",
       "      <td>5.32</td>\n",
       "      <td>30.85</td>\n",
       "      <td>8000.00</td>\n",
       "      <td>0.00</td>\n",
       "      <td>0.00</td>\n",
       "      <td>4.00</td>\n",
       "      <td>0.00</td>\n",
       "      <td>0.00</td>\n",
       "    </tr>\n",
       "    <tr>\n",
       "      <th>25%</th>\n",
       "      <td>7500.00</td>\n",
       "      <td>7.89</td>\n",
       "      <td>243.39</td>\n",
       "      <td>45000.00</td>\n",
       "      <td>7334.00</td>\n",
       "      <td>36.90</td>\n",
       "      <td>17.00</td>\n",
       "      <td>3.00</td>\n",
       "      <td>6163.63</td>\n",
       "    </tr>\n",
       "    <tr>\n",
       "      <th>50%</th>\n",
       "      <td>11475.00</td>\n",
       "      <td>9.99</td>\n",
       "      <td>367.27</td>\n",
       "      <td>65000.00</td>\n",
       "      <td>12796.50</td>\n",
       "      <td>53.50</td>\n",
       "      <td>24.00</td>\n",
       "      <td>4.00</td>\n",
       "      <td>10607.10</td>\n",
       "    </tr>\n",
       "    <tr>\n",
       "      <th>75%</th>\n",
       "      <td>18612.50</td>\n",
       "      <td>12.69</td>\n",
       "      <td>609.36</td>\n",
       "      <td>93000.00</td>\n",
       "      <td>22061.50</td>\n",
       "      <td>70.90</td>\n",
       "      <td>33.00</td>\n",
       "      <td>7.00</td>\n",
       "      <td>17412.21</td>\n",
       "    </tr>\n",
       "    <tr>\n",
       "      <th>max</th>\n",
       "      <td>35000.00</td>\n",
       "      <td>25.80</td>\n",
       "      <td>833.04</td>\n",
       "      <td>128000.00</td>\n",
       "      <td>37066.00</td>\n",
       "      <td>85.00</td>\n",
       "      <td>43.00</td>\n",
       "      <td>9.00</td>\n",
       "      <td>26131.19</td>\n",
       "    </tr>\n",
       "  </tbody>\n",
       "</table>\n",
       "</div>"
      ],
      "text/plain": [
       "       loan_amnt  int_rate  installment  annual_inc  revol_bal  revol_util  total_acc  acc_open_past_24mths  total_pymnt\n",
       "count    7148.00   7148.00      7148.00     7148.00    7148.00     7148.00    7148.00               7148.00      7148.00\n",
       "mean    13583.14     10.43       422.41    70483.56   15798.21       53.07      25.02                  4.64     12238.49\n",
       "std      8148.13      3.32       226.51    31737.53   10659.26       21.57      10.60                  2.61      7640.52\n",
       "min      1000.00      5.32        30.85     8000.00       0.00        0.00       4.00                  0.00         0.00\n",
       "25%      7500.00      7.89       243.39    45000.00    7334.00       36.90      17.00                  3.00      6163.63\n",
       "50%     11475.00      9.99       367.27    65000.00   12796.50       53.50      24.00                  4.00     10607.10\n",
       "75%     18612.50     12.69       609.36    93000.00   22061.50       70.90      33.00                  7.00     17412.21\n",
       "max     35000.00     25.80       833.04   128000.00   37066.00       85.00      43.00                  9.00     26131.19"
      ]
     },
     "execution_count": 23,
     "metadata": {},
     "output_type": "execute_result"
    }
   ],
   "source": [
    "df2.describe()"
   ]
  },
  {
   "cell_type": "code",
   "execution_count": 24,
   "metadata": {},
   "outputs": [
    {
     "data": {
      "text/plain": [
       "{}"
      ]
     },
     "execution_count": 24,
     "metadata": {},
     "output_type": "execute_result"
    }
   ],
   "source": [
    "windsorizer.left_tail_caps_"
   ]
  },
  {
   "cell_type": "code",
   "execution_count": 25,
   "metadata": {},
   "outputs": [
    {
     "data": {
      "text/plain": [
       "{'installment': 833.0390000000002,\n",
       " 'annual_inc': 128000.0,\n",
       " 'revol_bal': 37066.0,\n",
       " 'revol_util': 85.0,\n",
       " 'total_acc': 43.0,\n",
       " 'acc_open_past_24mths': 9.0,\n",
       " 'total_pymnt': 26131.192000000003}"
      ]
     },
     "execution_count": 25,
     "metadata": {},
     "output_type": "execute_result"
    }
   ],
   "source": [
    "windsorizer.right_tail_caps_"
   ]
  },
  {
   "cell_type": "markdown",
   "metadata": {},
   "source": [
    "### Treat Data Types"
   ]
  },
  {
   "cell_type": "code",
   "execution_count": 26,
   "metadata": {},
   "outputs": [
    {
     "name": "stdout",
     "output_type": "stream",
     "text": [
      "<class 'pandas.core.frame.DataFrame'>\n",
      "RangeIndex: 7148 entries, 0 to 7147\n",
      "Data columns (total 10 columns):\n",
      " #   Column                Non-Null Count  Dtype  \n",
      "---  ------                --------------  -----  \n",
      " 0   loan_status           7148 non-null   object \n",
      " 1   loan_amnt             7148 non-null   int64  \n",
      " 2   int_rate              7148 non-null   float64\n",
      " 3   installment           7148 non-null   float64\n",
      " 4   annual_inc            7148 non-null   float64\n",
      " 5   revol_bal             7148 non-null   int64  \n",
      " 6   revol_util            7148 non-null   float64\n",
      " 7   total_acc             7148 non-null   int64  \n",
      " 8   acc_open_past_24mths  7148 non-null   int64  \n",
      " 9   total_pymnt           7148 non-null   float64\n",
      "dtypes: float64(5), int64(4), object(1)\n",
      "memory usage: 558.6+ KB\n"
     ]
    }
   ],
   "source": [
    "df.info()"
   ]
  },
  {
   "cell_type": "markdown",
   "metadata": {},
   "source": [
    "### Perform One-Hot Encoding"
   ]
  },
  {
   "cell_type": "code",
   "execution_count": 27,
   "metadata": {},
   "outputs": [
    {
     "data": {
      "text/html": [
       "<div>\n",
       "<style scoped>\n",
       "    .dataframe tbody tr th:only-of-type {\n",
       "        vertical-align: middle;\n",
       "    }\n",
       "\n",
       "    .dataframe tbody tr th {\n",
       "        vertical-align: top;\n",
       "    }\n",
       "\n",
       "    .dataframe thead th {\n",
       "        text-align: right;\n",
       "    }\n",
       "</style>\n",
       "<table border=\"1\" class=\"dataframe\">\n",
       "  <thead>\n",
       "    <tr style=\"text-align: right;\">\n",
       "      <th></th>\n",
       "      <th>Charged Off</th>\n",
       "      <th>Fully Paid</th>\n",
       "    </tr>\n",
       "  </thead>\n",
       "  <tbody>\n",
       "    <tr>\n",
       "      <th>0</th>\n",
       "      <td>0</td>\n",
       "      <td>1</td>\n",
       "    </tr>\n",
       "    <tr>\n",
       "      <th>1</th>\n",
       "      <td>0</td>\n",
       "      <td>1</td>\n",
       "    </tr>\n",
       "    <tr>\n",
       "      <th>2</th>\n",
       "      <td>0</td>\n",
       "      <td>1</td>\n",
       "    </tr>\n",
       "    <tr>\n",
       "      <th>3</th>\n",
       "      <td>1</td>\n",
       "      <td>0</td>\n",
       "    </tr>\n",
       "    <tr>\n",
       "      <th>4</th>\n",
       "      <td>0</td>\n",
       "      <td>1</td>\n",
       "    </tr>\n",
       "    <tr>\n",
       "      <th>...</th>\n",
       "      <td>...</td>\n",
       "      <td>...</td>\n",
       "    </tr>\n",
       "    <tr>\n",
       "      <th>7143</th>\n",
       "      <td>0</td>\n",
       "      <td>1</td>\n",
       "    </tr>\n",
       "    <tr>\n",
       "      <th>7144</th>\n",
       "      <td>0</td>\n",
       "      <td>1</td>\n",
       "    </tr>\n",
       "    <tr>\n",
       "      <th>7145</th>\n",
       "      <td>0</td>\n",
       "      <td>1</td>\n",
       "    </tr>\n",
       "    <tr>\n",
       "      <th>7146</th>\n",
       "      <td>0</td>\n",
       "      <td>1</td>\n",
       "    </tr>\n",
       "    <tr>\n",
       "      <th>7147</th>\n",
       "      <td>0</td>\n",
       "      <td>1</td>\n",
       "    </tr>\n",
       "  </tbody>\n",
       "</table>\n",
       "<p>7148 rows × 2 columns</p>\n",
       "</div>"
      ],
      "text/plain": [
       "      Charged Off  Fully Paid\n",
       "0               0           1\n",
       "1               0           1\n",
       "2               0           1\n",
       "3               1           0\n",
       "4               0           1\n",
       "...           ...         ...\n",
       "7143            0           1\n",
       "7144            0           1\n",
       "7145            0           1\n",
       "7146            0           1\n",
       "7147            0           1\n",
       "\n",
       "[7148 rows x 2 columns]"
      ]
     },
     "execution_count": 27,
     "metadata": {},
     "output_type": "execute_result"
    }
   ],
   "source": [
    "pd.get_dummies(df2.loan_status)"
   ]
  },
  {
   "cell_type": "code",
   "execution_count": 28,
   "metadata": {},
   "outputs": [],
   "source": [
    "df2[\"loan_status\"] = pd.get_dummies(data=df2[\"loan_status\"],drop_first=True)"
   ]
  },
  {
   "cell_type": "code",
   "execution_count": 29,
   "metadata": {},
   "outputs": [
    {
     "data": {
      "text/html": [
       "<div>\n",
       "<style scoped>\n",
       "    .dataframe tbody tr th:only-of-type {\n",
       "        vertical-align: middle;\n",
       "    }\n",
       "\n",
       "    .dataframe tbody tr th {\n",
       "        vertical-align: top;\n",
       "    }\n",
       "\n",
       "    .dataframe thead th {\n",
       "        text-align: right;\n",
       "    }\n",
       "</style>\n",
       "<table border=\"1\" class=\"dataframe\">\n",
       "  <thead>\n",
       "    <tr style=\"text-align: right;\">\n",
       "      <th></th>\n",
       "      <th>loan_status</th>\n",
       "      <th>loan_amnt</th>\n",
       "      <th>int_rate</th>\n",
       "      <th>installment</th>\n",
       "      <th>annual_inc</th>\n",
       "      <th>revol_bal</th>\n",
       "      <th>revol_util</th>\n",
       "      <th>total_acc</th>\n",
       "      <th>acc_open_past_24mths</th>\n",
       "      <th>total_pymnt</th>\n",
       "    </tr>\n",
       "  </thead>\n",
       "  <tbody>\n",
       "    <tr>\n",
       "      <th>0</th>\n",
       "      <td>1</td>\n",
       "      <td>24000</td>\n",
       "      <td>7.89</td>\n",
       "      <td>750.86</td>\n",
       "      <td>128000.00</td>\n",
       "      <td>28279.00</td>\n",
       "      <td>36.90</td>\n",
       "      <td>25.00</td>\n",
       "      <td>5.00</td>\n",
       "      <td>24948.45</td>\n",
       "    </tr>\n",
       "    <tr>\n",
       "      <th>1</th>\n",
       "      <td>1</td>\n",
       "      <td>8000</td>\n",
       "      <td>6.68</td>\n",
       "      <td>245.85</td>\n",
       "      <td>41000.00</td>\n",
       "      <td>24377.00</td>\n",
       "      <td>51.00</td>\n",
       "      <td>29.00</td>\n",
       "      <td>2.00</td>\n",
       "      <td>8351.63</td>\n",
       "    </tr>\n",
       "    <tr>\n",
       "      <th>2</th>\n",
       "      <td>1</td>\n",
       "      <td>12175</td>\n",
       "      <td>9.17</td>\n",
       "      <td>388.13</td>\n",
       "      <td>100000.00</td>\n",
       "      <td>21329.00</td>\n",
       "      <td>64.60</td>\n",
       "      <td>17.00</td>\n",
       "      <td>3.00</td>\n",
       "      <td>13205.91</td>\n",
       "    </tr>\n",
       "    <tr>\n",
       "      <th>3</th>\n",
       "      <td>0</td>\n",
       "      <td>6400</td>\n",
       "      <td>6.92</td>\n",
       "      <td>197.38</td>\n",
       "      <td>41900.00</td>\n",
       "      <td>14936.00</td>\n",
       "      <td>73.20</td>\n",
       "      <td>15.00</td>\n",
       "      <td>1.00</td>\n",
       "      <td>3550.38</td>\n",
       "    </tr>\n",
       "    <tr>\n",
       "      <th>4</th>\n",
       "      <td>1</td>\n",
       "      <td>12600</td>\n",
       "      <td>6.68</td>\n",
       "      <td>387.22</td>\n",
       "      <td>73800.00</td>\n",
       "      <td>9904.00</td>\n",
       "      <td>20.70</td>\n",
       "      <td>25.00</td>\n",
       "      <td>4.00</td>\n",
       "      <td>13125.77</td>\n",
       "    </tr>\n",
       "  </tbody>\n",
       "</table>\n",
       "</div>"
      ],
      "text/plain": [
       "   loan_status  loan_amnt  int_rate  installment  annual_inc  revol_bal  revol_util  total_acc  acc_open_past_24mths  total_pymnt\n",
       "0            1      24000      7.89       750.86   128000.00   28279.00       36.90      25.00                  5.00     24948.45\n",
       "1            1       8000      6.68       245.85    41000.00   24377.00       51.00      29.00                  2.00      8351.63\n",
       "2            1      12175      9.17       388.13   100000.00   21329.00       64.60      17.00                  3.00     13205.91\n",
       "3            0       6400      6.92       197.38    41900.00   14936.00       73.20      15.00                  1.00      3550.38\n",
       "4            1      12600      6.68       387.22    73800.00    9904.00       20.70      25.00                  4.00     13125.77"
      ]
     },
     "execution_count": 29,
     "metadata": {},
     "output_type": "execute_result"
    }
   ],
   "source": [
    "df2.head()"
   ]
  },
  {
   "cell_type": "code",
   "execution_count": 30,
   "metadata": {},
   "outputs": [],
   "source": [
    "df2[\"loss\"] = df2[\"loan_amnt\"]-df2[\"total_pymnt\"]"
   ]
  },
  {
   "cell_type": "code",
   "execution_count": 31,
   "metadata": {},
   "outputs": [
    {
     "data": {
      "text/html": [
       "<div>\n",
       "<style scoped>\n",
       "    .dataframe tbody tr th:only-of-type {\n",
       "        vertical-align: middle;\n",
       "    }\n",
       "\n",
       "    .dataframe tbody tr th {\n",
       "        vertical-align: top;\n",
       "    }\n",
       "\n",
       "    .dataframe thead th {\n",
       "        text-align: right;\n",
       "    }\n",
       "</style>\n",
       "<table border=\"1\" class=\"dataframe\">\n",
       "  <thead>\n",
       "    <tr style=\"text-align: right;\">\n",
       "      <th></th>\n",
       "      <th>loan_status</th>\n",
       "      <th>loan_amnt</th>\n",
       "      <th>int_rate</th>\n",
       "      <th>installment</th>\n",
       "      <th>annual_inc</th>\n",
       "      <th>revol_bal</th>\n",
       "      <th>revol_util</th>\n",
       "      <th>total_acc</th>\n",
       "      <th>acc_open_past_24mths</th>\n",
       "      <th>total_pymnt</th>\n",
       "      <th>loss</th>\n",
       "    </tr>\n",
       "  </thead>\n",
       "  <tbody>\n",
       "    <tr>\n",
       "      <th>0</th>\n",
       "      <td>1</td>\n",
       "      <td>24000</td>\n",
       "      <td>7.89</td>\n",
       "      <td>750.86</td>\n",
       "      <td>128000.00</td>\n",
       "      <td>28279.00</td>\n",
       "      <td>36.90</td>\n",
       "      <td>25.00</td>\n",
       "      <td>5.00</td>\n",
       "      <td>24948.45</td>\n",
       "      <td>-948.45</td>\n",
       "    </tr>\n",
       "    <tr>\n",
       "      <th>1</th>\n",
       "      <td>1</td>\n",
       "      <td>8000</td>\n",
       "      <td>6.68</td>\n",
       "      <td>245.85</td>\n",
       "      <td>41000.00</td>\n",
       "      <td>24377.00</td>\n",
       "      <td>51.00</td>\n",
       "      <td>29.00</td>\n",
       "      <td>2.00</td>\n",
       "      <td>8351.63</td>\n",
       "      <td>-351.63</td>\n",
       "    </tr>\n",
       "    <tr>\n",
       "      <th>2</th>\n",
       "      <td>1</td>\n",
       "      <td>12175</td>\n",
       "      <td>9.17</td>\n",
       "      <td>388.13</td>\n",
       "      <td>100000.00</td>\n",
       "      <td>21329.00</td>\n",
       "      <td>64.60</td>\n",
       "      <td>17.00</td>\n",
       "      <td>3.00</td>\n",
       "      <td>13205.91</td>\n",
       "      <td>-1030.91</td>\n",
       "    </tr>\n",
       "    <tr>\n",
       "      <th>3</th>\n",
       "      <td>0</td>\n",
       "      <td>6400</td>\n",
       "      <td>6.92</td>\n",
       "      <td>197.38</td>\n",
       "      <td>41900.00</td>\n",
       "      <td>14936.00</td>\n",
       "      <td>73.20</td>\n",
       "      <td>15.00</td>\n",
       "      <td>1.00</td>\n",
       "      <td>3550.38</td>\n",
       "      <td>2849.62</td>\n",
       "    </tr>\n",
       "    <tr>\n",
       "      <th>4</th>\n",
       "      <td>1</td>\n",
       "      <td>12600</td>\n",
       "      <td>6.68</td>\n",
       "      <td>387.22</td>\n",
       "      <td>73800.00</td>\n",
       "      <td>9904.00</td>\n",
       "      <td>20.70</td>\n",
       "      <td>25.00</td>\n",
       "      <td>4.00</td>\n",
       "      <td>13125.77</td>\n",
       "      <td>-525.77</td>\n",
       "    </tr>\n",
       "    <tr>\n",
       "      <th>...</th>\n",
       "      <td>...</td>\n",
       "      <td>...</td>\n",
       "      <td>...</td>\n",
       "      <td>...</td>\n",
       "      <td>...</td>\n",
       "      <td>...</td>\n",
       "      <td>...</td>\n",
       "      <td>...</td>\n",
       "      <td>...</td>\n",
       "      <td>...</td>\n",
       "      <td>...</td>\n",
       "    </tr>\n",
       "    <tr>\n",
       "      <th>7143</th>\n",
       "      <td>1</td>\n",
       "      <td>5000</td>\n",
       "      <td>17.14</td>\n",
       "      <td>178.62</td>\n",
       "      <td>32500.00</td>\n",
       "      <td>9600.00</td>\n",
       "      <td>55.80</td>\n",
       "      <td>37.00</td>\n",
       "      <td>9.00</td>\n",
       "      <td>5616.01</td>\n",
       "      <td>-616.01</td>\n",
       "    </tr>\n",
       "    <tr>\n",
       "      <th>7144</th>\n",
       "      <td>1</td>\n",
       "      <td>5000</td>\n",
       "      <td>8.18</td>\n",
       "      <td>157.10</td>\n",
       "      <td>60000.00</td>\n",
       "      <td>17667.00</td>\n",
       "      <td>67.90</td>\n",
       "      <td>21.00</td>\n",
       "      <td>2.00</td>\n",
       "      <td>5334.51</td>\n",
       "      <td>-334.51</td>\n",
       "    </tr>\n",
       "    <tr>\n",
       "      <th>7145</th>\n",
       "      <td>1</td>\n",
       "      <td>13800</td>\n",
       "      <td>8.18</td>\n",
       "      <td>433.59</td>\n",
       "      <td>94000.00</td>\n",
       "      <td>16419.00</td>\n",
       "      <td>55.80</td>\n",
       "      <td>31.00</td>\n",
       "      <td>9.00</td>\n",
       "      <td>14187.91</td>\n",
       "      <td>-387.91</td>\n",
       "    </tr>\n",
       "    <tr>\n",
       "      <th>7146</th>\n",
       "      <td>1</td>\n",
       "      <td>19175</td>\n",
       "      <td>17.14</td>\n",
       "      <td>684.98</td>\n",
       "      <td>80000.00</td>\n",
       "      <td>37066.00</td>\n",
       "      <td>71.10</td>\n",
       "      <td>24.00</td>\n",
       "      <td>6.00</td>\n",
       "      <td>22197.23</td>\n",
       "      <td>-3022.23</td>\n",
       "    </tr>\n",
       "    <tr>\n",
       "      <th>7147</th>\n",
       "      <td>1</td>\n",
       "      <td>4400</td>\n",
       "      <td>13.33</td>\n",
       "      <td>148.96</td>\n",
       "      <td>42000.00</td>\n",
       "      <td>3810.00</td>\n",
       "      <td>30.00</td>\n",
       "      <td>16.00</td>\n",
       "      <td>9.00</td>\n",
       "      <td>4931.39</td>\n",
       "      <td>-531.39</td>\n",
       "    </tr>\n",
       "  </tbody>\n",
       "</table>\n",
       "<p>7148 rows × 11 columns</p>\n",
       "</div>"
      ],
      "text/plain": [
       "      loan_status  loan_amnt  int_rate  installment  annual_inc  revol_bal  revol_util  total_acc  acc_open_past_24mths  total_pymnt     loss\n",
       "0               1      24000      7.89       750.86   128000.00   28279.00       36.90      25.00                  5.00     24948.45  -948.45\n",
       "1               1       8000      6.68       245.85    41000.00   24377.00       51.00      29.00                  2.00      8351.63  -351.63\n",
       "2               1      12175      9.17       388.13   100000.00   21329.00       64.60      17.00                  3.00     13205.91 -1030.91\n",
       "3               0       6400      6.92       197.38    41900.00   14936.00       73.20      15.00                  1.00      3550.38  2849.62\n",
       "4               1      12600      6.68       387.22    73800.00    9904.00       20.70      25.00                  4.00     13125.77  -525.77\n",
       "...           ...        ...       ...          ...         ...        ...         ...        ...                   ...          ...      ...\n",
       "7143            1       5000     17.14       178.62    32500.00    9600.00       55.80      37.00                  9.00      5616.01  -616.01\n",
       "7144            1       5000      8.18       157.10    60000.00   17667.00       67.90      21.00                  2.00      5334.51  -334.51\n",
       "7145            1      13800      8.18       433.59    94000.00   16419.00       55.80      31.00                  9.00     14187.91  -387.91\n",
       "7146            1      19175     17.14       684.98    80000.00   37066.00       71.10      24.00                  6.00     22197.23 -3022.23\n",
       "7147            1       4400     13.33       148.96    42000.00    3810.00       30.00      16.00                  9.00      4931.39  -531.39\n",
       "\n",
       "[7148 rows x 11 columns]"
      ]
     },
     "execution_count": 31,
     "metadata": {},
     "output_type": "execute_result"
    }
   ],
   "source": [
    "df2"
   ]
  },
  {
   "cell_type": "markdown",
   "metadata": {},
   "source": [
    "### Create and save processed dataset"
   ]
  },
  {
   "cell_type": "code",
   "execution_count": 32,
   "metadata": {},
   "outputs": [],
   "source": [
    "#df2.to_csv(\"loancleaned.csv\",index=False)"
   ]
  },
  {
   "cell_type": "code",
   "execution_count": null,
   "metadata": {},
   "outputs": [],
   "source": []
  },
  {
   "cell_type": "markdown",
   "metadata": {},
   "source": [
    "## Data Visualization"
   ]
  },
  {
   "cell_type": "markdown",
   "metadata": {},
   "source": [
    "### Univariate Data Exploration"
   ]
  },
  {
   "cell_type": "code",
   "execution_count": 33,
   "metadata": {},
   "outputs": [
    {
     "data": {
      "image/png": "[encoded data removed]",
      "text/plain": [
       "<Figure size 1440x720 with 9 Axes>"
      ]
     },
     "metadata": {},
     "output_type": "display_data"
    }
   ],
   "source": [
    "df.hist(bins=50, figsize=(20,10))\n",
    "plt.suptitle('Histogram Feature Distribution', x=0.5, y=1.02, ha='center', fontsize=20)\n",
    "plt.tight_layout()\n",
    "plt.show()"
   ]
  },
  {
   "cell_type": "code",
   "execution_count": 34,
   "metadata": {},
   "outputs": [
    {
     "data": {
      "image/png": "[encoded data removed]",
      "text/plain": [
       "<Figure size 1440x720 with 1 Axes>"
      ]
     },
     "metadata": {},
     "output_type": "display_data"
    }
   ],
   "source": [
    "df.boxplot(figsize=(20,10))\n",
    "plt.suptitle('BoxPlots Feature Distribution', x=0.5, y=1.02, ha='center', fontsize=20)\n",
    "plt.tight_layout()\n",
    "plt.show()"
   ]
  },
  {
   "cell_type": "markdown",
   "metadata": {},
   "source": [
    "Data visualization - part A. Create a plot to illustrate the distribution of interest rate (int_rate). Make sure to use a plot appropriate for illustrating distribution. "
   ]
  },
  {
   "cell_type": "code",
   "execution_count": 35,
   "metadata": {},
   "outputs": [
    {
     "data": {
      "image/png": "[encoded data removed]",
      "text/plain": [
       "<Figure size 432x288 with 1 Axes>"
      ]
     },
     "metadata": {},
     "output_type": "display_data"
    }
   ],
   "source": [
    "sns.histplot(data=df, x='int_rate')\n",
    "plt.title(\"Int_rate Histogram\")\n",
    "plt.show()"
   ]
  },
  {
   "cell_type": "markdown",
   "metadata": {},
   "source": [
    "Data visualization - Part B. What is the relationship between annual income and interest rate? Create a plot to illustrate this relationship. Make sure to use an appropriate type of plot. [Hint: You may need to remove outliers before creating the plot.] "
   ]
  },
  {
   "cell_type": "code",
   "execution_count": 36,
   "metadata": {},
   "outputs": [
    {
     "data": {
      "image/png": "[encoded data removed]",
      "text/plain": [
       "<Figure size 432x288 with 1 Axes>"
      ]
     },
     "metadata": {},
     "output_type": "display_data"
    }
   ],
   "source": [
    "sns.scatterplot(x='annual_inc', y='int_rate', data=df2)\n",
    "plt.title(\"Scatterplot for Annual Income vs Interest Rate\")\n",
    "plt.show()"
   ]
  },
  {
   "cell_type": "code",
   "execution_count": 37,
   "metadata": {},
   "outputs": [
    {
     "data": {
      "text/plain": [
       "Index(['loan_status', 'loan_amnt', 'int_rate', 'installment', 'annual_inc', 'revol_bal', 'revol_util', 'total_acc', 'acc_open_past_24mths', 'total_pymnt', 'loss'], dtype='object')"
      ]
     },
     "execution_count": 37,
     "metadata": {},
     "output_type": "execute_result"
    }
   ],
   "source": [
    "df2.columns"
   ]
  },
  {
   "cell_type": "code",
   "execution_count": 38,
   "metadata": {},
   "outputs": [
    {
     "data": {
      "text/plain": [
       "<Figure size 1440x1440 with 0 Axes>"
      ]
     },
     "metadata": {},
     "output_type": "display_data"
    },
    {
     "data": {
      "image/png": "[encoded data removed]",
      "text/plain": [
       "<Figure size 720x720 with 2 Axes>"
      ]
     },
     "metadata": {},
     "output_type": "display_data"
    }
   ],
   "source": [
    "plt.figure(figsize=(20,20))\n",
    "\n",
    "\n",
    "\n",
    "sns.relplot(x=\"total_pymnt\", y=\"loan_amnt\", \n",
    "            row=\"loan_status\",\n",
    "            data=df2, height = 5, aspect = 2)\n",
    "\n",
    "\n",
    "plt.suptitle('Scatterplot by Loan Status', x=0.5, y=1.02, ha='center', fontsize=20)\n",
    "plt.show()"
   ]
  },
  {
   "cell_type": "markdown",
   "metadata": {},
   "source": [
    "## Perform predictive analytics tasks"
   ]
  },
  {
   "cell_type": "code",
   "execution_count": 39,
   "metadata": {},
   "outputs": [],
   "source": [
    "df = pd.read_csv(\"loancleaned.csv\")"
   ]
  },
  {
   "cell_type": "code",
   "execution_count": 40,
   "metadata": {},
   "outputs": [
    {
     "data": {
      "text/html": [
       "<div>\n",
       "<style scoped>\n",
       "    .dataframe tbody tr th:only-of-type {\n",
       "        vertical-align: middle;\n",
       "    }\n",
       "\n",
       "    .dataframe tbody tr th {\n",
       "        vertical-align: top;\n",
       "    }\n",
       "\n",
       "    .dataframe thead th {\n",
       "        text-align: right;\n",
       "    }\n",
       "</style>\n",
       "<table border=\"1\" class=\"dataframe\">\n",
       "  <thead>\n",
       "    <tr style=\"text-align: right;\">\n",
       "      <th></th>\n",
       "      <th>loan_status</th>\n",
       "      <th>loan_amnt</th>\n",
       "      <th>int_rate</th>\n",
       "      <th>installment</th>\n",
       "      <th>annual_inc</th>\n",
       "      <th>revol_bal</th>\n",
       "      <th>revol_util</th>\n",
       "      <th>total_acc</th>\n",
       "      <th>acc_open_past_24mths</th>\n",
       "      <th>total_pymnt</th>\n",
       "      <th>loss</th>\n",
       "    </tr>\n",
       "  </thead>\n",
       "  <tbody>\n",
       "    <tr>\n",
       "      <th>0</th>\n",
       "      <td>1</td>\n",
       "      <td>24000</td>\n",
       "      <td>7.89</td>\n",
       "      <td>750.86</td>\n",
       "      <td>128000.00</td>\n",
       "      <td>28279.00</td>\n",
       "      <td>36.90</td>\n",
       "      <td>25.00</td>\n",
       "      <td>5.00</td>\n",
       "      <td>24948.45</td>\n",
       "      <td>-948.45</td>\n",
       "    </tr>\n",
       "    <tr>\n",
       "      <th>1</th>\n",
       "      <td>1</td>\n",
       "      <td>8000</td>\n",
       "      <td>6.68</td>\n",
       "      <td>245.85</td>\n",
       "      <td>41000.00</td>\n",
       "      <td>24377.00</td>\n",
       "      <td>51.00</td>\n",
       "      <td>29.00</td>\n",
       "      <td>2.00</td>\n",
       "      <td>8351.63</td>\n",
       "      <td>-351.63</td>\n",
       "    </tr>\n",
       "    <tr>\n",
       "      <th>2</th>\n",
       "      <td>1</td>\n",
       "      <td>12175</td>\n",
       "      <td>9.17</td>\n",
       "      <td>388.13</td>\n",
       "      <td>100000.00</td>\n",
       "      <td>21329.00</td>\n",
       "      <td>64.60</td>\n",
       "      <td>17.00</td>\n",
       "      <td>3.00</td>\n",
       "      <td>13205.91</td>\n",
       "      <td>-1030.91</td>\n",
       "    </tr>\n",
       "    <tr>\n",
       "      <th>3</th>\n",
       "      <td>0</td>\n",
       "      <td>6400</td>\n",
       "      <td>6.92</td>\n",
       "      <td>197.38</td>\n",
       "      <td>41900.00</td>\n",
       "      <td>14936.00</td>\n",
       "      <td>73.20</td>\n",
       "      <td>15.00</td>\n",
       "      <td>1.00</td>\n",
       "      <td>3550.38</td>\n",
       "      <td>2849.62</td>\n",
       "    </tr>\n",
       "    <tr>\n",
       "      <th>4</th>\n",
       "      <td>1</td>\n",
       "      <td>12600</td>\n",
       "      <td>6.68</td>\n",
       "      <td>387.22</td>\n",
       "      <td>73800.00</td>\n",
       "      <td>9904.00</td>\n",
       "      <td>20.70</td>\n",
       "      <td>25.00</td>\n",
       "      <td>4.00</td>\n",
       "      <td>13125.77</td>\n",
       "      <td>-525.77</td>\n",
       "    </tr>\n",
       "  </tbody>\n",
       "</table>\n",
       "</div>"
      ],
      "text/plain": [
       "   loan_status  loan_amnt  int_rate  installment  annual_inc  revol_bal  revol_util  total_acc  acc_open_past_24mths  total_pymnt     loss\n",
       "0            1      24000      7.89       750.86   128000.00   28279.00       36.90      25.00                  5.00     24948.45  -948.45\n",
       "1            1       8000      6.68       245.85    41000.00   24377.00       51.00      29.00                  2.00      8351.63  -351.63\n",
       "2            1      12175      9.17       388.13   100000.00   21329.00       64.60      17.00                  3.00     13205.91 -1030.91\n",
       "3            0       6400      6.92       197.38    41900.00   14936.00       73.20      15.00                  1.00      3550.38  2849.62\n",
       "4            1      12600      6.68       387.22    73800.00    9904.00       20.70      25.00                  4.00     13125.77  -525.77"
      ]
     },
     "execution_count": 40,
     "metadata": {},
     "output_type": "execute_result"
    }
   ],
   "source": [
    "df.head()"
   ]
  },
  {
   "cell_type": "code",
   "execution_count": 41,
   "metadata": {},
   "outputs": [
    {
     "data": {
      "text/plain": [
       "(7148, 11)"
      ]
     },
     "execution_count": 41,
     "metadata": {},
     "output_type": "execute_result"
    }
   ],
   "source": [
    "df.shape"
   ]
  },
  {
   "cell_type": "markdown",
   "metadata": {},
   "source": [
    "Part 1. One of the important things for lenders is to be able to classify loans into good and bad loans. Classifying the loans into good and bad loans is a classification problem that can be done with several different tools we learned in this specialization, including logistic regression, classification trees, and neural networks."
   ]
  },
  {
   "cell_type": "markdown",
   "metadata": {},
   "source": [
    "Build a logistic regression model with loan_status as the dependent variable and all other variables except total_pymnt as explanatory variables. "
   ]
  },
  {
   "cell_type": "code",
   "execution_count": 42,
   "metadata": {},
   "outputs": [
    {
     "data": {
      "text/plain": [
       "Index(['loan_status', 'loan_amnt', 'int_rate', 'installment', 'annual_inc', 'revol_bal', 'revol_util', 'total_acc', 'acc_open_past_24mths', 'total_pymnt', 'loss'], dtype='object')"
      ]
     },
     "execution_count": 42,
     "metadata": {},
     "output_type": "execute_result"
    }
   ],
   "source": [
    "df.columns"
   ]
  },
  {
   "cell_type": "code",
   "execution_count": 43,
   "metadata": {},
   "outputs": [],
   "source": [
    "df2 = df[['loan_amnt', 'int_rate', 'installment', 'annual_inc', \n",
    "          'revol_bal', 'revol_util', 'total_acc', 'acc_open_past_24mths','loan_status']]"
   ]
  },
  {
   "cell_type": "code",
   "execution_count": 44,
   "metadata": {},
   "outputs": [
    {
     "data": {
      "text/html": [
       "<div>\n",
       "<style scoped>\n",
       "    .dataframe tbody tr th:only-of-type {\n",
       "        vertical-align: middle;\n",
       "    }\n",
       "\n",
       "    .dataframe tbody tr th {\n",
       "        vertical-align: top;\n",
       "    }\n",
       "\n",
       "    .dataframe thead th {\n",
       "        text-align: right;\n",
       "    }\n",
       "</style>\n",
       "<table border=\"1\" class=\"dataframe\">\n",
       "  <thead>\n",
       "    <tr style=\"text-align: right;\">\n",
       "      <th></th>\n",
       "      <th>loan_amnt</th>\n",
       "      <th>int_rate</th>\n",
       "      <th>installment</th>\n",
       "      <th>annual_inc</th>\n",
       "      <th>revol_bal</th>\n",
       "      <th>revol_util</th>\n",
       "      <th>total_acc</th>\n",
       "      <th>acc_open_past_24mths</th>\n",
       "      <th>loan_status</th>\n",
       "    </tr>\n",
       "  </thead>\n",
       "  <tbody>\n",
       "    <tr>\n",
       "      <th>0</th>\n",
       "      <td>24000</td>\n",
       "      <td>7.89</td>\n",
       "      <td>750.86</td>\n",
       "      <td>128000.00</td>\n",
       "      <td>28279.00</td>\n",
       "      <td>36.90</td>\n",
       "      <td>25.00</td>\n",
       "      <td>5.00</td>\n",
       "      <td>1</td>\n",
       "    </tr>\n",
       "    <tr>\n",
       "      <th>1</th>\n",
       "      <td>8000</td>\n",
       "      <td>6.68</td>\n",
       "      <td>245.85</td>\n",
       "      <td>41000.00</td>\n",
       "      <td>24377.00</td>\n",
       "      <td>51.00</td>\n",
       "      <td>29.00</td>\n",
       "      <td>2.00</td>\n",
       "      <td>1</td>\n",
       "    </tr>\n",
       "    <tr>\n",
       "      <th>2</th>\n",
       "      <td>12175</td>\n",
       "      <td>9.17</td>\n",
       "      <td>388.13</td>\n",
       "      <td>100000.00</td>\n",
       "      <td>21329.00</td>\n",
       "      <td>64.60</td>\n",
       "      <td>17.00</td>\n",
       "      <td>3.00</td>\n",
       "      <td>1</td>\n",
       "    </tr>\n",
       "    <tr>\n",
       "      <th>3</th>\n",
       "      <td>6400</td>\n",
       "      <td>6.92</td>\n",
       "      <td>197.38</td>\n",
       "      <td>41900.00</td>\n",
       "      <td>14936.00</td>\n",
       "      <td>73.20</td>\n",
       "      <td>15.00</td>\n",
       "      <td>1.00</td>\n",
       "      <td>0</td>\n",
       "    </tr>\n",
       "    <tr>\n",
       "      <th>4</th>\n",
       "      <td>12600</td>\n",
       "      <td>6.68</td>\n",
       "      <td>387.22</td>\n",
       "      <td>73800.00</td>\n",
       "      <td>9904.00</td>\n",
       "      <td>20.70</td>\n",
       "      <td>25.00</td>\n",
       "      <td>4.00</td>\n",
       "      <td>1</td>\n",
       "    </tr>\n",
       "  </tbody>\n",
       "</table>\n",
       "</div>"
      ],
      "text/plain": [
       "   loan_amnt  int_rate  installment  annual_inc  revol_bal  revol_util  total_acc  acc_open_past_24mths  loan_status\n",
       "0      24000      7.89       750.86   128000.00   28279.00       36.90      25.00                  5.00            1\n",
       "1       8000      6.68       245.85    41000.00   24377.00       51.00      29.00                  2.00            1\n",
       "2      12175      9.17       388.13   100000.00   21329.00       64.60      17.00                  3.00            1\n",
       "3       6400      6.92       197.38    41900.00   14936.00       73.20      15.00                  1.00            0\n",
       "4      12600      6.68       387.22    73800.00    9904.00       20.70      25.00                  4.00            1"
      ]
     },
     "execution_count": 44,
     "metadata": {},
     "output_type": "execute_result"
    }
   ],
   "source": [
    "df2.head()"
   ]
  },
  {
   "cell_type": "markdown",
   "metadata": {},
   "source": [
    "### Train Test Split"
   ]
  },
  {
   "cell_type": "code",
   "execution_count": 45,
   "metadata": {},
   "outputs": [
    {
     "data": {
      "text/plain": [
       "(7148, 9)"
      ]
     },
     "execution_count": 45,
     "metadata": {},
     "output_type": "execute_result"
    }
   ],
   "source": [
    "df2.shape"
   ]
  },
  {
   "cell_type": "code",
   "execution_count": 46,
   "metadata": {},
   "outputs": [],
   "source": [
    "X = df2.iloc[:,:8]\n",
    "y = df2.iloc[:,8]"
   ]
  },
  {
   "cell_type": "code",
   "execution_count": 47,
   "metadata": {},
   "outputs": [
    {
     "data": {
      "text/plain": [
       "(array([[24000.  ,     7.89,   750.86, ...,    36.9 ,    25.  ,     5.  ],\n",
       "        [ 8000.  ,     6.68,   245.85, ...,    51.  ,    29.  ,     2.  ],\n",
       "        [12175.  ,     9.17,   388.13, ...,    64.6 ,    17.  ,     3.  ],\n",
       "        ...,\n",
       "        [13800.  ,     8.18,   433.59, ...,    55.8 ,    31.  ,     9.  ],\n",
       "        [19175.  ,    17.14,   684.98, ...,    71.1 ,    24.  ,     6.  ],\n",
       "        [ 4400.  ,    13.33,   148.96, ...,    30.  ,    16.  ,     9.  ]]),\n",
       " array([1, 1, 1, ..., 1, 1, 1], dtype=int64))"
      ]
     },
     "execution_count": 47,
     "metadata": {},
     "output_type": "execute_result"
    }
   ],
   "source": [
    "X.values, y.values"
   ]
  },
  {
   "cell_type": "code",
   "execution_count": 48,
   "metadata": {},
   "outputs": [],
   "source": [
    "X_train, X_test, y_train, y_test = train_test_split(X, y, test_size=0.4, random_state=0)"
   ]
  },
  {
   "cell_type": "code",
   "execution_count": 49,
   "metadata": {},
   "outputs": [
    {
     "data": {
      "text/plain": [
       "((4288, 8), (2860, 8), (4288,), (2860,))"
      ]
     },
     "execution_count": 49,
     "metadata": {},
     "output_type": "execute_result"
    }
   ],
   "source": [
    "X_train.shape, X_test.shape, y_train.shape, y_test.shape"
   ]
  },
  {
   "cell_type": "markdown",
   "metadata": {},
   "source": [
    "## Feature Scaling"
   ]
  },
  {
   "cell_type": "code",
   "execution_count": 50,
   "metadata": {},
   "outputs": [
    {
     "data": {
      "text/html": [
       "<div>\n",
       "<style scoped>\n",
       "    .dataframe tbody tr th:only-of-type {\n",
       "        vertical-align: middle;\n",
       "    }\n",
       "\n",
       "    .dataframe tbody tr th {\n",
       "        vertical-align: top;\n",
       "    }\n",
       "\n",
       "    .dataframe thead th {\n",
       "        text-align: right;\n",
       "    }\n",
       "</style>\n",
       "<table border=\"1\" class=\"dataframe\">\n",
       "  <thead>\n",
       "    <tr style=\"text-align: right;\">\n",
       "      <th></th>\n",
       "      <th>loan_amnt</th>\n",
       "      <th>int_rate</th>\n",
       "      <th>installment</th>\n",
       "      <th>annual_inc</th>\n",
       "      <th>revol_bal</th>\n",
       "      <th>revol_util</th>\n",
       "      <th>total_acc</th>\n",
       "      <th>acc_open_past_24mths</th>\n",
       "    </tr>\n",
       "  </thead>\n",
       "  <tbody>\n",
       "    <tr>\n",
       "      <th>1765</th>\n",
       "      <td>11000</td>\n",
       "      <td>12.05</td>\n",
       "      <td>365.63</td>\n",
       "      <td>40000.00</td>\n",
       "      <td>10477.00</td>\n",
       "      <td>61.30</td>\n",
       "      <td>10.00</td>\n",
       "      <td>0.00</td>\n",
       "    </tr>\n",
       "    <tr>\n",
       "      <th>6593</th>\n",
       "      <td>10400</td>\n",
       "      <td>10.99</td>\n",
       "      <td>340.44</td>\n",
       "      <td>45000.00</td>\n",
       "      <td>7060.00</td>\n",
       "      <td>27.60</td>\n",
       "      <td>21.00</td>\n",
       "      <td>9.00</td>\n",
       "    </tr>\n",
       "    <tr>\n",
       "      <th>3482</th>\n",
       "      <td>2000</td>\n",
       "      <td>11.44</td>\n",
       "      <td>65.90</td>\n",
       "      <td>45000.00</td>\n",
       "      <td>13822.00</td>\n",
       "      <td>85.00</td>\n",
       "      <td>29.00</td>\n",
       "      <td>2.00</td>\n",
       "    </tr>\n",
       "    <tr>\n",
       "      <th>913</th>\n",
       "      <td>15000</td>\n",
       "      <td>8.67</td>\n",
       "      <td>474.70</td>\n",
       "      <td>45000.00</td>\n",
       "      <td>11559.00</td>\n",
       "      <td>51.80</td>\n",
       "      <td>13.00</td>\n",
       "      <td>8.00</td>\n",
       "    </tr>\n",
       "    <tr>\n",
       "      <th>720</th>\n",
       "      <td>20000</td>\n",
       "      <td>6.99</td>\n",
       "      <td>617.46</td>\n",
       "      <td>85000.00</td>\n",
       "      <td>27271.00</td>\n",
       "      <td>49.80</td>\n",
       "      <td>17.00</td>\n",
       "      <td>2.00</td>\n",
       "    </tr>\n",
       "    <tr>\n",
       "      <th>...</th>\n",
       "      <td>...</td>\n",
       "      <td>...</td>\n",
       "      <td>...</td>\n",
       "      <td>...</td>\n",
       "      <td>...</td>\n",
       "      <td>...</td>\n",
       "      <td>...</td>\n",
       "      <td>...</td>\n",
       "    </tr>\n",
       "    <tr>\n",
       "      <th>4931</th>\n",
       "      <td>10000</td>\n",
       "      <td>8.18</td>\n",
       "      <td>314.20</td>\n",
       "      <td>44709.24</td>\n",
       "      <td>9645.00</td>\n",
       "      <td>78.40</td>\n",
       "      <td>6.00</td>\n",
       "      <td>0.00</td>\n",
       "    </tr>\n",
       "    <tr>\n",
       "      <th>3264</th>\n",
       "      <td>12000</td>\n",
       "      <td>8.19</td>\n",
       "      <td>377.09</td>\n",
       "      <td>90000.00</td>\n",
       "      <td>4361.00</td>\n",
       "      <td>53.20</td>\n",
       "      <td>19.00</td>\n",
       "      <td>5.00</td>\n",
       "    </tr>\n",
       "    <tr>\n",
       "      <th>1653</th>\n",
       "      <td>6200</td>\n",
       "      <td>7.89</td>\n",
       "      <td>193.98</td>\n",
       "      <td>109300.00</td>\n",
       "      <td>2791.00</td>\n",
       "      <td>17.40</td>\n",
       "      <td>29.00</td>\n",
       "      <td>4.00</td>\n",
       "    </tr>\n",
       "    <tr>\n",
       "      <th>2607</th>\n",
       "      <td>12600</td>\n",
       "      <td>6.24</td>\n",
       "      <td>384.69</td>\n",
       "      <td>72000.00</td>\n",
       "      <td>12834.00</td>\n",
       "      <td>44.40</td>\n",
       "      <td>23.00</td>\n",
       "      <td>6.00</td>\n",
       "    </tr>\n",
       "    <tr>\n",
       "      <th>2732</th>\n",
       "      <td>11200</td>\n",
       "      <td>12.29</td>\n",
       "      <td>373.56</td>\n",
       "      <td>30000.00</td>\n",
       "      <td>10157.00</td>\n",
       "      <td>71.50</td>\n",
       "      <td>26.00</td>\n",
       "      <td>3.00</td>\n",
       "    </tr>\n",
       "  </tbody>\n",
       "</table>\n",
       "<p>4288 rows × 8 columns</p>\n",
       "</div>"
      ],
      "text/plain": [
       "      loan_amnt  int_rate  installment  annual_inc  revol_bal  revol_util  total_acc  acc_open_past_24mths\n",
       "1765      11000     12.05       365.63    40000.00   10477.00       61.30      10.00                  0.00\n",
       "6593      10400     10.99       340.44    45000.00    7060.00       27.60      21.00                  9.00\n",
       "3482       2000     11.44        65.90    45000.00   13822.00       85.00      29.00                  2.00\n",
       "913       15000      8.67       474.70    45000.00   11559.00       51.80      13.00                  8.00\n",
       "720       20000      6.99       617.46    85000.00   27271.00       49.80      17.00                  2.00\n",
       "...         ...       ...          ...         ...        ...         ...        ...                   ...\n",
       "4931      10000      8.18       314.20    44709.24    9645.00       78.40       6.00                  0.00\n",
       "3264      12000      8.19       377.09    90000.00    4361.00       53.20      19.00                  5.00\n",
       "1653       6200      7.89       193.98   109300.00    2791.00       17.40      29.00                  4.00\n",
       "2607      12600      6.24       384.69    72000.00   12834.00       44.40      23.00                  6.00\n",
       "2732      11200     12.29       373.56    30000.00   10157.00       71.50      26.00                  3.00\n",
       "\n",
       "[4288 rows x 8 columns]"
      ]
     },
     "execution_count": 50,
     "metadata": {},
     "output_type": "execute_result"
    }
   ],
   "source": [
    "X_train"
   ]
  },
  {
   "cell_type": "code",
   "execution_count": 51,
   "metadata": {},
   "outputs": [],
   "source": [
    "minmax = MinMaxScaler()"
   ]
  },
  {
   "cell_type": "code",
   "execution_count": 52,
   "metadata": {},
   "outputs": [],
   "source": [
    "X_train_scaled = minmax.fit_transform(X_train)"
   ]
  },
  {
   "cell_type": "code",
   "execution_count": 53,
   "metadata": {},
   "outputs": [],
   "source": [
    "X_test_scaled = minmax.transform(X_test)"
   ]
  },
  {
   "cell_type": "code",
   "execution_count": 54,
   "metadata": {},
   "outputs": [
    {
     "data": {
      "text/plain": [
       "array([[0.29411765, 0.33234568, 0.41733307, ..., 0.72117647, 0.15384615,\n",
       "        0.        ],\n",
       "       [0.27647059, 0.28      , 0.38593149, ..., 0.32470588, 0.43589744,\n",
       "        1.        ],\n",
       "       [0.02941176, 0.30222222, 0.04369295, ..., 1.        , 0.64102564,\n",
       "        0.22222222],\n",
       "       ...,\n",
       "       [0.15294118, 0.12691358, 0.20335607, ..., 0.20470588, 0.64102564,\n",
       "        0.44444444],\n",
       "       [0.34117647, 0.0454321 , 0.44109306, ..., 0.52235294, 0.48717949,\n",
       "        0.66666667],\n",
       "       [0.3       , 0.34419753, 0.42721852, ..., 0.84117647, 0.56410256,\n",
       "        0.33333333]])"
      ]
     },
     "execution_count": 54,
     "metadata": {},
     "output_type": "execute_result"
    }
   ],
   "source": [
    "X_train_scaled"
   ]
  },
  {
   "cell_type": "code",
   "execution_count": 55,
   "metadata": {},
   "outputs": [
    {
     "data": {
      "text/plain": [
       "array([[0.01470588, 0.36395062, 0.02427109, ..., 0.38117647, 0.12820513,\n",
       "        0.22222222],\n",
       "       [0.26470588, 0.19012346, 0.35894284, ..., 0.31764706, 0.30769231,\n",
       "        0.66666667],\n",
       "       [0.17647059, 0.30666667, 0.24943   , ..., 0.41294118, 0.23076923,\n",
       "        0.44444444],\n",
       "       ...,\n",
       "       [0.14926471, 0.63851852, 0.23627848, ..., 0.80235294, 0.23076923,\n",
       "        0.55555556],\n",
       "       [0.38235294, 0.28      , 0.53282955, ..., 0.51058824, 0.71794872,\n",
       "        0.33333333],\n",
       "       [0.15147059, 0.44395062, 0.2247226 , ..., 0.90117647, 0.53846154,\n",
       "        0.44444444]])"
      ]
     },
     "execution_count": 55,
     "metadata": {},
     "output_type": "execute_result"
    }
   ],
   "source": [
    "X_test_scaled"
   ]
  },
  {
   "cell_type": "markdown",
   "metadata": {},
   "source": [
    "### Model Training"
   ]
  },
  {
   "cell_type": "markdown",
   "metadata": {},
   "source": [
    "### Using PyCaret"
   ]
  },
  {
   "cell_type": "code",
   "execution_count": 56,
   "metadata": {},
   "outputs": [],
   "source": [
    "from pycaret.classification import *"
   ]
  },
  {
   "cell_type": "code",
   "execution_count": 57,
   "metadata": {},
   "outputs": [
    {
     "data": {
      "text/html": [
       "<style  type=\"text/css\" >\n",
       "#T_cff4a_row29_col1,#T_cff4a_row44_col1{\n",
       "            background-color:  lightgreen;\n",
       "        }</style><table id=\"T_cff4a_\" ><thead>    <tr>        <th class=\"blank level0\" ></th>        <th class=\"col_heading level0 col0\" >Description</th>        <th class=\"col_heading level0 col1\" >Value</th>    </tr></thead><tbody>\n",
       "                <tr>\n",
       "                        <th id=\"T_cff4a_level0_row0\" class=\"row_heading level0 row0\" >0</th>\n",
       "                        <td id=\"T_cff4a_row0_col0\" class=\"data row0 col0\" >session_id</td>\n",
       "                        <td id=\"T_cff4a_row0_col1\" class=\"data row0 col1\" >0</td>\n",
       "            </tr>\n",
       "            <tr>\n",
       "                        <th id=\"T_cff4a_level0_row1\" class=\"row_heading level0 row1\" >1</th>\n",
       "                        <td id=\"T_cff4a_row1_col0\" class=\"data row1 col0\" >Target</td>\n",
       "                        <td id=\"T_cff4a_row1_col1\" class=\"data row1 col1\" >loan_status</td>\n",
       "            </tr>\n",
       "            <tr>\n",
       "                        <th id=\"T_cff4a_level0_row2\" class=\"row_heading level0 row2\" >2</th>\n",
       "                        <td id=\"T_cff4a_row2_col0\" class=\"data row2 col0\" >Target Type</td>\n",
       "                        <td id=\"T_cff4a_row2_col1\" class=\"data row2 col1\" >Binary</td>\n",
       "            </tr>\n",
       "            <tr>\n",
       "                        <th id=\"T_cff4a_level0_row3\" class=\"row_heading level0 row3\" >3</th>\n",
       "                        <td id=\"T_cff4a_row3_col0\" class=\"data row3 col0\" >Label Encoded</td>\n",
       "                        <td id=\"T_cff4a_row3_col1\" class=\"data row3 col1\" >None</td>\n",
       "            </tr>\n",
       "            <tr>\n",
       "                        <th id=\"T_cff4a_level0_row4\" class=\"row_heading level0 row4\" >4</th>\n",
       "                        <td id=\"T_cff4a_row4_col0\" class=\"data row4 col0\" >Original Data</td>\n",
       "                        <td id=\"T_cff4a_row4_col1\" class=\"data row4 col1\" >(7148, 9)</td>\n",
       "            </tr>\n",
       "            <tr>\n",
       "                        <th id=\"T_cff4a_level0_row5\" class=\"row_heading level0 row5\" >5</th>\n",
       "                        <td id=\"T_cff4a_row5_col0\" class=\"data row5 col0\" >Missing Values</td>\n",
       "                        <td id=\"T_cff4a_row5_col1\" class=\"data row5 col1\" >False</td>\n",
       "            </tr>\n",
       "            <tr>\n",
       "                        <th id=\"T_cff4a_level0_row6\" class=\"row_heading level0 row6\" >6</th>\n",
       "                        <td id=\"T_cff4a_row6_col0\" class=\"data row6 col0\" >Numeric Features</td>\n",
       "                        <td id=\"T_cff4a_row6_col1\" class=\"data row6 col1\" >8</td>\n",
       "            </tr>\n",
       "            <tr>\n",
       "                        <th id=\"T_cff4a_level0_row7\" class=\"row_heading level0 row7\" >7</th>\n",
       "                        <td id=\"T_cff4a_row7_col0\" class=\"data row7 col0\" >Categorical Features</td>\n",
       "                        <td id=\"T_cff4a_row7_col1\" class=\"data row7 col1\" >0</td>\n",
       "            </tr>\n",
       "            <tr>\n",
       "                        <th id=\"T_cff4a_level0_row8\" class=\"row_heading level0 row8\" >8</th>\n",
       "                        <td id=\"T_cff4a_row8_col0\" class=\"data row8 col0\" >Ordinal Features</td>\n",
       "                        <td id=\"T_cff4a_row8_col1\" class=\"data row8 col1\" >False</td>\n",
       "            </tr>\n",
       "            <tr>\n",
       "                        <th id=\"T_cff4a_level0_row9\" class=\"row_heading level0 row9\" >9</th>\n",
       "                        <td id=\"T_cff4a_row9_col0\" class=\"data row9 col0\" >High Cardinality Features</td>\n",
       "                        <td id=\"T_cff4a_row9_col1\" class=\"data row9 col1\" >False</td>\n",
       "            </tr>\n",
       "            <tr>\n",
       "                        <th id=\"T_cff4a_level0_row10\" class=\"row_heading level0 row10\" >10</th>\n",
       "                        <td id=\"T_cff4a_row10_col0\" class=\"data row10 col0\" >High Cardinality Method</td>\n",
       "                        <td id=\"T_cff4a_row10_col1\" class=\"data row10 col1\" >None</td>\n",
       "            </tr>\n",
       "            <tr>\n",
       "                        <th id=\"T_cff4a_level0_row11\" class=\"row_heading level0 row11\" >11</th>\n",
       "                        <td id=\"T_cff4a_row11_col0\" class=\"data row11 col0\" >Transformed Train Set</td>\n",
       "                        <td id=\"T_cff4a_row11_col1\" class=\"data row11 col1\" >(4288, 8)</td>\n",
       "            </tr>\n",
       "            <tr>\n",
       "                        <th id=\"T_cff4a_level0_row12\" class=\"row_heading level0 row12\" >12</th>\n",
       "                        <td id=\"T_cff4a_row12_col0\" class=\"data row12 col0\" >Transformed Test Set</td>\n",
       "                        <td id=\"T_cff4a_row12_col1\" class=\"data row12 col1\" >(2860, 8)</td>\n",
       "            </tr>\n",
       "            <tr>\n",
       "                        <th id=\"T_cff4a_level0_row13\" class=\"row_heading level0 row13\" >13</th>\n",
       "                        <td id=\"T_cff4a_row13_col0\" class=\"data row13 col0\" >Shuffle Train-Test</td>\n",
       "                        <td id=\"T_cff4a_row13_col1\" class=\"data row13 col1\" >True</td>\n",
       "            </tr>\n",
       "            <tr>\n",
       "                        <th id=\"T_cff4a_level0_row14\" class=\"row_heading level0 row14\" >14</th>\n",
       "                        <td id=\"T_cff4a_row14_col0\" class=\"data row14 col0\" >Stratify Train-Test</td>\n",
       "                        <td id=\"T_cff4a_row14_col1\" class=\"data row14 col1\" >False</td>\n",
       "            </tr>\n",
       "            <tr>\n",
       "                        <th id=\"T_cff4a_level0_row15\" class=\"row_heading level0 row15\" >15</th>\n",
       "                        <td id=\"T_cff4a_row15_col0\" class=\"data row15 col0\" >Fold Generator</td>\n",
       "                        <td id=\"T_cff4a_row15_col1\" class=\"data row15 col1\" >StratifiedKFold</td>\n",
       "            </tr>\n",
       "            <tr>\n",
       "                        <th id=\"T_cff4a_level0_row16\" class=\"row_heading level0 row16\" >16</th>\n",
       "                        <td id=\"T_cff4a_row16_col0\" class=\"data row16 col0\" >Fold Number</td>\n",
       "                        <td id=\"T_cff4a_row16_col1\" class=\"data row16 col1\" >10</td>\n",
       "            </tr>\n",
       "            <tr>\n",
       "                        <th id=\"T_cff4a_level0_row17\" class=\"row_heading level0 row17\" >17</th>\n",
       "                        <td id=\"T_cff4a_row17_col0\" class=\"data row17 col0\" >CPU Jobs</td>\n",
       "                        <td id=\"T_cff4a_row17_col1\" class=\"data row17 col1\" >-1</td>\n",
       "            </tr>\n",
       "            <tr>\n",
       "                        <th id=\"T_cff4a_level0_row18\" class=\"row_heading level0 row18\" >18</th>\n",
       "                        <td id=\"T_cff4a_row18_col0\" class=\"data row18 col0\" >Use GPU</td>\n",
       "                        <td id=\"T_cff4a_row18_col1\" class=\"data row18 col1\" >False</td>\n",
       "            </tr>\n",
       "            <tr>\n",
       "                        <th id=\"T_cff4a_level0_row19\" class=\"row_heading level0 row19\" >19</th>\n",
       "                        <td id=\"T_cff4a_row19_col0\" class=\"data row19 col0\" >Log Experiment</td>\n",
       "                        <td id=\"T_cff4a_row19_col1\" class=\"data row19 col1\" >False</td>\n",
       "            </tr>\n",
       "            <tr>\n",
       "                        <th id=\"T_cff4a_level0_row20\" class=\"row_heading level0 row20\" >20</th>\n",
       "                        <td id=\"T_cff4a_row20_col0\" class=\"data row20 col0\" >Experiment Name</td>\n",
       "                        <td id=\"T_cff4a_row20_col1\" class=\"data row20 col1\" >clf-default-name</td>\n",
       "            </tr>\n",
       "            <tr>\n",
       "                        <th id=\"T_cff4a_level0_row21\" class=\"row_heading level0 row21\" >21</th>\n",
       "                        <td id=\"T_cff4a_row21_col0\" class=\"data row21 col0\" >USI</td>\n",
       "                        <td id=\"T_cff4a_row21_col1\" class=\"data row21 col1\" >6af4</td>\n",
       "            </tr>\n",
       "            <tr>\n",
       "                        <th id=\"T_cff4a_level0_row22\" class=\"row_heading level0 row22\" >22</th>\n",
       "                        <td id=\"T_cff4a_row22_col0\" class=\"data row22 col0\" >Imputation Type</td>\n",
       "                        <td id=\"T_cff4a_row22_col1\" class=\"data row22 col1\" >simple</td>\n",
       "            </tr>\n",
       "            <tr>\n",
       "                        <th id=\"T_cff4a_level0_row23\" class=\"row_heading level0 row23\" >23</th>\n",
       "                        <td id=\"T_cff4a_row23_col0\" class=\"data row23 col0\" >Iterative Imputation Iteration</td>\n",
       "                        <td id=\"T_cff4a_row23_col1\" class=\"data row23 col1\" >None</td>\n",
       "            </tr>\n",
       "            <tr>\n",
       "                        <th id=\"T_cff4a_level0_row24\" class=\"row_heading level0 row24\" >24</th>\n",
       "                        <td id=\"T_cff4a_row24_col0\" class=\"data row24 col0\" >Numeric Imputer</td>\n",
       "                        <td id=\"T_cff4a_row24_col1\" class=\"data row24 col1\" >mean</td>\n",
       "            </tr>\n",
       "            <tr>\n",
       "                        <th id=\"T_cff4a_level0_row25\" class=\"row_heading level0 row25\" >25</th>\n",
       "                        <td id=\"T_cff4a_row25_col0\" class=\"data row25 col0\" >Iterative Imputation Numeric Model</td>\n",
       "                        <td id=\"T_cff4a_row25_col1\" class=\"data row25 col1\" >None</td>\n",
       "            </tr>\n",
       "            <tr>\n",
       "                        <th id=\"T_cff4a_level0_row26\" class=\"row_heading level0 row26\" >26</th>\n",
       "                        <td id=\"T_cff4a_row26_col0\" class=\"data row26 col0\" >Categorical Imputer</td>\n",
       "                        <td id=\"T_cff4a_row26_col1\" class=\"data row26 col1\" >constant</td>\n",
       "            </tr>\n",
       "            <tr>\n",
       "                        <th id=\"T_cff4a_level0_row27\" class=\"row_heading level0 row27\" >27</th>\n",
       "                        <td id=\"T_cff4a_row27_col0\" class=\"data row27 col0\" >Iterative Imputation Categorical Model</td>\n",
       "                        <td id=\"T_cff4a_row27_col1\" class=\"data row27 col1\" >None</td>\n",
       "            </tr>\n",
       "            <tr>\n",
       "                        <th id=\"T_cff4a_level0_row28\" class=\"row_heading level0 row28\" >28</th>\n",
       "                        <td id=\"T_cff4a_row28_col0\" class=\"data row28 col0\" >Unknown Categoricals Handling</td>\n",
       "                        <td id=\"T_cff4a_row28_col1\" class=\"data row28 col1\" >least_frequent</td>\n",
       "            </tr>\n",
       "            <tr>\n",
       "                        <th id=\"T_cff4a_level0_row29\" class=\"row_heading level0 row29\" >29</th>\n",
       "                        <td id=\"T_cff4a_row29_col0\" class=\"data row29 col0\" >Normalize</td>\n",
       "                        <td id=\"T_cff4a_row29_col1\" class=\"data row29 col1\" >True</td>\n",
       "            </tr>\n",
       "            <tr>\n",
       "                        <th id=\"T_cff4a_level0_row30\" class=\"row_heading level0 row30\" >30</th>\n",
       "                        <td id=\"T_cff4a_row30_col0\" class=\"data row30 col0\" >Normalize Method</td>\n",
       "                        <td id=\"T_cff4a_row30_col1\" class=\"data row30 col1\" >zscore</td>\n",
       "            </tr>\n",
       "            <tr>\n",
       "                        <th id=\"T_cff4a_level0_row31\" class=\"row_heading level0 row31\" >31</th>\n",
       "                        <td id=\"T_cff4a_row31_col0\" class=\"data row31 col0\" >Transformation</td>\n",
       "                        <td id=\"T_cff4a_row31_col1\" class=\"data row31 col1\" >False</td>\n",
       "            </tr>\n",
       "            <tr>\n",
       "                        <th id=\"T_cff4a_level0_row32\" class=\"row_heading level0 row32\" >32</th>\n",
       "                        <td id=\"T_cff4a_row32_col0\" class=\"data row32 col0\" >Transformation Method</td>\n",
       "                        <td id=\"T_cff4a_row32_col1\" class=\"data row32 col1\" >None</td>\n",
       "            </tr>\n",
       "            <tr>\n",
       "                        <th id=\"T_cff4a_level0_row33\" class=\"row_heading level0 row33\" >33</th>\n",
       "                        <td id=\"T_cff4a_row33_col0\" class=\"data row33 col0\" >PCA</td>\n",
       "                        <td id=\"T_cff4a_row33_col1\" class=\"data row33 col1\" >False</td>\n",
       "            </tr>\n",
       "            <tr>\n",
       "                        <th id=\"T_cff4a_level0_row34\" class=\"row_heading level0 row34\" >34</th>\n",
       "                        <td id=\"T_cff4a_row34_col0\" class=\"data row34 col0\" >PCA Method</td>\n",
       "                        <td id=\"T_cff4a_row34_col1\" class=\"data row34 col1\" >None</td>\n",
       "            </tr>\n",
       "            <tr>\n",
       "                        <th id=\"T_cff4a_level0_row35\" class=\"row_heading level0 row35\" >35</th>\n",
       "                        <td id=\"T_cff4a_row35_col0\" class=\"data row35 col0\" >PCA Components</td>\n",
       "                        <td id=\"T_cff4a_row35_col1\" class=\"data row35 col1\" >None</td>\n",
       "            </tr>\n",
       "            <tr>\n",
       "                        <th id=\"T_cff4a_level0_row36\" class=\"row_heading level0 row36\" >36</th>\n",
       "                        <td id=\"T_cff4a_row36_col0\" class=\"data row36 col0\" >Ignore Low Variance</td>\n",
       "                        <td id=\"T_cff4a_row36_col1\" class=\"data row36 col1\" >False</td>\n",
       "            </tr>\n",
       "            <tr>\n",
       "                        <th id=\"T_cff4a_level0_row37\" class=\"row_heading level0 row37\" >37</th>\n",
       "                        <td id=\"T_cff4a_row37_col0\" class=\"data row37 col0\" >Combine Rare Levels</td>\n",
       "                        <td id=\"T_cff4a_row37_col1\" class=\"data row37 col1\" >False</td>\n",
       "            </tr>\n",
       "            <tr>\n",
       "                        <th id=\"T_cff4a_level0_row38\" class=\"row_heading level0 row38\" >38</th>\n",
       "                        <td id=\"T_cff4a_row38_col0\" class=\"data row38 col0\" >Rare Level Threshold</td>\n",
       "                        <td id=\"T_cff4a_row38_col1\" class=\"data row38 col1\" >None</td>\n",
       "            </tr>\n",
       "            <tr>\n",
       "                        <th id=\"T_cff4a_level0_row39\" class=\"row_heading level0 row39\" >39</th>\n",
       "                        <td id=\"T_cff4a_row39_col0\" class=\"data row39 col0\" >Numeric Binning</td>\n",
       "                        <td id=\"T_cff4a_row39_col1\" class=\"data row39 col1\" >False</td>\n",
       "            </tr>\n",
       "            <tr>\n",
       "                        <th id=\"T_cff4a_level0_row40\" class=\"row_heading level0 row40\" >40</th>\n",
       "                        <td id=\"T_cff4a_row40_col0\" class=\"data row40 col0\" >Remove Outliers</td>\n",
       "                        <td id=\"T_cff4a_row40_col1\" class=\"data row40 col1\" >False</td>\n",
       "            </tr>\n",
       "            <tr>\n",
       "                        <th id=\"T_cff4a_level0_row41\" class=\"row_heading level0 row41\" >41</th>\n",
       "                        <td id=\"T_cff4a_row41_col0\" class=\"data row41 col0\" >Outliers Threshold</td>\n",
       "                        <td id=\"T_cff4a_row41_col1\" class=\"data row41 col1\" >None</td>\n",
       "            </tr>\n",
       "            <tr>\n",
       "                        <th id=\"T_cff4a_level0_row42\" class=\"row_heading level0 row42\" >42</th>\n",
       "                        <td id=\"T_cff4a_row42_col0\" class=\"data row42 col0\" >Remove Multicollinearity</td>\n",
       "                        <td id=\"T_cff4a_row42_col1\" class=\"data row42 col1\" >False</td>\n",
       "            </tr>\n",
       "            <tr>\n",
       "                        <th id=\"T_cff4a_level0_row43\" class=\"row_heading level0 row43\" >43</th>\n",
       "                        <td id=\"T_cff4a_row43_col0\" class=\"data row43 col0\" >Multicollinearity Threshold</td>\n",
       "                        <td id=\"T_cff4a_row43_col1\" class=\"data row43 col1\" >None</td>\n",
       "            </tr>\n",
       "            <tr>\n",
       "                        <th id=\"T_cff4a_level0_row44\" class=\"row_heading level0 row44\" >44</th>\n",
       "                        <td id=\"T_cff4a_row44_col0\" class=\"data row44 col0\" >Remove Perfect Collinearity</td>\n",
       "                        <td id=\"T_cff4a_row44_col1\" class=\"data row44 col1\" >True</td>\n",
       "            </tr>\n",
       "            <tr>\n",
       "                        <th id=\"T_cff4a_level0_row45\" class=\"row_heading level0 row45\" >45</th>\n",
       "                        <td id=\"T_cff4a_row45_col0\" class=\"data row45 col0\" >Clustering</td>\n",
       "                        <td id=\"T_cff4a_row45_col1\" class=\"data row45 col1\" >False</td>\n",
       "            </tr>\n",
       "            <tr>\n",
       "                        <th id=\"T_cff4a_level0_row46\" class=\"row_heading level0 row46\" >46</th>\n",
       "                        <td id=\"T_cff4a_row46_col0\" class=\"data row46 col0\" >Clustering Iteration</td>\n",
       "                        <td id=\"T_cff4a_row46_col1\" class=\"data row46 col1\" >None</td>\n",
       "            </tr>\n",
       "            <tr>\n",
       "                        <th id=\"T_cff4a_level0_row47\" class=\"row_heading level0 row47\" >47</th>\n",
       "                        <td id=\"T_cff4a_row47_col0\" class=\"data row47 col0\" >Polynomial Features</td>\n",
       "                        <td id=\"T_cff4a_row47_col1\" class=\"data row47 col1\" >False</td>\n",
       "            </tr>\n",
       "            <tr>\n",
       "                        <th id=\"T_cff4a_level0_row48\" class=\"row_heading level0 row48\" >48</th>\n",
       "                        <td id=\"T_cff4a_row48_col0\" class=\"data row48 col0\" >Polynomial Degree</td>\n",
       "                        <td id=\"T_cff4a_row48_col1\" class=\"data row48 col1\" >None</td>\n",
       "            </tr>\n",
       "            <tr>\n",
       "                        <th id=\"T_cff4a_level0_row49\" class=\"row_heading level0 row49\" >49</th>\n",
       "                        <td id=\"T_cff4a_row49_col0\" class=\"data row49 col0\" >Trignometry Features</td>\n",
       "                        <td id=\"T_cff4a_row49_col1\" class=\"data row49 col1\" >False</td>\n",
       "            </tr>\n",
       "            <tr>\n",
       "                        <th id=\"T_cff4a_level0_row50\" class=\"row_heading level0 row50\" >50</th>\n",
       "                        <td id=\"T_cff4a_row50_col0\" class=\"data row50 col0\" >Polynomial Threshold</td>\n",
       "                        <td id=\"T_cff4a_row50_col1\" class=\"data row50 col1\" >None</td>\n",
       "            </tr>\n",
       "            <tr>\n",
       "                        <th id=\"T_cff4a_level0_row51\" class=\"row_heading level0 row51\" >51</th>\n",
       "                        <td id=\"T_cff4a_row51_col0\" class=\"data row51 col0\" >Group Features</td>\n",
       "                        <td id=\"T_cff4a_row51_col1\" class=\"data row51 col1\" >False</td>\n",
       "            </tr>\n",
       "            <tr>\n",
       "                        <th id=\"T_cff4a_level0_row52\" class=\"row_heading level0 row52\" >52</th>\n",
       "                        <td id=\"T_cff4a_row52_col0\" class=\"data row52 col0\" >Feature Selection</td>\n",
       "                        <td id=\"T_cff4a_row52_col1\" class=\"data row52 col1\" >False</td>\n",
       "            </tr>\n",
       "            <tr>\n",
       "                        <th id=\"T_cff4a_level0_row53\" class=\"row_heading level0 row53\" >53</th>\n",
       "                        <td id=\"T_cff4a_row53_col0\" class=\"data row53 col0\" >Feature Selection Method</td>\n",
       "                        <td id=\"T_cff4a_row53_col1\" class=\"data row53 col1\" >classic</td>\n",
       "            </tr>\n",
       "            <tr>\n",
       "                        <th id=\"T_cff4a_level0_row54\" class=\"row_heading level0 row54\" >54</th>\n",
       "                        <td id=\"T_cff4a_row54_col0\" class=\"data row54 col0\" >Features Selection Threshold</td>\n",
       "                        <td id=\"T_cff4a_row54_col1\" class=\"data row54 col1\" >None</td>\n",
       "            </tr>\n",
       "            <tr>\n",
       "                        <th id=\"T_cff4a_level0_row55\" class=\"row_heading level0 row55\" >55</th>\n",
       "                        <td id=\"T_cff4a_row55_col0\" class=\"data row55 col0\" >Feature Interaction</td>\n",
       "                        <td id=\"T_cff4a_row55_col1\" class=\"data row55 col1\" >False</td>\n",
       "            </tr>\n",
       "            <tr>\n",
       "                        <th id=\"T_cff4a_level0_row56\" class=\"row_heading level0 row56\" >56</th>\n",
       "                        <td id=\"T_cff4a_row56_col0\" class=\"data row56 col0\" >Feature Ratio</td>\n",
       "                        <td id=\"T_cff4a_row56_col1\" class=\"data row56 col1\" >False</td>\n",
       "            </tr>\n",
       "            <tr>\n",
       "                        <th id=\"T_cff4a_level0_row57\" class=\"row_heading level0 row57\" >57</th>\n",
       "                        <td id=\"T_cff4a_row57_col0\" class=\"data row57 col0\" >Interaction Threshold</td>\n",
       "                        <td id=\"T_cff4a_row57_col1\" class=\"data row57 col1\" >None</td>\n",
       "            </tr>\n",
       "            <tr>\n",
       "                        <th id=\"T_cff4a_level0_row58\" class=\"row_heading level0 row58\" >58</th>\n",
       "                        <td id=\"T_cff4a_row58_col0\" class=\"data row58 col0\" >Fix Imbalance</td>\n",
       "                        <td id=\"T_cff4a_row58_col1\" class=\"data row58 col1\" >False</td>\n",
       "            </tr>\n",
       "            <tr>\n",
       "                        <th id=\"T_cff4a_level0_row59\" class=\"row_heading level0 row59\" >59</th>\n",
       "                        <td id=\"T_cff4a_row59_col0\" class=\"data row59 col0\" >Fix Imbalance Method</td>\n",
       "                        <td id=\"T_cff4a_row59_col1\" class=\"data row59 col1\" >SMOTE</td>\n",
       "            </tr>\n",
       "    </tbody></table>"
      ],
      "text/plain": [
       "<pandas.io.formats.style.Styler at 0x1ecda704d00>"
      ]
     },
     "metadata": {},
     "output_type": "display_data"
    }
   ],
   "source": [
    "exp_class = setup(data = df2, target = 'loan_status', session_id=0, normalize=True, train_size=0.6) "
   ]
  },
  {
   "cell_type": "code",
   "execution_count": 58,
   "metadata": {},
   "outputs": [
    {
     "data": {
      "text/html": [
       "<div>\n",
       "<style scoped>\n",
       "    .dataframe tbody tr th:only-of-type {\n",
       "        vertical-align: middle;\n",
       "    }\n",
       "\n",
       "    .dataframe tbody tr th {\n",
       "        vertical-align: top;\n",
       "    }\n",
       "\n",
       "    .dataframe thead th {\n",
       "        text-align: right;\n",
       "    }\n",
       "</style>\n",
       "<table border=\"1\" class=\"dataframe\">\n",
       "  <thead>\n",
       "    <tr style=\"text-align: right;\">\n",
       "      <th></th>\n",
       "      <th>Name</th>\n",
       "      <th>Reference</th>\n",
       "      <th>Turbo</th>\n",
       "    </tr>\n",
       "    <tr>\n",
       "      <th>ID</th>\n",
       "      <th></th>\n",
       "      <th></th>\n",
       "      <th></th>\n",
       "    </tr>\n",
       "  </thead>\n",
       "  <tbody>\n",
       "    <tr>\n",
       "      <th>lr</th>\n",
       "      <td>Logistic Regression</td>\n",
       "      <td>sklearn.linear_model._logistic.LogisticRegression</td>\n",
       "      <td>True</td>\n",
       "    </tr>\n",
       "    <tr>\n",
       "      <th>knn</th>\n",
       "      <td>K Neighbors Classifier</td>\n",
       "      <td>sklearn.neighbors._classification.KNeighborsCl...</td>\n",
       "      <td>True</td>\n",
       "    </tr>\n",
       "    <tr>\n",
       "      <th>nb</th>\n",
       "      <td>Naive Bayes</td>\n",
       "      <td>sklearn.naive_bayes.GaussianNB</td>\n",
       "      <td>True</td>\n",
       "    </tr>\n",
       "    <tr>\n",
       "      <th>dt</th>\n",
       "      <td>Decision Tree Classifier</td>\n",
       "      <td>sklearn.tree._classes.DecisionTreeClassifier</td>\n",
       "      <td>True</td>\n",
       "    </tr>\n",
       "    <tr>\n",
       "      <th>svm</th>\n",
       "      <td>SVM - Linear Kernel</td>\n",
       "      <td>sklearn.linear_model._stochastic_gradient.SGDC...</td>\n",
       "      <td>True</td>\n",
       "    </tr>\n",
       "    <tr>\n",
       "      <th>rbfsvm</th>\n",
       "      <td>SVM - Radial Kernel</td>\n",
       "      <td>sklearn.svm._classes.SVC</td>\n",
       "      <td>False</td>\n",
       "    </tr>\n",
       "    <tr>\n",
       "      <th>gpc</th>\n",
       "      <td>Gaussian Process Classifier</td>\n",
       "      <td>sklearn.gaussian_process._gpc.GaussianProcessC...</td>\n",
       "      <td>False</td>\n",
       "    </tr>\n",
       "    <tr>\n",
       "      <th>mlp</th>\n",
       "      <td>MLP Classifier</td>\n",
       "      <td>sklearn.neural_network._multilayer_perceptron....</td>\n",
       "      <td>False</td>\n",
       "    </tr>\n",
       "    <tr>\n",
       "      <th>ridge</th>\n",
       "      <td>Ridge Classifier</td>\n",
       "      <td>sklearn.linear_model._ridge.RidgeClassifier</td>\n",
       "      <td>True</td>\n",
       "    </tr>\n",
       "    <tr>\n",
       "      <th>rf</th>\n",
       "      <td>Random Forest Classifier</td>\n",
       "      <td>sklearn.ensemble._forest.RandomForestClassifier</td>\n",
       "      <td>True</td>\n",
       "    </tr>\n",
       "    <tr>\n",
       "      <th>qda</th>\n",
       "      <td>Quadratic Discriminant Analysis</td>\n",
       "      <td>sklearn.discriminant_analysis.QuadraticDiscrim...</td>\n",
       "      <td>True</td>\n",
       "    </tr>\n",
       "    <tr>\n",
       "      <th>ada</th>\n",
       "      <td>Ada Boost Classifier</td>\n",
       "      <td>sklearn.ensemble._weight_boosting.AdaBoostClas...</td>\n",
       "      <td>True</td>\n",
       "    </tr>\n",
       "    <tr>\n",
       "      <th>gbc</th>\n",
       "      <td>Gradient Boosting Classifier</td>\n",
       "      <td>sklearn.ensemble._gb.GradientBoostingClassifier</td>\n",
       "      <td>True</td>\n",
       "    </tr>\n",
       "    <tr>\n",
       "      <th>lda</th>\n",
       "      <td>Linear Discriminant Analysis</td>\n",
       "      <td>sklearn.discriminant_analysis.LinearDiscrimina...</td>\n",
       "      <td>True</td>\n",
       "    </tr>\n",
       "    <tr>\n",
       "      <th>et</th>\n",
       "      <td>Extra Trees Classifier</td>\n",
       "      <td>sklearn.ensemble._forest.ExtraTreesClassifier</td>\n",
       "      <td>True</td>\n",
       "    </tr>\n",
       "    <tr>\n",
       "      <th>xgboost</th>\n",
       "      <td>Extreme Gradient Boosting</td>\n",
       "      <td>xgboost.sklearn.XGBClassifier</td>\n",
       "      <td>True</td>\n",
       "    </tr>\n",
       "    <tr>\n",
       "      <th>lightgbm</th>\n",
       "      <td>Light Gradient Boosting Machine</td>\n",
       "      <td>lightgbm.sklearn.LGBMClassifier</td>\n",
       "      <td>True</td>\n",
       "    </tr>\n",
       "    <tr>\n",
       "      <th>dummy</th>\n",
       "      <td>Dummy Classifier</td>\n",
       "      <td>sklearn.dummy.DummyClassifier</td>\n",
       "      <td>True</td>\n",
       "    </tr>\n",
       "  </tbody>\n",
       "</table>\n",
       "</div>"
      ],
      "text/plain": [
       "                                     Name                                          Reference  Turbo\n",
       "ID                                                                                                 \n",
       "lr                    Logistic Regression  sklearn.linear_model._logistic.LogisticRegression   True\n",
       "knn                K Neighbors Classifier  sklearn.neighbors._classification.KNeighborsCl...   True\n",
       "nb                            Naive Bayes                     sklearn.naive_bayes.GaussianNB   True\n",
       "dt               Decision Tree Classifier       sklearn.tree._classes.DecisionTreeClassifier   True\n",
       "svm                   SVM - Linear Kernel  sklearn.linear_model._stochastic_gradient.SGDC...   True\n",
       "rbfsvm                SVM - Radial Kernel                           sklearn.svm._classes.SVC  False\n",
       "gpc           Gaussian Process Classifier  sklearn.gaussian_process._gpc.GaussianProcessC...  False\n",
       "mlp                        MLP Classifier  sklearn.neural_network._multilayer_perceptron....  False\n",
       "ridge                    Ridge Classifier        sklearn.linear_model._ridge.RidgeClassifier   True\n",
       "rf               Random Forest Classifier    sklearn.ensemble._forest.RandomForestClassifier   True\n",
       "qda       Quadratic Discriminant Analysis  sklearn.discriminant_analysis.QuadraticDiscrim...   True\n",
       "ada                  Ada Boost Classifier  sklearn.ensemble._weight_boosting.AdaBoostClas...   True\n",
       "gbc          Gradient Boosting Classifier    sklearn.ensemble._gb.GradientBoostingClassifier   True\n",
       "lda          Linear Discriminant Analysis  sklearn.discriminant_analysis.LinearDiscrimina...   True\n",
       "et                 Extra Trees Classifier      sklearn.ensemble._forest.ExtraTreesClassifier   True\n",
       "xgboost         Extreme Gradient Boosting                      xgboost.sklearn.XGBClassifier   True\n",
       "lightgbm  Light Gradient Boosting Machine                    lightgbm.sklearn.LGBMClassifier   True\n",
       "dummy                    Dummy Classifier                      sklearn.dummy.DummyClassifier   True"
      ]
     },
     "execution_count": 58,
     "metadata": {},
     "output_type": "execute_result"
    }
   ],
   "source": [
    "models()"
   ]
  },
  {
   "cell_type": "code",
   "execution_count": 59,
   "metadata": {},
   "outputs": [
    {
     "data": {
      "text/html": [
       "<style  type=\"text/css\" >\n",
       "    #T_82f05_ th {\n",
       "          text-align: left;\n",
       "    }#T_82f05_row0_col0,#T_82f05_row0_col1,#T_82f05_row0_col3,#T_82f05_row0_col4,#T_82f05_row0_col5,#T_82f05_row0_col6,#T_82f05_row0_col7,#T_82f05_row1_col0,#T_82f05_row1_col1,#T_82f05_row1_col2,#T_82f05_row1_col3,#T_82f05_row1_col4,#T_82f05_row1_col5,#T_82f05_row1_col6,#T_82f05_row1_col7,#T_82f05_row2_col0,#T_82f05_row2_col1,#T_82f05_row2_col2,#T_82f05_row2_col3,#T_82f05_row2_col4,#T_82f05_row2_col5,#T_82f05_row2_col6,#T_82f05_row2_col7,#T_82f05_row3_col0,#T_82f05_row3_col1,#T_82f05_row3_col2,#T_82f05_row3_col3,#T_82f05_row3_col4,#T_82f05_row3_col5,#T_82f05_row4_col0,#T_82f05_row4_col1,#T_82f05_row4_col2,#T_82f05_row4_col3,#T_82f05_row4_col4,#T_82f05_row4_col5,#T_82f05_row4_col6,#T_82f05_row4_col7,#T_82f05_row5_col0,#T_82f05_row5_col1,#T_82f05_row5_col2,#T_82f05_row5_col3,#T_82f05_row5_col4,#T_82f05_row5_col5,#T_82f05_row5_col6,#T_82f05_row5_col7,#T_82f05_row6_col0,#T_82f05_row6_col1,#T_82f05_row6_col2,#T_82f05_row6_col3,#T_82f05_row6_col4,#T_82f05_row6_col5,#T_82f05_row6_col6,#T_82f05_row6_col7,#T_82f05_row7_col0,#T_82f05_row7_col1,#T_82f05_row7_col2,#T_82f05_row7_col3,#T_82f05_row7_col4,#T_82f05_row7_col5,#T_82f05_row7_col6,#T_82f05_row7_col7,#T_82f05_row8_col0,#T_82f05_row8_col1,#T_82f05_row8_col2,#T_82f05_row8_col3,#T_82f05_row8_col4,#T_82f05_row8_col5,#T_82f05_row8_col6,#T_82f05_row8_col7,#T_82f05_row9_col0,#T_82f05_row9_col1,#T_82f05_row9_col2,#T_82f05_row9_col3,#T_82f05_row9_col5,#T_82f05_row9_col6,#T_82f05_row9_col7,#T_82f05_row10_col0,#T_82f05_row10_col2,#T_82f05_row10_col4,#T_82f05_row10_col6,#T_82f05_row10_col7{\n",
       "            text-align:  left;\n",
       "            text-align:  left;\n",
       "        }#T_82f05_row0_col2,#T_82f05_row3_col6,#T_82f05_row3_col7,#T_82f05_row9_col4,#T_82f05_row10_col1,#T_82f05_row10_col3,#T_82f05_row10_col5{\n",
       "            text-align:  left;\n",
       "            text-align:  left;\n",
       "            background-color:  yellow;\n",
       "        }#T_82f05_row0_col8,#T_82f05_row1_col8,#T_82f05_row2_col8,#T_82f05_row3_col8,#T_82f05_row4_col8,#T_82f05_row5_col8,#T_82f05_row6_col8,#T_82f05_row7_col8,#T_82f05_row8_col8,#T_82f05_row9_col8{\n",
       "            text-align:  left;\n",
       "            text-align:  left;\n",
       "            background-color:  lightgrey;\n",
       "        }#T_82f05_row10_col8{\n",
       "            text-align:  left;\n",
       "            text-align:  left;\n",
       "            background-color:  yellow;\n",
       "            background-color:  lightgrey;\n",
       "        }</style><table id=\"T_82f05_\" ><thead>    <tr>        <th class=\"blank level0\" ></th>        <th class=\"col_heading level0 col0\" >Model</th>        <th class=\"col_heading level0 col1\" >Accuracy</th>        <th class=\"col_heading level0 col2\" >AUC</th>        <th class=\"col_heading level0 col3\" >Recall</th>        <th class=\"col_heading level0 col4\" >Prec.</th>        <th class=\"col_heading level0 col5\" >F1</th>        <th class=\"col_heading level0 col6\" >Kappa</th>        <th class=\"col_heading level0 col7\" >MCC</th>        <th class=\"col_heading level0 col8\" >TT (Sec)</th>    </tr></thead><tbody>\n",
       "                <tr>\n",
       "                        <th id=\"T_82f05_level0_row0\" class=\"row_heading level0 row0\" >lr</th>\n",
       "                        <td id=\"T_82f05_row0_col0\" class=\"data row0 col0\" >Logistic Regression</td>\n",
       "                        <td id=\"T_82f05_row0_col1\" class=\"data row0 col1\" >0.8316</td>\n",
       "                        <td id=\"T_82f05_row0_col2\" class=\"data row0 col2\" >0.7046</td>\n",
       "                        <td id=\"T_82f05_row0_col3\" class=\"data row0 col3\" >0.9924</td>\n",
       "                        <td id=\"T_82f05_row0_col4\" class=\"data row0 col4\" >0.8360</td>\n",
       "                        <td id=\"T_82f05_row0_col5\" class=\"data row0 col5\" >0.9075</td>\n",
       "                        <td id=\"T_82f05_row0_col6\" class=\"data row0 col6\" >0.0408</td>\n",
       "                        <td id=\"T_82f05_row0_col7\" class=\"data row0 col7\" >0.0863</td>\n",
       "                        <td id=\"T_82f05_row0_col8\" class=\"data row0 col8\" >1.2140</td>\n",
       "            </tr>\n",
       "            <tr>\n",
       "                        <th id=\"T_82f05_level0_row1\" class=\"row_heading level0 row1\" >lda</th>\n",
       "                        <td id=\"T_82f05_row1_col0\" class=\"data row1 col0\" >Linear Discriminant Analysis</td>\n",
       "                        <td id=\"T_82f05_row1_col1\" class=\"data row1 col1\" >0.8321</td>\n",
       "                        <td id=\"T_82f05_row1_col2\" class=\"data row1 col2\" >0.7045</td>\n",
       "                        <td id=\"T_82f05_row1_col3\" class=\"data row1 col3\" >0.9896</td>\n",
       "                        <td id=\"T_82f05_row1_col4\" class=\"data row1 col4\" >0.8380</td>\n",
       "                        <td id=\"T_82f05_row1_col5\" class=\"data row1 col5\" >0.9075</td>\n",
       "                        <td id=\"T_82f05_row1_col6\" class=\"data row1 col6\" >0.0618</td>\n",
       "                        <td id=\"T_82f05_row1_col7\" class=\"data row1 col7\" >0.1133</td>\n",
       "                        <td id=\"T_82f05_row1_col8\" class=\"data row1 col8\" >0.0140</td>\n",
       "            </tr>\n",
       "            <tr>\n",
       "                        <th id=\"T_82f05_level0_row2\" class=\"row_heading level0 row2\" >gbc</th>\n",
       "                        <td id=\"T_82f05_row2_col0\" class=\"data row2 col0\" >Gradient Boosting Classifier</td>\n",
       "                        <td id=\"T_82f05_row2_col1\" class=\"data row2 col1\" >0.8279</td>\n",
       "                        <td id=\"T_82f05_row2_col2\" class=\"data row2 col2\" >0.6997</td>\n",
       "                        <td id=\"T_82f05_row2_col3\" class=\"data row2 col3\" >0.9837</td>\n",
       "                        <td id=\"T_82f05_row2_col4\" class=\"data row2 col4\" >0.8377</td>\n",
       "                        <td id=\"T_82f05_row2_col5\" class=\"data row2 col5\" >0.9049</td>\n",
       "                        <td id=\"T_82f05_row2_col6\" class=\"data row2 col6\" >0.0581</td>\n",
       "                        <td id=\"T_82f05_row2_col7\" class=\"data row2 col7\" >0.0963</td>\n",
       "                        <td id=\"T_82f05_row2_col8\" class=\"data row2 col8\" >0.2760</td>\n",
       "            </tr>\n",
       "            <tr>\n",
       "                        <th id=\"T_82f05_level0_row3\" class=\"row_heading level0 row3\" >nb</th>\n",
       "                        <td id=\"T_82f05_row3_col0\" class=\"data row3 col0\" >Naive Bayes</td>\n",
       "                        <td id=\"T_82f05_row3_col1\" class=\"data row3 col1\" >0.8253</td>\n",
       "                        <td id=\"T_82f05_row3_col2\" class=\"data row3 col2\" >0.6988</td>\n",
       "                        <td id=\"T_82f05_row3_col3\" class=\"data row3 col3\" >0.9658</td>\n",
       "                        <td id=\"T_82f05_row3_col4\" class=\"data row3 col4\" >0.8461</td>\n",
       "                        <td id=\"T_82f05_row3_col5\" class=\"data row3 col5\" >0.9020</td>\n",
       "                        <td id=\"T_82f05_row3_col6\" class=\"data row3 col6\" >0.1305</td>\n",
       "                        <td id=\"T_82f05_row3_col7\" class=\"data row3 col7\" >0.1619</td>\n",
       "                        <td id=\"T_82f05_row3_col8\" class=\"data row3 col8\" >0.0120</td>\n",
       "            </tr>\n",
       "            <tr>\n",
       "                        <th id=\"T_82f05_level0_row4\" class=\"row_heading level0 row4\" >qda</th>\n",
       "                        <td id=\"T_82f05_row4_col0\" class=\"data row4 col0\" >Quadratic Discriminant Analysis</td>\n",
       "                        <td id=\"T_82f05_row4_col1\" class=\"data row4 col1\" >0.8095</td>\n",
       "                        <td id=\"T_82f05_row4_col2\" class=\"data row4 col2\" >0.6863</td>\n",
       "                        <td id=\"T_82f05_row4_col3\" class=\"data row4 col3\" >0.9448</td>\n",
       "                        <td id=\"T_82f05_row4_col4\" class=\"data row4 col4\" >0.8447</td>\n",
       "                        <td id=\"T_82f05_row4_col5\" class=\"data row4 col5\" >0.8919</td>\n",
       "                        <td id=\"T_82f05_row4_col6\" class=\"data row4 col6\" >0.1083</td>\n",
       "                        <td id=\"T_82f05_row4_col7\" class=\"data row4 col7\" >0.1234</td>\n",
       "                        <td id=\"T_82f05_row4_col8\" class=\"data row4 col8\" >0.0200</td>\n",
       "            </tr>\n",
       "            <tr>\n",
       "                        <th id=\"T_82f05_level0_row5\" class=\"row_heading level0 row5\" >rf</th>\n",
       "                        <td id=\"T_82f05_row5_col0\" class=\"data row5 col0\" >Random Forest Classifier</td>\n",
       "                        <td id=\"T_82f05_row5_col1\" class=\"data row5 col1\" >0.8258</td>\n",
       "                        <td id=\"T_82f05_row5_col2\" class=\"data row5 col2\" >0.6669</td>\n",
       "                        <td id=\"T_82f05_row5_col3\" class=\"data row5 col3\" >0.9815</td>\n",
       "                        <td id=\"T_82f05_row5_col4\" class=\"data row5 col4\" >0.8372</td>\n",
       "                        <td id=\"T_82f05_row5_col5\" class=\"data row5 col5\" >0.9036</td>\n",
       "                        <td id=\"T_82f05_row5_col6\" class=\"data row5 col6\" >0.0522</td>\n",
       "                        <td id=\"T_82f05_row5_col7\" class=\"data row5 col7\" >0.0834</td>\n",
       "                        <td id=\"T_82f05_row5_col8\" class=\"data row5 col8\" >0.3020</td>\n",
       "            </tr>\n",
       "            <tr>\n",
       "                        <th id=\"T_82f05_level0_row6\" class=\"row_heading level0 row6\" >et</th>\n",
       "                        <td id=\"T_82f05_row6_col0\" class=\"data row6 col0\" >Extra Trees Classifier</td>\n",
       "                        <td id=\"T_82f05_row6_col1\" class=\"data row6 col1\" >0.8279</td>\n",
       "                        <td id=\"T_82f05_row6_col2\" class=\"data row6 col2\" >0.6645</td>\n",
       "                        <td id=\"T_82f05_row6_col3\" class=\"data row6 col3\" >0.9860</td>\n",
       "                        <td id=\"T_82f05_row6_col4\" class=\"data row6 col4\" >0.8365</td>\n",
       "                        <td id=\"T_82f05_row6_col5\" class=\"data row6 col5\" >0.9051</td>\n",
       "                        <td id=\"T_82f05_row6_col6\" class=\"data row6 col6\" >0.0450</td>\n",
       "                        <td id=\"T_82f05_row6_col7\" class=\"data row6 col7\" >0.0796</td>\n",
       "                        <td id=\"T_82f05_row6_col8\" class=\"data row6 col8\" >0.2440</td>\n",
       "            </tr>\n",
       "            <tr>\n",
       "                        <th id=\"T_82f05_level0_row7\" class=\"row_heading level0 row7\" >xgboost</th>\n",
       "                        <td id=\"T_82f05_row7_col0\" class=\"data row7 col0\" >Extreme Gradient Boosting</td>\n",
       "                        <td id=\"T_82f05_row7_col1\" class=\"data row7 col1\" >0.8130</td>\n",
       "                        <td id=\"T_82f05_row7_col2\" class=\"data row7 col2\" >0.6555</td>\n",
       "                        <td id=\"T_82f05_row7_col3\" class=\"data row7 col3\" >0.9510</td>\n",
       "                        <td id=\"T_82f05_row7_col4\" class=\"data row7 col4\" >0.8441</td>\n",
       "                        <td id=\"T_82f05_row7_col5\" class=\"data row7 col5\" >0.8943</td>\n",
       "                        <td id=\"T_82f05_row7_col6\" class=\"data row7 col6\" >0.1055</td>\n",
       "                        <td id=\"T_82f05_row7_col7\" class=\"data row7 col7\" >0.1227</td>\n",
       "                        <td id=\"T_82f05_row7_col8\" class=\"data row7 col8\" >0.2700</td>\n",
       "            </tr>\n",
       "            <tr>\n",
       "                        <th id=\"T_82f05_level0_row8\" class=\"row_heading level0 row8\" >knn</th>\n",
       "                        <td id=\"T_82f05_row8_col0\" class=\"data row8 col0\" >K Neighbors Classifier</td>\n",
       "                        <td id=\"T_82f05_row8_col1\" class=\"data row8 col1\" >0.8081</td>\n",
       "                        <td id=\"T_82f05_row8_col2\" class=\"data row8 col2\" >0.5908</td>\n",
       "                        <td id=\"T_82f05_row8_col3\" class=\"data row8 col3\" >0.9507</td>\n",
       "                        <td id=\"T_82f05_row8_col4\" class=\"data row8 col4\" >0.8399</td>\n",
       "                        <td id=\"T_82f05_row8_col5\" class=\"data row8 col5\" >0.8918</td>\n",
       "                        <td id=\"T_82f05_row8_col6\" class=\"data row8 col6\" >0.0687</td>\n",
       "                        <td id=\"T_82f05_row8_col7\" class=\"data row8 col7\" >0.0818</td>\n",
       "                        <td id=\"T_82f05_row8_col8\" class=\"data row8 col8\" >0.0560</td>\n",
       "            </tr>\n",
       "            <tr>\n",
       "                        <th id=\"T_82f05_level0_row9\" class=\"row_heading level0 row9\" >dt</th>\n",
       "                        <td id=\"T_82f05_row9_col0\" class=\"data row9 col0\" >Decision Tree Classifier</td>\n",
       "                        <td id=\"T_82f05_row9_col1\" class=\"data row9 col1\" >0.7295</td>\n",
       "                        <td id=\"T_82f05_row9_col2\" class=\"data row9 col2\" >0.5454</td>\n",
       "                        <td id=\"T_82f05_row9_col3\" class=\"data row9 col3\" >0.8224</td>\n",
       "                        <td id=\"T_82f05_row9_col4\" class=\"data row9 col4\" >0.8479</td>\n",
       "                        <td id=\"T_82f05_row9_col5\" class=\"data row9 col5\" >0.8349</td>\n",
       "                        <td id=\"T_82f05_row9_col6\" class=\"data row9 col6\" >0.0867</td>\n",
       "                        <td id=\"T_82f05_row9_col7\" class=\"data row9 col7\" >0.0870</td>\n",
       "                        <td id=\"T_82f05_row9_col8\" class=\"data row9 col8\" >0.0260</td>\n",
       "            </tr>\n",
       "            <tr>\n",
       "                        <th id=\"T_82f05_level0_row10\" class=\"row_heading level0 row10\" >dummy</th>\n",
       "                        <td id=\"T_82f05_row10_col0\" class=\"data row10 col0\" >Dummy Classifier</td>\n",
       "                        <td id=\"T_82f05_row10_col1\" class=\"data row10 col1\" >0.8323</td>\n",
       "                        <td id=\"T_82f05_row10_col2\" class=\"data row10 col2\" >0.5000</td>\n",
       "                        <td id=\"T_82f05_row10_col3\" class=\"data row10 col3\" >1.0000</td>\n",
       "                        <td id=\"T_82f05_row10_col4\" class=\"data row10 col4\" >0.8323</td>\n",
       "                        <td id=\"T_82f05_row10_col5\" class=\"data row10 col5\" >0.9085</td>\n",
       "                        <td id=\"T_82f05_row10_col6\" class=\"data row10 col6\" >0.0000</td>\n",
       "                        <td id=\"T_82f05_row10_col7\" class=\"data row10 col7\" >0.0000</td>\n",
       "                        <td id=\"T_82f05_row10_col8\" class=\"data row10 col8\" >0.0100</td>\n",
       "            </tr>\n",
       "    </tbody></table>"
      ],
      "text/plain": [
       "<pandas.io.formats.style.Styler at 0x1ecda51b340>"
      ]
     },
     "metadata": {},
     "output_type": "display_data"
    },
    {
     "data": {
      "text/plain": [
       "LogisticRegression(C=1.0, class_weight=None, dual=False, fit_intercept=True,\n",
       "                   intercept_scaling=1, l1_ratio=None, max_iter=1000,\n",
       "                   multi_class='auto', n_jobs=None, penalty='l2',\n",
       "                   random_state=0, solver='lbfgs', tol=0.0001, verbose=0,\n",
       "                   warm_start=False)"
      ]
     },
     "execution_count": 59,
     "metadata": {},
     "output_type": "execute_result"
    }
   ],
   "source": [
    "compare_models(exclude=['lightgbm','mlp','ada','ridge','svm'],fold=5, sort=\"AUC\") #For Classifier"
   ]
  },
  {
   "cell_type": "code",
   "execution_count": 60,
   "metadata": {},
   "outputs": [
    {
     "data": {
      "text/html": [
       "<style  type=\"text/css\" >\n",
       "#T_021f1_row10_col0,#T_021f1_row10_col1,#T_021f1_row10_col2,#T_021f1_row10_col3,#T_021f1_row10_col4,#T_021f1_row10_col5,#T_021f1_row10_col6{\n",
       "            background:  yellow;\n",
       "        }</style><table id=\"T_021f1_\" ><thead>    <tr>        <th class=\"blank level0\" ></th>        <th class=\"col_heading level0 col0\" >Accuracy</th>        <th class=\"col_heading level0 col1\" >AUC</th>        <th class=\"col_heading level0 col2\" >Recall</th>        <th class=\"col_heading level0 col3\" >Prec.</th>        <th class=\"col_heading level0 col4\" >F1</th>        <th class=\"col_heading level0 col5\" >Kappa</th>        <th class=\"col_heading level0 col6\" >MCC</th>    </tr></thead><tbody>\n",
       "                <tr>\n",
       "                        <th id=\"T_021f1_level0_row0\" class=\"row_heading level0 row0\" >0</th>\n",
       "                        <td id=\"T_021f1_row0_col0\" class=\"data row0 col0\" >0.8298</td>\n",
       "                        <td id=\"T_021f1_row0_col1\" class=\"data row0 col1\" >0.7272</td>\n",
       "                        <td id=\"T_021f1_row0_col2\" class=\"data row0 col2\" >0.9944</td>\n",
       "                        <td id=\"T_021f1_row0_col3\" class=\"data row0 col3\" >0.8333</td>\n",
       "                        <td id=\"T_021f1_row0_col4\" class=\"data row0 col4\" >0.9068</td>\n",
       "                        <td id=\"T_021f1_row0_col5\" class=\"data row0 col5\" >0.0134</td>\n",
       "                        <td id=\"T_021f1_row0_col6\" class=\"data row0 col6\" >0.0372</td>\n",
       "            </tr>\n",
       "            <tr>\n",
       "                        <th id=\"T_021f1_level0_row1\" class=\"row_heading level0 row1\" >1</th>\n",
       "                        <td id=\"T_021f1_row1_col0\" class=\"data row1 col0\" >0.8298</td>\n",
       "                        <td id=\"T_021f1_row1_col1\" class=\"data row1 col1\" >0.7036</td>\n",
       "                        <td id=\"T_021f1_row1_col2\" class=\"data row1 col2\" >0.9916</td>\n",
       "                        <td id=\"T_021f1_row1_col3\" class=\"data row1 col3\" >0.8349</td>\n",
       "                        <td id=\"T_021f1_row1_col4\" class=\"data row1 col4\" >0.9065</td>\n",
       "                        <td id=\"T_021f1_row1_col5\" class=\"data row1 col5\" >0.0308</td>\n",
       "                        <td id=\"T_021f1_row1_col6\" class=\"data row1 col6\" >0.0675</td>\n",
       "            </tr>\n",
       "            <tr>\n",
       "                        <th id=\"T_021f1_level0_row2\" class=\"row_heading level0 row2\" >2</th>\n",
       "                        <td id=\"T_021f1_row2_col0\" class=\"data row2 col0\" >0.8275</td>\n",
       "                        <td id=\"T_021f1_row2_col1\" class=\"data row2 col1\" >0.7670</td>\n",
       "                        <td id=\"T_021f1_row2_col2\" class=\"data row2 col2\" >0.9944</td>\n",
       "                        <td id=\"T_021f1_row2_col3\" class=\"data row2 col3\" >0.8314</td>\n",
       "                        <td id=\"T_021f1_row2_col4\" class=\"data row2 col4\" >0.9056</td>\n",
       "                        <td id=\"T_021f1_row2_col5\" class=\"data row2 col5\" >-0.0092</td>\n",
       "                        <td id=\"T_021f1_row2_col6\" class=\"data row2 col6\" >-0.0307</td>\n",
       "            </tr>\n",
       "            <tr>\n",
       "                        <th id=\"T_021f1_level0_row3\" class=\"row_heading level0 row3\" >3</th>\n",
       "                        <td id=\"T_021f1_row3_col0\" class=\"data row3 col0\" >0.8345</td>\n",
       "                        <td id=\"T_021f1_row3_col1\" class=\"data row3 col1\" >0.7054</td>\n",
       "                        <td id=\"T_021f1_row3_col2\" class=\"data row3 col2\" >0.9916</td>\n",
       "                        <td id=\"T_021f1_row3_col3\" class=\"data row3 col3\" >0.8389</td>\n",
       "                        <td id=\"T_021f1_row3_col4\" class=\"data row3 col4\" >0.9089</td>\n",
       "                        <td id=\"T_021f1_row3_col5\" class=\"data row3 col5\" >0.0737</td>\n",
       "                        <td id=\"T_021f1_row3_col6\" class=\"data row3 col6\" >0.1391</td>\n",
       "            </tr>\n",
       "            <tr>\n",
       "                        <th id=\"T_021f1_level0_row4\" class=\"row_heading level0 row4\" >4</th>\n",
       "                        <td id=\"T_021f1_row4_col0\" class=\"data row4 col0\" >0.8345</td>\n",
       "                        <td id=\"T_021f1_row4_col1\" class=\"data row4 col1\" >0.7555</td>\n",
       "                        <td id=\"T_021f1_row4_col2\" class=\"data row4 col2\" >0.9972</td>\n",
       "                        <td id=\"T_021f1_row4_col3\" class=\"data row4 col3\" >0.8357</td>\n",
       "                        <td id=\"T_021f1_row4_col4\" class=\"data row4 col4\" >0.9093</td>\n",
       "                        <td id=\"T_021f1_row4_col5\" class=\"data row4 col5\" >0.0404</td>\n",
       "                        <td id=\"T_021f1_row4_col6\" class=\"data row4 col6\" >0.1120</td>\n",
       "            </tr>\n",
       "            <tr>\n",
       "                        <th id=\"T_021f1_level0_row5\" class=\"row_heading level0 row5\" >5</th>\n",
       "                        <td id=\"T_021f1_row5_col0\" class=\"data row5 col0\" >0.8298</td>\n",
       "                        <td id=\"T_021f1_row5_col1\" class=\"data row5 col1\" >0.6606</td>\n",
       "                        <td id=\"T_021f1_row5_col2\" class=\"data row5 col2\" >0.9916</td>\n",
       "                        <td id=\"T_021f1_row5_col3\" class=\"data row5 col3\" >0.8349</td>\n",
       "                        <td id=\"T_021f1_row5_col4\" class=\"data row5 col4\" >0.9065</td>\n",
       "                        <td id=\"T_021f1_row5_col5\" class=\"data row5 col5\" >0.0308</td>\n",
       "                        <td id=\"T_021f1_row5_col6\" class=\"data row5 col6\" >0.0675</td>\n",
       "            </tr>\n",
       "            <tr>\n",
       "                        <th id=\"T_021f1_level0_row6\" class=\"row_heading level0 row6\" >6</th>\n",
       "                        <td id=\"T_021f1_row6_col0\" class=\"data row6 col0\" >0.8368</td>\n",
       "                        <td id=\"T_021f1_row6_col1\" class=\"data row6 col1\" >0.6210</td>\n",
       "                        <td id=\"T_021f1_row6_col2\" class=\"data row6 col2\" >0.9972</td>\n",
       "                        <td id=\"T_021f1_row6_col3\" class=\"data row6 col3\" >0.8376</td>\n",
       "                        <td id=\"T_021f1_row6_col4\" class=\"data row6 col4\" >0.9105</td>\n",
       "                        <td id=\"T_021f1_row6_col5\" class=\"data row6 col5\" >0.0624</td>\n",
       "                        <td id=\"T_021f1_row6_col6\" class=\"data row6 col6\" >0.1511</td>\n",
       "            </tr>\n",
       "            <tr>\n",
       "                        <th id=\"T_021f1_level0_row7\" class=\"row_heading level0 row7\" >7</th>\n",
       "                        <td id=\"T_021f1_row7_col0\" class=\"data row7 col0\" >0.8298</td>\n",
       "                        <td id=\"T_021f1_row7_col1\" class=\"data row7 col1\" >0.6771</td>\n",
       "                        <td id=\"T_021f1_row7_col2\" class=\"data row7 col2\" >0.9916</td>\n",
       "                        <td id=\"T_021f1_row7_col3\" class=\"data row7 col3\" >0.8349</td>\n",
       "                        <td id=\"T_021f1_row7_col4\" class=\"data row7 col4\" >0.9065</td>\n",
       "                        <td id=\"T_021f1_row7_col5\" class=\"data row7 col5\" >0.0308</td>\n",
       "                        <td id=\"T_021f1_row7_col6\" class=\"data row7 col6\" >0.0675</td>\n",
       "            </tr>\n",
       "            <tr>\n",
       "                        <th id=\"T_021f1_level0_row8\" class=\"row_heading level0 row8\" >8</th>\n",
       "                        <td id=\"T_021f1_row8_col0\" class=\"data row8 col0\" >0.8364</td>\n",
       "                        <td id=\"T_021f1_row8_col1\" class=\"data row8 col1\" >0.6991</td>\n",
       "                        <td id=\"T_021f1_row8_col2\" class=\"data row8 col2\" >0.9916</td>\n",
       "                        <td id=\"T_021f1_row8_col3\" class=\"data row8 col3\" >0.8409</td>\n",
       "                        <td id=\"T_021f1_row8_col4\" class=\"data row8 col4\" >0.9100</td>\n",
       "                        <td id=\"T_021f1_row8_col5\" class=\"data row8 col5\" >0.0750</td>\n",
       "                        <td id=\"T_021f1_row8_col6\" class=\"data row8 col6\" >0.1406</td>\n",
       "            </tr>\n",
       "            <tr>\n",
       "                        <th id=\"T_021f1_level0_row9\" class=\"row_heading level0 row9\" >9</th>\n",
       "                        <td id=\"T_021f1_row9_col0\" class=\"data row9 col0\" >0.8248</td>\n",
       "                        <td id=\"T_021f1_row9_col1\" class=\"data row9 col1\" >0.7303</td>\n",
       "                        <td id=\"T_021f1_row9_col2\" class=\"data row9 col2\" >0.9860</td>\n",
       "                        <td id=\"T_021f1_row9_col3\" class=\"data row9 col3\" >0.8337</td>\n",
       "                        <td id=\"T_021f1_row9_col4\" class=\"data row9 col4\" >0.9035</td>\n",
       "                        <td id=\"T_021f1_row9_col5\" class=\"data row9 col5\" >0.0215</td>\n",
       "                        <td id=\"T_021f1_row9_col6\" class=\"data row9 col6\" >0.0405</td>\n",
       "            </tr>\n",
       "            <tr>\n",
       "                        <th id=\"T_021f1_level0_row10\" class=\"row_heading level0 row10\" >Mean</th>\n",
       "                        <td id=\"T_021f1_row10_col0\" class=\"data row10 col0\" >0.8314</td>\n",
       "                        <td id=\"T_021f1_row10_col1\" class=\"data row10 col1\" >0.7047</td>\n",
       "                        <td id=\"T_021f1_row10_col2\" class=\"data row10 col2\" >0.9927</td>\n",
       "                        <td id=\"T_021f1_row10_col3\" class=\"data row10 col3\" >0.8356</td>\n",
       "                        <td id=\"T_021f1_row10_col4\" class=\"data row10 col4\" >0.9074</td>\n",
       "                        <td id=\"T_021f1_row10_col5\" class=\"data row10 col5\" >0.0370</td>\n",
       "                        <td id=\"T_021f1_row10_col6\" class=\"data row10 col6\" >0.0792</td>\n",
       "            </tr>\n",
       "            <tr>\n",
       "                        <th id=\"T_021f1_level0_row11\" class=\"row_heading level0 row11\" >SD</th>\n",
       "                        <td id=\"T_021f1_row11_col0\" class=\"data row11 col0\" >0.0038</td>\n",
       "                        <td id=\"T_021f1_row11_col1\" class=\"data row11 col1\" >0.0417</td>\n",
       "                        <td id=\"T_021f1_row11_col2\" class=\"data row11 col2\" >0.0031</td>\n",
       "                        <td id=\"T_021f1_row11_col3\" class=\"data row11 col3\" >0.0027</td>\n",
       "                        <td id=\"T_021f1_row11_col4\" class=\"data row11 col4\" >0.0021</td>\n",
       "                        <td id=\"T_021f1_row11_col5\" class=\"data row11 col5\" >0.0255</td>\n",
       "                        <td id=\"T_021f1_row11_col6\" class=\"data row11 col6\" >0.0542</td>\n",
       "            </tr>\n",
       "    </tbody></table>"
      ],
      "text/plain": [
       "<pandas.io.formats.style.Styler at 0x1ecda699820>"
      ]
     },
     "metadata": {},
     "output_type": "display_data"
    }
   ],
   "source": [
    "classify_selected = create_model('lr')"
   ]
  },
  {
   "cell_type": "code",
   "execution_count": 61,
   "metadata": {},
   "outputs": [
    {
     "name": "stdout",
     "output_type": "stream",
     "text": [
      "LogisticRegression(C=1.0, class_weight=None, dual=False, fit_intercept=True,\n",
      "                   intercept_scaling=1, l1_ratio=None, max_iter=1000,\n",
      "                   multi_class='auto', n_jobs=None, penalty='l2',\n",
      "                   random_state=0, solver='lbfgs', tol=0.0001, verbose=0,\n",
      "                   warm_start=False)\n"
     ]
    }
   ],
   "source": [
    "print(classify_selected)"
   ]
  },
  {
   "cell_type": "code",
   "execution_count": 62,
   "metadata": {},
   "outputs": [
    {
     "data": {
      "text/html": [
       "<style  type=\"text/css\" >\n",
       "#T_333f5_row10_col0,#T_333f5_row10_col1,#T_333f5_row10_col2,#T_333f5_row10_col3,#T_333f5_row10_col4,#T_333f5_row10_col5,#T_333f5_row10_col6{\n",
       "            background:  yellow;\n",
       "        }</style><table id=\"T_333f5_\" ><thead>    <tr>        <th class=\"blank level0\" ></th>        <th class=\"col_heading level0 col0\" >Accuracy</th>        <th class=\"col_heading level0 col1\" >AUC</th>        <th class=\"col_heading level0 col2\" >Recall</th>        <th class=\"col_heading level0 col3\" >Prec.</th>        <th class=\"col_heading level0 col4\" >F1</th>        <th class=\"col_heading level0 col5\" >Kappa</th>        <th class=\"col_heading level0 col6\" >MCC</th>    </tr></thead><tbody>\n",
       "                <tr>\n",
       "                        <th id=\"T_333f5_level0_row0\" class=\"row_heading level0 row0\" >0</th>\n",
       "                        <td id=\"T_333f5_row0_col0\" class=\"data row0 col0\" >0.8298</td>\n",
       "                        <td id=\"T_333f5_row0_col1\" class=\"data row0 col1\" >0.7270</td>\n",
       "                        <td id=\"T_333f5_row0_col2\" class=\"data row0 col2\" >0.9944</td>\n",
       "                        <td id=\"T_333f5_row0_col3\" class=\"data row0 col3\" >0.8333</td>\n",
       "                        <td id=\"T_333f5_row0_col4\" class=\"data row0 col4\" >0.9068</td>\n",
       "                        <td id=\"T_333f5_row0_col5\" class=\"data row0 col5\" >0.0134</td>\n",
       "                        <td id=\"T_333f5_row0_col6\" class=\"data row0 col6\" >0.0372</td>\n",
       "            </tr>\n",
       "            <tr>\n",
       "                        <th id=\"T_333f5_level0_row1\" class=\"row_heading level0 row1\" >1</th>\n",
       "                        <td id=\"T_333f5_row1_col0\" class=\"data row1 col0\" >0.8298</td>\n",
       "                        <td id=\"T_333f5_row1_col1\" class=\"data row1 col1\" >0.7037</td>\n",
       "                        <td id=\"T_333f5_row1_col2\" class=\"data row1 col2\" >0.9916</td>\n",
       "                        <td id=\"T_333f5_row1_col3\" class=\"data row1 col3\" >0.8349</td>\n",
       "                        <td id=\"T_333f5_row1_col4\" class=\"data row1 col4\" >0.9065</td>\n",
       "                        <td id=\"T_333f5_row1_col5\" class=\"data row1 col5\" >0.0308</td>\n",
       "                        <td id=\"T_333f5_row1_col6\" class=\"data row1 col6\" >0.0675</td>\n",
       "            </tr>\n",
       "            <tr>\n",
       "                        <th id=\"T_333f5_level0_row2\" class=\"row_heading level0 row2\" >2</th>\n",
       "                        <td id=\"T_333f5_row2_col0\" class=\"data row2 col0\" >0.8275</td>\n",
       "                        <td id=\"T_333f5_row2_col1\" class=\"data row2 col1\" >0.7668</td>\n",
       "                        <td id=\"T_333f5_row2_col2\" class=\"data row2 col2\" >0.9944</td>\n",
       "                        <td id=\"T_333f5_row2_col3\" class=\"data row2 col3\" >0.8314</td>\n",
       "                        <td id=\"T_333f5_row2_col4\" class=\"data row2 col4\" >0.9056</td>\n",
       "                        <td id=\"T_333f5_row2_col5\" class=\"data row2 col5\" >-0.0092</td>\n",
       "                        <td id=\"T_333f5_row2_col6\" class=\"data row2 col6\" >-0.0307</td>\n",
       "            </tr>\n",
       "            <tr>\n",
       "                        <th id=\"T_333f5_level0_row3\" class=\"row_heading level0 row3\" >3</th>\n",
       "                        <td id=\"T_333f5_row3_col0\" class=\"data row3 col0\" >0.8345</td>\n",
       "                        <td id=\"T_333f5_row3_col1\" class=\"data row3 col1\" >0.7052</td>\n",
       "                        <td id=\"T_333f5_row3_col2\" class=\"data row3 col2\" >0.9916</td>\n",
       "                        <td id=\"T_333f5_row3_col3\" class=\"data row3 col3\" >0.8389</td>\n",
       "                        <td id=\"T_333f5_row3_col4\" class=\"data row3 col4\" >0.9089</td>\n",
       "                        <td id=\"T_333f5_row3_col5\" class=\"data row3 col5\" >0.0737</td>\n",
       "                        <td id=\"T_333f5_row3_col6\" class=\"data row3 col6\" >0.1391</td>\n",
       "            </tr>\n",
       "            <tr>\n",
       "                        <th id=\"T_333f5_level0_row4\" class=\"row_heading level0 row4\" >4</th>\n",
       "                        <td id=\"T_333f5_row4_col0\" class=\"data row4 col0\" >0.8345</td>\n",
       "                        <td id=\"T_333f5_row4_col1\" class=\"data row4 col1\" >0.7555</td>\n",
       "                        <td id=\"T_333f5_row4_col2\" class=\"data row4 col2\" >0.9972</td>\n",
       "                        <td id=\"T_333f5_row4_col3\" class=\"data row4 col3\" >0.8357</td>\n",
       "                        <td id=\"T_333f5_row4_col4\" class=\"data row4 col4\" >0.9093</td>\n",
       "                        <td id=\"T_333f5_row4_col5\" class=\"data row4 col5\" >0.0404</td>\n",
       "                        <td id=\"T_333f5_row4_col6\" class=\"data row4 col6\" >0.1120</td>\n",
       "            </tr>\n",
       "            <tr>\n",
       "                        <th id=\"T_333f5_level0_row5\" class=\"row_heading level0 row5\" >5</th>\n",
       "                        <td id=\"T_333f5_row5_col0\" class=\"data row5 col0\" >0.8298</td>\n",
       "                        <td id=\"T_333f5_row5_col1\" class=\"data row5 col1\" >0.6604</td>\n",
       "                        <td id=\"T_333f5_row5_col2\" class=\"data row5 col2\" >0.9916</td>\n",
       "                        <td id=\"T_333f5_row5_col3\" class=\"data row5 col3\" >0.8349</td>\n",
       "                        <td id=\"T_333f5_row5_col4\" class=\"data row5 col4\" >0.9065</td>\n",
       "                        <td id=\"T_333f5_row5_col5\" class=\"data row5 col5\" >0.0308</td>\n",
       "                        <td id=\"T_333f5_row5_col6\" class=\"data row5 col6\" >0.0675</td>\n",
       "            </tr>\n",
       "            <tr>\n",
       "                        <th id=\"T_333f5_level0_row6\" class=\"row_heading level0 row6\" >6</th>\n",
       "                        <td id=\"T_333f5_row6_col0\" class=\"data row6 col0\" >0.8368</td>\n",
       "                        <td id=\"T_333f5_row6_col1\" class=\"data row6 col1\" >0.6212</td>\n",
       "                        <td id=\"T_333f5_row6_col2\" class=\"data row6 col2\" >0.9972</td>\n",
       "                        <td id=\"T_333f5_row6_col3\" class=\"data row6 col3\" >0.8376</td>\n",
       "                        <td id=\"T_333f5_row6_col4\" class=\"data row6 col4\" >0.9105</td>\n",
       "                        <td id=\"T_333f5_row6_col5\" class=\"data row6 col5\" >0.0624</td>\n",
       "                        <td id=\"T_333f5_row6_col6\" class=\"data row6 col6\" >0.1511</td>\n",
       "            </tr>\n",
       "            <tr>\n",
       "                        <th id=\"T_333f5_level0_row7\" class=\"row_heading level0 row7\" >7</th>\n",
       "                        <td id=\"T_333f5_row7_col0\" class=\"data row7 col0\" >0.8322</td>\n",
       "                        <td id=\"T_333f5_row7_col1\" class=\"data row7 col1\" >0.6771</td>\n",
       "                        <td id=\"T_333f5_row7_col2\" class=\"data row7 col2\" >0.9916</td>\n",
       "                        <td id=\"T_333f5_row7_col3\" class=\"data row7 col3\" >0.8369</td>\n",
       "                        <td id=\"T_333f5_row7_col4\" class=\"data row7 col4\" >0.9077</td>\n",
       "                        <td id=\"T_333f5_row7_col5\" class=\"data row7 col5\" >0.0525</td>\n",
       "                        <td id=\"T_333f5_row7_col6\" class=\"data row7 col6\" >0.1059</td>\n",
       "            </tr>\n",
       "            <tr>\n",
       "                        <th id=\"T_333f5_level0_row8\" class=\"row_heading level0 row8\" >8</th>\n",
       "                        <td id=\"T_333f5_row8_col0\" class=\"data row8 col0\" >0.8364</td>\n",
       "                        <td id=\"T_333f5_row8_col1\" class=\"data row8 col1\" >0.6990</td>\n",
       "                        <td id=\"T_333f5_row8_col2\" class=\"data row8 col2\" >0.9916</td>\n",
       "                        <td id=\"T_333f5_row8_col3\" class=\"data row8 col3\" >0.8409</td>\n",
       "                        <td id=\"T_333f5_row8_col4\" class=\"data row8 col4\" >0.9100</td>\n",
       "                        <td id=\"T_333f5_row8_col5\" class=\"data row8 col5\" >0.0750</td>\n",
       "                        <td id=\"T_333f5_row8_col6\" class=\"data row8 col6\" >0.1406</td>\n",
       "            </tr>\n",
       "            <tr>\n",
       "                        <th id=\"T_333f5_level0_row9\" class=\"row_heading level0 row9\" >9</th>\n",
       "                        <td id=\"T_333f5_row9_col0\" class=\"data row9 col0\" >0.8248</td>\n",
       "                        <td id=\"T_333f5_row9_col1\" class=\"data row9 col1\" >0.7301</td>\n",
       "                        <td id=\"T_333f5_row9_col2\" class=\"data row9 col2\" >0.9860</td>\n",
       "                        <td id=\"T_333f5_row9_col3\" class=\"data row9 col3\" >0.8337</td>\n",
       "                        <td id=\"T_333f5_row9_col4\" class=\"data row9 col4\" >0.9035</td>\n",
       "                        <td id=\"T_333f5_row9_col5\" class=\"data row9 col5\" >0.0215</td>\n",
       "                        <td id=\"T_333f5_row9_col6\" class=\"data row9 col6\" >0.0405</td>\n",
       "            </tr>\n",
       "            <tr>\n",
       "                        <th id=\"T_333f5_level0_row10\" class=\"row_heading level0 row10\" >Mean</th>\n",
       "                        <td id=\"T_333f5_row10_col0\" class=\"data row10 col0\" >0.8316</td>\n",
       "                        <td id=\"T_333f5_row10_col1\" class=\"data row10 col1\" >0.7046</td>\n",
       "                        <td id=\"T_333f5_row10_col2\" class=\"data row10 col2\" >0.9927</td>\n",
       "                        <td id=\"T_333f5_row10_col3\" class=\"data row10 col3\" >0.8358</td>\n",
       "                        <td id=\"T_333f5_row10_col4\" class=\"data row10 col4\" >0.9075</td>\n",
       "                        <td id=\"T_333f5_row10_col5\" class=\"data row10 col5\" >0.0391</td>\n",
       "                        <td id=\"T_333f5_row10_col6\" class=\"data row10 col6\" >0.0831</td>\n",
       "            </tr>\n",
       "            <tr>\n",
       "                        <th id=\"T_333f5_level0_row11\" class=\"row_heading level0 row11\" >SD</th>\n",
       "                        <td id=\"T_333f5_row11_col0\" class=\"data row11 col0\" >0.0038</td>\n",
       "                        <td id=\"T_333f5_row11_col1\" class=\"data row11 col1\" >0.0416</td>\n",
       "                        <td id=\"T_333f5_row11_col2\" class=\"data row11 col2\" >0.0031</td>\n",
       "                        <td id=\"T_333f5_row11_col3\" class=\"data row11 col3\" >0.0027</td>\n",
       "                        <td id=\"T_333f5_row11_col4\" class=\"data row11 col4\" >0.0021</td>\n",
       "                        <td id=\"T_333f5_row11_col5\" class=\"data row11 col5\" >0.0258</td>\n",
       "                        <td id=\"T_333f5_row11_col6\" class=\"data row11 col6\" >0.0546</td>\n",
       "            </tr>\n",
       "    </tbody></table>"
      ],
      "text/plain": [
       "<pandas.io.formats.style.Styler at 0x1ecda75d580>"
      ]
     },
     "metadata": {},
     "output_type": "display_data"
    }
   ],
   "source": [
    "tuned_classify = tune_model(classify_selected, optimize='AUC')"
   ]
  },
  {
   "cell_type": "markdown",
   "metadata": {},
   "source": [
    "***"
   ]
  },
  {
   "cell_type": "markdown",
   "metadata": {},
   "source": [
    "## Using Regression or Classification Models"
   ]
  },
  {
   "cell_type": "code",
   "execution_count": 63,
   "metadata": {},
   "outputs": [],
   "source": [
    "lr_model = LogisticRegression(random_state=0)"
   ]
  },
  {
   "cell_type": "code",
   "execution_count": 64,
   "metadata": {},
   "outputs": [
    {
     "data": {
      "text/plain": [
       "LogisticRegression(C=1.0, class_weight=None, dual=False, fit_intercept=True,\n",
       "                   intercept_scaling=1, l1_ratio=None, max_iter=100,\n",
       "                   multi_class='auto', n_jobs=None, penalty='l2',\n",
       "                   random_state=0, solver='lbfgs', tol=0.0001, verbose=0,\n",
       "                   warm_start=False)"
      ]
     },
     "execution_count": 64,
     "metadata": {},
     "output_type": "execute_result"
    }
   ],
   "source": [
    "lr_model.fit(X_train_scaled,y_train)"
   ]
  },
  {
   "cell_type": "code",
   "execution_count": 65,
   "metadata": {},
   "outputs": [],
   "source": [
    "lr_pred =lr_model.predict(X_test_scaled)"
   ]
  },
  {
   "cell_type": "code",
   "execution_count": 66,
   "metadata": {},
   "outputs": [
    {
     "data": {
      "text/plain": [
       "array([1, 1, 1, ..., 0, 1, 1], dtype=int64)"
      ]
     },
     "execution_count": 66,
     "metadata": {},
     "output_type": "execute_result"
    }
   ],
   "source": [
    "lr_pred"
   ]
  },
  {
   "cell_type": "markdown",
   "metadata": {},
   "source": [
    "### Model Evaluation"
   ]
  },
  {
   "cell_type": "code",
   "execution_count": 67,
   "metadata": {},
   "outputs": [
    {
     "data": {
      "text/plain": [
       "array([[  15,  473],\n",
       "       [   7, 2365]], dtype=int64)"
      ]
     },
     "execution_count": 67,
     "metadata": {},
     "output_type": "execute_result"
    }
   ],
   "source": [
    "cm = confusion_matrix(y_test,lr_pred)\n",
    "cm"
   ]
  },
  {
   "cell_type": "code",
   "execution_count": 68,
   "metadata": {},
   "outputs": [
    {
     "data": {
      "image/png": "[encoded data removed]",
      "text/plain": [
       "<Figure size 720x360 with 2 Axes>"
      ]
     },
     "metadata": {},
     "output_type": "display_data"
    }
   ],
   "source": [
    "fig , ax = plt.subplots(figsize=(10,5))\n",
    "sns.heatmap(cm, annot=True,fmt='.4g',linewidths=2, cmap='viridis')\n",
    "plt.ylabel('True label')\n",
    "plt.xlabel('Predicted label')\n",
    "plt.show()"
   ]
  },
  {
   "cell_type": "code",
   "execution_count": 69,
   "metadata": {},
   "outputs": [
    {
     "name": "stdout",
     "output_type": "stream",
     "text": [
      "              precision    recall  f1-score   support\n",
      "\n",
      "           0       0.68      0.03      0.06       488\n",
      "           1       0.83      1.00      0.91      2372\n",
      "\n",
      "    accuracy                           0.83      2860\n",
      "   macro avg       0.76      0.51      0.48      2860\n",
      "weighted avg       0.81      0.83      0.76      2860\n",
      "\n"
     ]
    }
   ],
   "source": [
    "print(classification_report(y_test,lr_pred))"
   ]
  },
  {
   "cell_type": "code",
   "execution_count": 70,
   "metadata": {},
   "outputs": [
    {
     "data": {
      "image/png": "[encoded data removed]",
      "text/plain": [
       "<Figure size 576x396 with 1 Axes>"
      ]
     },
     "metadata": {},
     "output_type": "display_data"
    }
   ],
   "source": [
    "plot_roc_curve(lr_model,X_test_scaled,y_test)\n",
    "plt.show()"
   ]
  },
  {
   "cell_type": "markdown",
   "metadata": {},
   "source": [
    "Build a classification tree model using the training data."
   ]
  },
  {
   "cell_type": "code",
   "execution_count": 71,
   "metadata": {},
   "outputs": [],
   "source": [
    "tree_model = DecisionTreeClassifier(random_state=0)"
   ]
  },
  {
   "cell_type": "code",
   "execution_count": 72,
   "metadata": {},
   "outputs": [
    {
     "data": {
      "text/plain": [
       "DecisionTreeClassifier(ccp_alpha=0.0, class_weight=None, criterion='gini',\n",
       "                       max_depth=None, max_features=None, max_leaf_nodes=None,\n",
       "                       min_impurity_decrease=0.0, min_impurity_split=None,\n",
       "                       min_samples_leaf=1, min_samples_split=2,\n",
       "                       min_weight_fraction_leaf=0.0, presort='deprecated',\n",
       "                       random_state=0, splitter='best')"
      ]
     },
     "execution_count": 72,
     "metadata": {},
     "output_type": "execute_result"
    }
   ],
   "source": [
    "tree_model.fit(X_train_scaled,y_train)"
   ]
  },
  {
   "cell_type": "code",
   "execution_count": 73,
   "metadata": {},
   "outputs": [],
   "source": [
    "tree_pred = tree_model.predict(X_test_scaled)"
   ]
  },
  {
   "cell_type": "code",
   "execution_count": 74,
   "metadata": {},
   "outputs": [
    {
     "data": {
      "text/plain": [
       "array([0, 1, 1, ..., 1, 1, 1], dtype=int64)"
      ]
     },
     "execution_count": 74,
     "metadata": {},
     "output_type": "execute_result"
    }
   ],
   "source": [
    "tree_pred"
   ]
  },
  {
   "cell_type": "markdown",
   "metadata": {},
   "source": [
    "### Model Evaluation"
   ]
  },
  {
   "cell_type": "code",
   "execution_count": 75,
   "metadata": {},
   "outputs": [
    {
     "data": {
      "text/plain": [
       "array([[ 126,  362],\n",
       "       [ 429, 1943]], dtype=int64)"
      ]
     },
     "execution_count": 75,
     "metadata": {},
     "output_type": "execute_result"
    }
   ],
   "source": [
    "cm = confusion_matrix(y_test,tree_pred)\n",
    "cm"
   ]
  },
  {
   "cell_type": "code",
   "execution_count": 76,
   "metadata": {},
   "outputs": [
    {
     "data": {
      "image/png": "[encoded data removed]",
      "text/plain": [
       "<Figure size 720x360 with 2 Axes>"
      ]
     },
     "metadata": {},
     "output_type": "display_data"
    }
   ],
   "source": [
    "fig , ax = plt.subplots(figsize=(10,5))\n",
    "sns.heatmap(cm, annot=True,fmt='.4g',linewidths=2, cmap='viridis')\n",
    "plt.ylabel('True label')\n",
    "plt.xlabel('Predicted label')\n",
    "plt.show()"
   ]
  },
  {
   "cell_type": "code",
   "execution_count": 77,
   "metadata": {},
   "outputs": [
    {
     "name": "stdout",
     "output_type": "stream",
     "text": [
      "              precision    recall  f1-score   support\n",
      "\n",
      "           0       0.23      0.26      0.24       488\n",
      "           1       0.84      0.82      0.83      2372\n",
      "\n",
      "    accuracy                           0.72      2860\n",
      "   macro avg       0.53      0.54      0.54      2860\n",
      "weighted avg       0.74      0.72      0.73      2860\n",
      "\n"
     ]
    }
   ],
   "source": [
    "print(classification_report(y_test,tree_pred))"
   ]
  },
  {
   "cell_type": "code",
   "execution_count": 78,
   "metadata": {},
   "outputs": [
    {
     "data": {
      "image/png": "[encoded data removed]",
      "text/plain": [
       "<Figure size 576x396 with 1 Axes>"
      ]
     },
     "metadata": {},
     "output_type": "display_data"
    }
   ],
   "source": [
    "plot_roc_curve(tree_model,X_test_scaled,y_test)\n",
    "plt.show()"
   ]
  },
  {
   "cell_type": "code",
   "execution_count": 79,
   "metadata": {},
   "outputs": [
    {
     "data": {
      "text/plain": [
       "array([0.05694713, 0.15835388, 0.08698303, 0.1383298 , 0.17797743,\n",
       "       0.17382195, 0.13278652, 0.07480025])"
      ]
     },
     "execution_count": 79,
     "metadata": {},
     "output_type": "execute_result"
    }
   ],
   "source": [
    "tree_model.feature_importances_"
   ]
  },
  {
   "cell_type": "code",
   "execution_count": 80,
   "metadata": {},
   "outputs": [
    {
     "data": {
      "text/plain": [
       "Index(['loan_amnt', 'int_rate', 'installment', 'annual_inc', 'revol_bal', 'revol_util', 'total_acc', 'acc_open_past_24mths'], dtype='object')"
      ]
     },
     "execution_count": 80,
     "metadata": {},
     "output_type": "execute_result"
    }
   ],
   "source": [
    "X.columns"
   ]
  },
  {
   "cell_type": "code",
   "execution_count": 81,
   "metadata": {},
   "outputs": [],
   "source": [
    "nn_model = MLPClassifier(random_state=0)"
   ]
  },
  {
   "cell_type": "code",
   "execution_count": 82,
   "metadata": {},
   "outputs": [
    {
     "data": {
      "text/plain": [
       "MLPClassifier(activation='relu', alpha=0.0001, batch_size='auto', beta_1=0.9,\n",
       "              beta_2=0.999, early_stopping=False, epsilon=1e-08,\n",
       "              hidden_layer_sizes=(100,), learning_rate='constant',\n",
       "              learning_rate_init=0.001, max_fun=15000, max_iter=200,\n",
       "              momentum=0.9, n_iter_no_change=10, nesterovs_momentum=True,\n",
       "              power_t=0.5, random_state=0, shuffle=True, solver='adam',\n",
       "              tol=0.0001, validation_fraction=0.1, verbose=False,\n",
       "              warm_start=False)"
      ]
     },
     "execution_count": 82,
     "metadata": {},
     "output_type": "execute_result"
    }
   ],
   "source": [
    "nn_model.fit(X_train_scaled,y_train)"
   ]
  },
  {
   "cell_type": "code",
   "execution_count": 83,
   "metadata": {},
   "outputs": [],
   "source": [
    "nn_pred =nn_model.predict(X_test_scaled)"
   ]
  },
  {
   "cell_type": "code",
   "execution_count": 84,
   "metadata": {},
   "outputs": [
    {
     "data": {
      "text/plain": [
       "array([1, 1, 1, ..., 0, 1, 1], dtype=int64)"
      ]
     },
     "execution_count": 84,
     "metadata": {},
     "output_type": "execute_result"
    }
   ],
   "source": [
    "nn_pred"
   ]
  },
  {
   "cell_type": "markdown",
   "metadata": {},
   "source": [
    "### Model Evaluation"
   ]
  },
  {
   "cell_type": "code",
   "execution_count": 85,
   "metadata": {},
   "outputs": [
    {
     "data": {
      "text/plain": [
       "array([[  13,  475],\n",
       "       [  10, 2362]], dtype=int64)"
      ]
     },
     "execution_count": 85,
     "metadata": {},
     "output_type": "execute_result"
    }
   ],
   "source": [
    "cm = confusion_matrix(y_test,nn_pred)\n",
    "cm"
   ]
  },
  {
   "cell_type": "code",
   "execution_count": 86,
   "metadata": {},
   "outputs": [
    {
     "data": {
      "image/png": "[encoded data removed]",
      "text/plain": [
       "<Figure size 720x360 with 2 Axes>"
      ]
     },
     "metadata": {},
     "output_type": "display_data"
    }
   ],
   "source": [
    "fig , ax = plt.subplots(figsize=(10,5))\n",
    "sns.heatmap(cm, annot=True,fmt='.4g',linewidths=2, cmap='viridis')\n",
    "plt.ylabel('True label')\n",
    "plt.xlabel('Predicted label')\n",
    "plt.show()"
   ]
  },
  {
   "cell_type": "code",
   "execution_count": 87,
   "metadata": {},
   "outputs": [
    {
     "name": "stdout",
     "output_type": "stream",
     "text": [
      "              precision    recall  f1-score   support\n",
      "\n",
      "           0       0.57      0.03      0.05       488\n",
      "           1       0.83      1.00      0.91      2372\n",
      "\n",
      "    accuracy                           0.83      2860\n",
      "   macro avg       0.70      0.51      0.48      2860\n",
      "weighted avg       0.79      0.83      0.76      2860\n",
      "\n"
     ]
    }
   ],
   "source": [
    "print(classification_report(y_test,nn_pred))"
   ]
  },
  {
   "cell_type": "code",
   "execution_count": 88,
   "metadata": {},
   "outputs": [
    {
     "data": {
      "image/png": "[encoded data removed]",
      "text/plain": [
       "<Figure size 576x396 with 1 Axes>"
      ]
     },
     "metadata": {},
     "output_type": "display_data"
    }
   ],
   "source": [
    "plot_roc_curve(nn_model,X_test_scaled,y_test)\n",
    "plt.show()"
   ]
  },
  {
   "cell_type": "code",
   "execution_count": null,
   "metadata": {},
   "outputs": [],
   "source": []
  },
  {
   "cell_type": "markdown",
   "metadata": {},
   "source": [
    "Part 2. Lenders would also like to predict the amount of losses. Even if a loan is bad, they can recover some of the money they lent. For this part of the project, you should only consider loans that have loan_status Charged Off. Create a new column called loss, which is the difference between loan_amnt and total_pymnt. Split the dataset into training and validation sets using a 60:40 split. "
   ]
  },
  {
   "cell_type": "code",
   "execution_count": 89,
   "metadata": {},
   "outputs": [],
   "source": [
    "df = pd.read_csv(\"loancleaned.csv\")"
   ]
  },
  {
   "cell_type": "code",
   "execution_count": 90,
   "metadata": {},
   "outputs": [
    {
     "data": {
      "text/html": [
       "<div>\n",
       "<style scoped>\n",
       "    .dataframe tbody tr th:only-of-type {\n",
       "        vertical-align: middle;\n",
       "    }\n",
       "\n",
       "    .dataframe tbody tr th {\n",
       "        vertical-align: top;\n",
       "    }\n",
       "\n",
       "    .dataframe thead th {\n",
       "        text-align: right;\n",
       "    }\n",
       "</style>\n",
       "<table border=\"1\" class=\"dataframe\">\n",
       "  <thead>\n",
       "    <tr style=\"text-align: right;\">\n",
       "      <th></th>\n",
       "      <th>loan_status</th>\n",
       "      <th>loan_amnt</th>\n",
       "      <th>int_rate</th>\n",
       "      <th>installment</th>\n",
       "      <th>annual_inc</th>\n",
       "      <th>revol_bal</th>\n",
       "      <th>revol_util</th>\n",
       "      <th>total_acc</th>\n",
       "      <th>acc_open_past_24mths</th>\n",
       "      <th>total_pymnt</th>\n",
       "      <th>loss</th>\n",
       "    </tr>\n",
       "  </thead>\n",
       "  <tbody>\n",
       "    <tr>\n",
       "      <th>0</th>\n",
       "      <td>1</td>\n",
       "      <td>24000</td>\n",
       "      <td>7.89</td>\n",
       "      <td>750.86</td>\n",
       "      <td>128000.00</td>\n",
       "      <td>28279.00</td>\n",
       "      <td>36.90</td>\n",
       "      <td>25.00</td>\n",
       "      <td>5.00</td>\n",
       "      <td>24948.45</td>\n",
       "      <td>-948.45</td>\n",
       "    </tr>\n",
       "    <tr>\n",
       "      <th>1</th>\n",
       "      <td>1</td>\n",
       "      <td>8000</td>\n",
       "      <td>6.68</td>\n",
       "      <td>245.85</td>\n",
       "      <td>41000.00</td>\n",
       "      <td>24377.00</td>\n",
       "      <td>51.00</td>\n",
       "      <td>29.00</td>\n",
       "      <td>2.00</td>\n",
       "      <td>8351.63</td>\n",
       "      <td>-351.63</td>\n",
       "    </tr>\n",
       "    <tr>\n",
       "      <th>2</th>\n",
       "      <td>1</td>\n",
       "      <td>12175</td>\n",
       "      <td>9.17</td>\n",
       "      <td>388.13</td>\n",
       "      <td>100000.00</td>\n",
       "      <td>21329.00</td>\n",
       "      <td>64.60</td>\n",
       "      <td>17.00</td>\n",
       "      <td>3.00</td>\n",
       "      <td>13205.91</td>\n",
       "      <td>-1030.91</td>\n",
       "    </tr>\n",
       "    <tr>\n",
       "      <th>3</th>\n",
       "      <td>0</td>\n",
       "      <td>6400</td>\n",
       "      <td>6.92</td>\n",
       "      <td>197.38</td>\n",
       "      <td>41900.00</td>\n",
       "      <td>14936.00</td>\n",
       "      <td>73.20</td>\n",
       "      <td>15.00</td>\n",
       "      <td>1.00</td>\n",
       "      <td>3550.38</td>\n",
       "      <td>2849.62</td>\n",
       "    </tr>\n",
       "    <tr>\n",
       "      <th>4</th>\n",
       "      <td>1</td>\n",
       "      <td>12600</td>\n",
       "      <td>6.68</td>\n",
       "      <td>387.22</td>\n",
       "      <td>73800.00</td>\n",
       "      <td>9904.00</td>\n",
       "      <td>20.70</td>\n",
       "      <td>25.00</td>\n",
       "      <td>4.00</td>\n",
       "      <td>13125.77</td>\n",
       "      <td>-525.77</td>\n",
       "    </tr>\n",
       "  </tbody>\n",
       "</table>\n",
       "</div>"
      ],
      "text/plain": [
       "   loan_status  loan_amnt  int_rate  installment  annual_inc  revol_bal  revol_util  total_acc  acc_open_past_24mths  total_pymnt     loss\n",
       "0            1      24000      7.89       750.86   128000.00   28279.00       36.90      25.00                  5.00     24948.45  -948.45\n",
       "1            1       8000      6.68       245.85    41000.00   24377.00       51.00      29.00                  2.00      8351.63  -351.63\n",
       "2            1      12175      9.17       388.13   100000.00   21329.00       64.60      17.00                  3.00     13205.91 -1030.91\n",
       "3            0       6400      6.92       197.38    41900.00   14936.00       73.20      15.00                  1.00      3550.38  2849.62\n",
       "4            1      12600      6.68       387.22    73800.00    9904.00       20.70      25.00                  4.00     13125.77  -525.77"
      ]
     },
     "execution_count": 90,
     "metadata": {},
     "output_type": "execute_result"
    }
   ],
   "source": [
    "df.head()"
   ]
  },
  {
   "cell_type": "code",
   "execution_count": 91,
   "metadata": {},
   "outputs": [
    {
     "data": {
      "text/plain": [
       "(7148, 11)"
      ]
     },
     "execution_count": 91,
     "metadata": {},
     "output_type": "execute_result"
    }
   ],
   "source": [
    "df.shape"
   ]
  },
  {
   "cell_type": "code",
   "execution_count": 92,
   "metadata": {},
   "outputs": [
    {
     "data": {
      "text/plain": [
       "Index(['loan_status', 'loan_amnt', 'int_rate', 'installment', 'annual_inc', 'revol_bal', 'revol_util', 'total_acc', 'acc_open_past_24mths', 'total_pymnt', 'loss'], dtype='object')"
      ]
     },
     "execution_count": 92,
     "metadata": {},
     "output_type": "execute_result"
    }
   ],
   "source": [
    "df.columns"
   ]
  },
  {
   "cell_type": "markdown",
   "metadata": {},
   "source": [
    "Build a linear regression model with loss as the dependent variable and all other variables except loan_amnt, total_pymnt, and loan_status as explanatory variables. Report adjusted R-squared and RMS Error on the validation data."
   ]
  },
  {
   "cell_type": "code",
   "execution_count": 93,
   "metadata": {},
   "outputs": [],
   "source": [
    "df2 = df[['int_rate', 'installment', 'annual_inc', \n",
    "          'revol_bal', 'revol_util', 'total_acc', 'acc_open_past_24mths','loss']]"
   ]
  },
  {
   "cell_type": "code",
   "execution_count": 94,
   "metadata": {},
   "outputs": [
    {
     "data": {
      "text/html": [
       "<div>\n",
       "<style scoped>\n",
       "    .dataframe tbody tr th:only-of-type {\n",
       "        vertical-align: middle;\n",
       "    }\n",
       "\n",
       "    .dataframe tbody tr th {\n",
       "        vertical-align: top;\n",
       "    }\n",
       "\n",
       "    .dataframe thead th {\n",
       "        text-align: right;\n",
       "    }\n",
       "</style>\n",
       "<table border=\"1\" class=\"dataframe\">\n",
       "  <thead>\n",
       "    <tr style=\"text-align: right;\">\n",
       "      <th></th>\n",
       "      <th>int_rate</th>\n",
       "      <th>installment</th>\n",
       "      <th>annual_inc</th>\n",
       "      <th>revol_bal</th>\n",
       "      <th>revol_util</th>\n",
       "      <th>total_acc</th>\n",
       "      <th>acc_open_past_24mths</th>\n",
       "      <th>loss</th>\n",
       "    </tr>\n",
       "  </thead>\n",
       "  <tbody>\n",
       "    <tr>\n",
       "      <th>0</th>\n",
       "      <td>7.89</td>\n",
       "      <td>750.86</td>\n",
       "      <td>128000.00</td>\n",
       "      <td>28279.00</td>\n",
       "      <td>36.90</td>\n",
       "      <td>25.00</td>\n",
       "      <td>5.00</td>\n",
       "      <td>-948.45</td>\n",
       "    </tr>\n",
       "    <tr>\n",
       "      <th>1</th>\n",
       "      <td>6.68</td>\n",
       "      <td>245.85</td>\n",
       "      <td>41000.00</td>\n",
       "      <td>24377.00</td>\n",
       "      <td>51.00</td>\n",
       "      <td>29.00</td>\n",
       "      <td>2.00</td>\n",
       "      <td>-351.63</td>\n",
       "    </tr>\n",
       "    <tr>\n",
       "      <th>2</th>\n",
       "      <td>9.17</td>\n",
       "      <td>388.13</td>\n",
       "      <td>100000.00</td>\n",
       "      <td>21329.00</td>\n",
       "      <td>64.60</td>\n",
       "      <td>17.00</td>\n",
       "      <td>3.00</td>\n",
       "      <td>-1030.91</td>\n",
       "    </tr>\n",
       "    <tr>\n",
       "      <th>3</th>\n",
       "      <td>6.92</td>\n",
       "      <td>197.38</td>\n",
       "      <td>41900.00</td>\n",
       "      <td>14936.00</td>\n",
       "      <td>73.20</td>\n",
       "      <td>15.00</td>\n",
       "      <td>1.00</td>\n",
       "      <td>2849.62</td>\n",
       "    </tr>\n",
       "    <tr>\n",
       "      <th>4</th>\n",
       "      <td>6.68</td>\n",
       "      <td>387.22</td>\n",
       "      <td>73800.00</td>\n",
       "      <td>9904.00</td>\n",
       "      <td>20.70</td>\n",
       "      <td>25.00</td>\n",
       "      <td>4.00</td>\n",
       "      <td>-525.77</td>\n",
       "    </tr>\n",
       "  </tbody>\n",
       "</table>\n",
       "</div>"
      ],
      "text/plain": [
       "   int_rate  installment  annual_inc  revol_bal  revol_util  total_acc  acc_open_past_24mths     loss\n",
       "0      7.89       750.86   128000.00   28279.00       36.90      25.00                  5.00  -948.45\n",
       "1      6.68       245.85    41000.00   24377.00       51.00      29.00                  2.00  -351.63\n",
       "2      9.17       388.13   100000.00   21329.00       64.60      17.00                  3.00 -1030.91\n",
       "3      6.92       197.38    41900.00   14936.00       73.20      15.00                  1.00  2849.62\n",
       "4      6.68       387.22    73800.00    9904.00       20.70      25.00                  4.00  -525.77"
      ]
     },
     "execution_count": 94,
     "metadata": {},
     "output_type": "execute_result"
    }
   ],
   "source": [
    "df2.head()"
   ]
  },
  {
   "cell_type": "markdown",
   "metadata": {},
   "source": [
    "### Train Test Split"
   ]
  },
  {
   "cell_type": "code",
   "execution_count": 95,
   "metadata": {},
   "outputs": [
    {
     "data": {
      "text/plain": [
       "(7148, 8)"
      ]
     },
     "execution_count": 95,
     "metadata": {},
     "output_type": "execute_result"
    }
   ],
   "source": [
    "df2.shape"
   ]
  },
  {
   "cell_type": "code",
   "execution_count": 96,
   "metadata": {},
   "outputs": [],
   "source": [
    "X = df2.iloc[:,:7]\n",
    "y = df2.iloc[:,7]"
   ]
  },
  {
   "cell_type": "code",
   "execution_count": 97,
   "metadata": {},
   "outputs": [
    {
     "data": {
      "text/plain": [
       "(array([[     7.89,    750.86, 128000.  , ...,     36.9 ,     25.  ,\n",
       "              5.  ],\n",
       "        [     6.68,    245.85,  41000.  , ...,     51.  ,     29.  ,\n",
       "              2.  ],\n",
       "        [     9.17,    388.13, 100000.  , ...,     64.6 ,     17.  ,\n",
       "              3.  ],\n",
       "        ...,\n",
       "        [     8.18,    433.59,  94000.  , ...,     55.8 ,     31.  ,\n",
       "              9.  ],\n",
       "        [    17.14,    684.98,  80000.  , ...,     71.1 ,     24.  ,\n",
       "              6.  ],\n",
       "        [    13.33,    148.96,  42000.  , ...,     30.  ,     16.  ,\n",
       "              9.  ]]),\n",
       " array([ -948.45   ,  -351.63   , -1030.91   , ...,  -387.90993,\n",
       "        -3022.23   ,  -531.39   ]))"
      ]
     },
     "execution_count": 97,
     "metadata": {},
     "output_type": "execute_result"
    }
   ],
   "source": [
    "X.values, y.values"
   ]
  },
  {
   "cell_type": "code",
   "execution_count": 98,
   "metadata": {},
   "outputs": [],
   "source": [
    "X_train, X_test, y_train, y_test = train_test_split(X, y, test_size=0.4, random_state=0)"
   ]
  },
  {
   "cell_type": "code",
   "execution_count": 99,
   "metadata": {},
   "outputs": [
    {
     "data": {
      "text/plain": [
       "((4288, 7), (2860, 7), (4288,), (2860,))"
      ]
     },
     "execution_count": 99,
     "metadata": {},
     "output_type": "execute_result"
    }
   ],
   "source": [
    "X_train.shape, X_test.shape, y_train.shape, y_test.shape"
   ]
  },
  {
   "cell_type": "markdown",
   "metadata": {},
   "source": [
    "## Feature Scaling"
   ]
  },
  {
   "cell_type": "code",
   "execution_count": 100,
   "metadata": {},
   "outputs": [
    {
     "data": {
      "text/html": [
       "<div>\n",
       "<style scoped>\n",
       "    .dataframe tbody tr th:only-of-type {\n",
       "        vertical-align: middle;\n",
       "    }\n",
       "\n",
       "    .dataframe tbody tr th {\n",
       "        vertical-align: top;\n",
       "    }\n",
       "\n",
       "    .dataframe thead th {\n",
       "        text-align: right;\n",
       "    }\n",
       "</style>\n",
       "<table border=\"1\" class=\"dataframe\">\n",
       "  <thead>\n",
       "    <tr style=\"text-align: right;\">\n",
       "      <th></th>\n",
       "      <th>int_rate</th>\n",
       "      <th>installment</th>\n",
       "      <th>annual_inc</th>\n",
       "      <th>revol_bal</th>\n",
       "      <th>revol_util</th>\n",
       "      <th>total_acc</th>\n",
       "      <th>acc_open_past_24mths</th>\n",
       "    </tr>\n",
       "  </thead>\n",
       "  <tbody>\n",
       "    <tr>\n",
       "      <th>1765</th>\n",
       "      <td>12.05</td>\n",
       "      <td>365.63</td>\n",
       "      <td>40000.00</td>\n",
       "      <td>10477.00</td>\n",
       "      <td>61.30</td>\n",
       "      <td>10.00</td>\n",
       "      <td>0.00</td>\n",
       "    </tr>\n",
       "    <tr>\n",
       "      <th>6593</th>\n",
       "      <td>10.99</td>\n",
       "      <td>340.44</td>\n",
       "      <td>45000.00</td>\n",
       "      <td>7060.00</td>\n",
       "      <td>27.60</td>\n",
       "      <td>21.00</td>\n",
       "      <td>9.00</td>\n",
       "    </tr>\n",
       "    <tr>\n",
       "      <th>3482</th>\n",
       "      <td>11.44</td>\n",
       "      <td>65.90</td>\n",
       "      <td>45000.00</td>\n",
       "      <td>13822.00</td>\n",
       "      <td>85.00</td>\n",
       "      <td>29.00</td>\n",
       "      <td>2.00</td>\n",
       "    </tr>\n",
       "    <tr>\n",
       "      <th>913</th>\n",
       "      <td>8.67</td>\n",
       "      <td>474.70</td>\n",
       "      <td>45000.00</td>\n",
       "      <td>11559.00</td>\n",
       "      <td>51.80</td>\n",
       "      <td>13.00</td>\n",
       "      <td>8.00</td>\n",
       "    </tr>\n",
       "    <tr>\n",
       "      <th>720</th>\n",
       "      <td>6.99</td>\n",
       "      <td>617.46</td>\n",
       "      <td>85000.00</td>\n",
       "      <td>27271.00</td>\n",
       "      <td>49.80</td>\n",
       "      <td>17.00</td>\n",
       "      <td>2.00</td>\n",
       "    </tr>\n",
       "    <tr>\n",
       "      <th>...</th>\n",
       "      <td>...</td>\n",
       "      <td>...</td>\n",
       "      <td>...</td>\n",
       "      <td>...</td>\n",
       "      <td>...</td>\n",
       "      <td>...</td>\n",
       "      <td>...</td>\n",
       "    </tr>\n",
       "    <tr>\n",
       "      <th>4931</th>\n",
       "      <td>8.18</td>\n",
       "      <td>314.20</td>\n",
       "      <td>44709.24</td>\n",
       "      <td>9645.00</td>\n",
       "      <td>78.40</td>\n",
       "      <td>6.00</td>\n",
       "      <td>0.00</td>\n",
       "    </tr>\n",
       "    <tr>\n",
       "      <th>3264</th>\n",
       "      <td>8.19</td>\n",
       "      <td>377.09</td>\n",
       "      <td>90000.00</td>\n",
       "      <td>4361.00</td>\n",
       "      <td>53.20</td>\n",
       "      <td>19.00</td>\n",
       "      <td>5.00</td>\n",
       "    </tr>\n",
       "    <tr>\n",
       "      <th>1653</th>\n",
       "      <td>7.89</td>\n",
       "      <td>193.98</td>\n",
       "      <td>109300.00</td>\n",
       "      <td>2791.00</td>\n",
       "      <td>17.40</td>\n",
       "      <td>29.00</td>\n",
       "      <td>4.00</td>\n",
       "    </tr>\n",
       "    <tr>\n",
       "      <th>2607</th>\n",
       "      <td>6.24</td>\n",
       "      <td>384.69</td>\n",
       "      <td>72000.00</td>\n",
       "      <td>12834.00</td>\n",
       "      <td>44.40</td>\n",
       "      <td>23.00</td>\n",
       "      <td>6.00</td>\n",
       "    </tr>\n",
       "    <tr>\n",
       "      <th>2732</th>\n",
       "      <td>12.29</td>\n",
       "      <td>373.56</td>\n",
       "      <td>30000.00</td>\n",
       "      <td>10157.00</td>\n",
       "      <td>71.50</td>\n",
       "      <td>26.00</td>\n",
       "      <td>3.00</td>\n",
       "    </tr>\n",
       "  </tbody>\n",
       "</table>\n",
       "<p>4288 rows × 7 columns</p>\n",
       "</div>"
      ],
      "text/plain": [
       "      int_rate  installment  annual_inc  revol_bal  revol_util  total_acc  acc_open_past_24mths\n",
       "1765     12.05       365.63    40000.00   10477.00       61.30      10.00                  0.00\n",
       "6593     10.99       340.44    45000.00    7060.00       27.60      21.00                  9.00\n",
       "3482     11.44        65.90    45000.00   13822.00       85.00      29.00                  2.00\n",
       "913       8.67       474.70    45000.00   11559.00       51.80      13.00                  8.00\n",
       "720       6.99       617.46    85000.00   27271.00       49.80      17.00                  2.00\n",
       "...        ...          ...         ...        ...         ...        ...                   ...\n",
       "4931      8.18       314.20    44709.24    9645.00       78.40       6.00                  0.00\n",
       "3264      8.19       377.09    90000.00    4361.00       53.20      19.00                  5.00\n",
       "1653      7.89       193.98   109300.00    2791.00       17.40      29.00                  4.00\n",
       "2607      6.24       384.69    72000.00   12834.00       44.40      23.00                  6.00\n",
       "2732     12.29       373.56    30000.00   10157.00       71.50      26.00                  3.00\n",
       "\n",
       "[4288 rows x 7 columns]"
      ]
     },
     "execution_count": 100,
     "metadata": {},
     "output_type": "execute_result"
    }
   ],
   "source": [
    "X_train"
   ]
  },
  {
   "cell_type": "code",
   "execution_count": 101,
   "metadata": {},
   "outputs": [],
   "source": [
    "scaler = StandardScaler()"
   ]
  },
  {
   "cell_type": "code",
   "execution_count": 102,
   "metadata": {},
   "outputs": [],
   "source": [
    "X_train_scaled = scaler.fit_transform(X_train)"
   ]
  },
  {
   "cell_type": "code",
   "execution_count": 103,
   "metadata": {},
   "outputs": [],
   "source": [
    "X_test_scaled = scaler.transform(X_test)"
   ]
  },
  {
   "cell_type": "code",
   "execution_count": 104,
   "metadata": {},
   "outputs": [
    {
     "data": {
      "text/plain": [
       "array([[ 0.50377436, -0.25484203, -0.9702612 , ...,  0.392761  ,\n",
       "        -1.43611301, -1.76980581],\n",
       "       [ 0.18387669, -0.36636399, -0.81123922, ..., -1.16744298,\n",
       "        -0.39787841,  1.64333425],\n",
       "       [ 0.31968231, -1.58181608, -0.81123922, ...,  1.48999645,\n",
       "         0.3572013 , -1.01133024],\n",
       "       ...,\n",
       "       [-0.7516731 , -1.01477629,  1.23378344, ..., -1.6396709 ,\n",
       "         0.3572013 , -0.25285467],\n",
       "       [-1.24962702, -0.170459  ,  0.04747947, ..., -0.38965583,\n",
       "        -0.20910848,  0.5056209 ],\n",
       "       [ 0.57620402, -0.21973409, -1.28830516, ...,  0.86498892,\n",
       "         0.07404641, -0.63209245]])"
      ]
     },
     "execution_count": 104,
     "metadata": {},
     "output_type": "execute_result"
    }
   ],
   "source": [
    "X_train_scaled"
   ]
  },
  {
   "cell_type": "code",
   "execution_count": 105,
   "metadata": {},
   "outputs": [
    {
     "data": {
      "text/plain": [
       "array([[ 0.69692013, -1.65079234, -1.17190107, ..., -0.94521808,\n",
       "        -1.53049797, -1.01133024],\n",
       "       [-0.36538157, -0.46221355, -1.55927862, ..., -1.1952211 ,\n",
       "        -0.86980323,  0.5056209 ],\n",
       "       [ 0.34684343, -0.85114582, -0.87484802, ..., -0.82021658,\n",
       "        -1.15295812, -0.25285467],\n",
       "       ...,\n",
       "       [ 2.37487394, -0.89785311, -1.73356671, ...,  0.7122093 ,\n",
       "        -1.15295812,  0.12638311],\n",
       "       [ 0.18387669,  0.15534095, -0.01612932, ..., -0.43595269,\n",
       "         0.6403562 , -0.63209245],\n",
       "       [ 1.18582034, -0.93889354, -0.33417328, ...,  1.10110287,\n",
       "        -0.02033855, -0.25285467]])"
      ]
     },
     "execution_count": 105,
     "metadata": {},
     "output_type": "execute_result"
    }
   ],
   "source": [
    "X_test_scaled"
   ]
  },
  {
   "cell_type": "code",
   "execution_count": 106,
   "metadata": {},
   "outputs": [],
   "source": [
    "lr_model = LinearRegression()"
   ]
  },
  {
   "cell_type": "code",
   "execution_count": 107,
   "metadata": {},
   "outputs": [
    {
     "data": {
      "text/plain": [
       "LinearRegression(copy_X=True, fit_intercept=True, n_jobs=None, normalize=False)"
      ]
     },
     "execution_count": 107,
     "metadata": {},
     "output_type": "execute_result"
    }
   ],
   "source": [
    "lr_model.fit(X_train_scaled,y_train)"
   ]
  },
  {
   "cell_type": "code",
   "execution_count": 108,
   "metadata": {},
   "outputs": [],
   "source": [
    "lr_pred = lr_model.predict(X_test_scaled)"
   ]
  },
  {
   "cell_type": "code",
   "execution_count": 109,
   "metadata": {},
   "outputs": [
    {
     "data": {
      "text/plain": [
       "array([-561.76473589, 1675.18658715,  361.45763664, ..., 2259.40168303,\n",
       "       1319.13062117,  421.44423646])"
      ]
     },
     "execution_count": 109,
     "metadata": {},
     "output_type": "execute_result"
    }
   ],
   "source": [
    "lr_pred"
   ]
  },
  {
   "cell_type": "markdown",
   "metadata": {},
   "source": [
    "### Model Evaluation"
   ]
  },
  {
   "cell_type": "code",
   "execution_count": 110,
   "metadata": {},
   "outputs": [
    {
     "data": {
      "text/plain": [
       "19037490.926135823"
      ]
     },
     "execution_count": 110,
     "metadata": {},
     "output_type": "execute_result"
    }
   ],
   "source": [
    "mse = mean_squared_error(y_test,lr_pred)\n",
    "mse"
   ]
  },
  {
   "cell_type": "code",
   "execution_count": 111,
   "metadata": {},
   "outputs": [
    {
     "data": {
      "text/plain": [
       "4363.197328351747"
      ]
     },
     "execution_count": 111,
     "metadata": {},
     "output_type": "execute_result"
    }
   ],
   "source": [
    "rmse = np.sqrt(mse)\n",
    "rmse"
   ]
  },
  {
   "cell_type": "code",
   "execution_count": 112,
   "metadata": {},
   "outputs": [
    {
     "data": {
      "text/plain": [
       "0.15423497566691768"
      ]
     },
     "execution_count": 112,
     "metadata": {},
     "output_type": "execute_result"
    }
   ],
   "source": [
    "r2score = r2_score(y_test,lr_pred)\n",
    "r2score"
   ]
  },
  {
   "cell_type": "code",
   "execution_count": 113,
   "metadata": {},
   "outputs": [
    {
     "data": {
      "text/plain": [
       "array([0.14225295, 0.19939092, 0.09168168, 0.12270643, 0.18287314])"
      ]
     },
     "execution_count": 113,
     "metadata": {},
     "output_type": "execute_result"
    }
   ],
   "source": [
    "cross_val_score(lr_model,X_test_scaled,y_test)"
   ]
  },
  {
   "cell_type": "code",
   "execution_count": 114,
   "metadata": {},
   "outputs": [
    {
     "data": {
      "text/plain": [
       "0.1435358691292421"
      ]
     },
     "execution_count": 114,
     "metadata": {},
     "output_type": "execute_result"
    }
   ],
   "source": [
    "lr_model.score(X_train_scaled,y_train)"
   ]
  },
  {
   "cell_type": "code",
   "execution_count": 115,
   "metadata": {},
   "outputs": [
    {
     "data": {
      "image/png": "[encoded data removed]",
      "text/plain": [
       "<Figure size 720x576 with 1 Axes>"
      ]
     },
     "metadata": {},
     "output_type": "display_data"
    }
   ],
   "source": [
    "fig, ax = plt.subplots(figsize=(10,8))\n",
    "sns.regplot(x=y_test, y=lr_pred, ax=ax)\n",
    "plt.title(\"Plot to compare actual vs predicted\", fontsize=20)\n",
    "plt.ylabel(\"Predicted\")\n",
    "plt.xlabel(\"Actual\")\n",
    "plt.show()"
   ]
  },
  {
   "cell_type": "markdown",
   "metadata": {},
   "source": [
    "#### Python code done by Dennis Lam"
   ]
  },
  {
   "cell_type": "code",
   "execution_count": null,
   "metadata": {},
   "outputs": [],
   "source": []
  }
 ],
 "metadata": {
  "kernelspec": {
   "display_name": "Python 3",
   "language": "python",
   "name": "python3"
  },
  "language_info": {
   "codemirror_mode": {
    "name": "ipython",
    "version": 3
   },
   "file_extension": ".py",
   "mimetype": "text/x-python",
   "name": "python",
   "nbconvert_exporter": "python",
   "pygments_lexer": "ipython3",
   "version": "3.8.8"
  }
 },
 "nbformat": 4,
 "nbformat_minor": 4
}
